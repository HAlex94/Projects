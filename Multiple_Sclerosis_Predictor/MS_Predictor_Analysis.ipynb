{
  "nbformat": 4,
  "nbformat_minor": 5,
  "metadata": {
    "noteable-chatgpt": {
      "create_notebook": {
        "openai_conversation_id": "8a7054c6-1555-551f-8ff7-f3f28502cf14",
        "openai_ephemeral_user_id": "3baa0215-969e-55c8-8179-221c765188fa",
        "openai_subdivision1_iso_code": "US-TX"
      }
    },
    "kernel_info": {
      "name": "python3"
    },
    "noteable": {
      "last_transaction_id": "9d1c3976-25a0-48a7-a2a6-49e271ee201e"
    },
    "kernelspec": {
      "display_name": "Python 3.9",
      "language": "python",
      "name": "python3"
    },
    "selected_hardware_size": "small"
  },
  "cells": [
    {
      "id": "41c2d0e8-9768-47dd-af18-a53ec4e4da63",
      "cell_type": "markdown",
      "source": "# Introduction\n## Dataset Overview\nThe dataset under analysis was collected from a study conducted on Mexican mestizo patients newly diagnosed with Clinically Isolated Syndrome (CIS) at the National Institute of Neurology and Neurosurgery (NINN) in Mexico City, Mexico, between 2006 and 2010. The primary objective of this analysis is to identify factors that predict the conversion of CIS to Multiple Sclerosis (MS).\n\nArticle: https://pubmed.ncbi.nlm.nih.gov/37429750/\n\n## Project Scope\nThe scope of this project includes:\n- Exploratory Data Analysis (EDA) to understand the distribution and relationships between different features.\n- Building and evaluating several machine learning models, including Logistic Regression, Random Forest, SVM, Gradient Boosting, and a Neural Network using TensorFlow, to predict whether a patient will have MS based on the given criteria.\n- Comparing the performance of these models using various metrics and visualizations.\n- Analyzing feature importance to understand the most influential factors in predicting the outcome.\n \n\nDataset:https://www.kaggle.com/datasets/surbhi1425/multiple-sclerosis-sample-data",
      "metadata": {
        "noteable": {
          "cell_type": "markdown"
        }
      }
    },
    {
      "id": "12d4006a-109a-4e16-9a3d-d92692ff1b74",
      "cell_type": "code",
      "metadata": {
        "noteable": {
          "cell_type": "code",
          "output_collection_id": "d3944e1d-df48-4d10-b838-531c17f6afe3"
        },
        "ExecuteTime": {
          "end_time": "2023-08-14T03:03:29.027758+00:00",
          "start_time": "2023-08-14T03:02:50.265224+00:00"
        }
      },
      "execution_count": null,
      "source": "!pip install pandas numpy matplotlib seaborn scikit-learn tensorflow",
      "outputs": []
    },
    {
      "id": "b43708ec-0131-4d57-9e18-cb94fadd34ac",
      "cell_type": "code",
      "metadata": {
        "noteable": {
          "cell_type": "code",
          "output_collection_id": "3c7949dc-18c0-4542-9706-3426a2681288"
        },
        "ExecuteTime": {
          "end_time": "2023-08-14T03:10:13.000620+00:00",
          "start_time": "2023-08-14T03:10:12.729104+00:00"
        },
        "datalink": {
          "3bf47339-8146-4618-9225-d7a9fdd3b539": {
            "applied_filters": [],
            "dataframe_info": {
              "default_index_used": true,
              "orig_num_cols": 20,
              "orig_num_rows": 5,
              "orig_size_bytes": 840,
              "truncated_num_cols": 20,
              "truncated_num_rows": 5,
              "truncated_size_bytes": 840,
              "truncated_string_columns": []
            },
            "display_id": "3bf47339-8146-4618-9225-d7a9fdd3b539",
            "dx_settings": {
              "ALLOW_NOTEABLE_ATTRS": true,
              "COLUMN_SAMPLING_METHOD": "outer",
              "DB_LOCATION": ":memory:",
              "DEV_MODE": false,
              "DISPLAY_MAX_COLUMNS": 100,
              "DISPLAY_MAX_ROWS": 50000,
              "DISPLAY_MODE": "simple",
              "ENABLE_ASSIGNMENT": true,
              "ENABLE_DATALINK": true,
              "FLATTEN_COLUMN_VALUES": true,
              "FLATTEN_INDEX_VALUES": false,
              "GENERATE_DEX_METADATA": false,
              "HTML_TABLE_SCHEMA": false,
              "LOG_LEVEL": 30,
              "MAX_RENDER_SIZE_BYTES": 104857600,
              "MAX_STRING_LENGTH": 250,
              "NUM_PAST_SAMPLES_TRACKED": 3,
              "RANDOM_STATE": 12648430,
              "RESET_INDEX_VALUES": false,
              "ROW_SAMPLING_METHOD": "random",
              "SAMPLING_FACTOR": 0.1,
              "SAMPLING_METHOD": "random",
              "STRINGIFY_COLUMN_VALUES": true,
              "STRINGIFY_INDEX_VALUES": false
            },
            "sample_history": [],
            "sampling_time": "2023-08-14T01:00:18.760220",
            "user_variable_name": null,
            "variable_name": "unk_dataframe_939c68b86df24858b498992b3cc3a054"
          },
          "8c59123f-7f26-4f40-bb1b-533258c73968": {
            "applied_filters": [],
            "dataframe_info": {
              "default_index_used": true,
              "orig_num_cols": 20,
              "orig_num_rows": 5,
              "orig_size_bytes": 840,
              "truncated_num_cols": 20,
              "truncated_num_rows": 5,
              "truncated_size_bytes": 840,
              "truncated_string_columns": []
            },
            "display_id": "8c59123f-7f26-4f40-bb1b-533258c73968",
            "dx_settings": {
              "ALLOW_NOTEABLE_ATTRS": true,
              "COLUMN_SAMPLING_METHOD": "outer",
              "DB_LOCATION": ":memory:",
              "DEV_MODE": false,
              "DISPLAY_MAX_COLUMNS": 100,
              "DISPLAY_MAX_ROWS": 50000,
              "DISPLAY_MODE": "simple",
              "ENABLE_ASSIGNMENT": true,
              "ENABLE_DATALINK": true,
              "FLATTEN_COLUMN_VALUES": true,
              "FLATTEN_INDEX_VALUES": false,
              "GENERATE_DEX_METADATA": false,
              "HTML_TABLE_SCHEMA": false,
              "LOG_LEVEL": 30,
              "MAX_RENDER_SIZE_BYTES": 104857600,
              "MAX_STRING_LENGTH": 250,
              "NUM_PAST_SAMPLES_TRACKED": 3,
              "RANDOM_STATE": 12648430,
              "RESET_INDEX_VALUES": false,
              "ROW_SAMPLING_METHOD": "random",
              "SAMPLING_FACTOR": 0.1,
              "SAMPLING_METHOD": "random",
              "STRINGIFY_COLUMN_VALUES": true,
              "STRINGIFY_INDEX_VALUES": false
            },
            "sample_history": [],
            "sampling_time": "2023-08-14T01:05:36.097664",
            "user_variable_name": null,
            "variable_name": "unk_dataframe_72a93970dcc543b18556d0fb93147741"
          },
          "ac269734-670c-42a1-96fe-d24d36dbebd4": {
            "applied_filters": [],
            "dataframe_info": {
              "default_index_used": true,
              "orig_num_cols": 20,
              "orig_num_rows": 5,
              "orig_size_bytes": 840,
              "truncated_num_cols": 20,
              "truncated_num_rows": 5,
              "truncated_size_bytes": 840,
              "truncated_string_columns": []
            },
            "display_id": "ac269734-670c-42a1-96fe-d24d36dbebd4",
            "dx_settings": {
              "ALLOW_NOTEABLE_ATTRS": true,
              "COLUMN_SAMPLING_METHOD": "outer",
              "DB_LOCATION": ":memory:",
              "DEV_MODE": false,
              "DISPLAY_MAX_COLUMNS": 100,
              "DISPLAY_MAX_ROWS": 50000,
              "DISPLAY_MODE": "simple",
              "ENABLE_ASSIGNMENT": true,
              "ENABLE_DATALINK": true,
              "FLATTEN_COLUMN_VALUES": true,
              "FLATTEN_INDEX_VALUES": false,
              "GENERATE_DEX_METADATA": false,
              "HTML_TABLE_SCHEMA": false,
              "LOG_LEVEL": 30,
              "MAX_RENDER_SIZE_BYTES": 104857600,
              "MAX_STRING_LENGTH": 250,
              "NUM_PAST_SAMPLES_TRACKED": 3,
              "RANDOM_STATE": 12648430,
              "RESET_INDEX_VALUES": false,
              "ROW_SAMPLING_METHOD": "random",
              "SAMPLING_FACTOR": 0.1,
              "SAMPLING_METHOD": "random",
              "STRINGIFY_COLUMN_VALUES": true,
              "STRINGIFY_INDEX_VALUES": false
            },
            "sample_history": [],
            "sampling_time": "2023-08-14T03:03:29.129064",
            "user_variable_name": null,
            "variable_name": "unk_dataframe_6cde8ebbb77c47e2b569d2a2759a1310"
          },
          "6a16efa2-24cc-4296-a21f-eaccfb2e0c4d": {
            "applied_filters": [],
            "dataframe_info": {
              "default_index_used": true,
              "orig_num_cols": 20,
              "orig_num_rows": 5,
              "orig_size_bytes": 840,
              "truncated_num_cols": 20,
              "truncated_num_rows": 5,
              "truncated_size_bytes": 840,
              "truncated_string_columns": []
            },
            "display_id": "6a16efa2-24cc-4296-a21f-eaccfb2e0c4d",
            "dx_settings": {
              "ALLOW_NOTEABLE_ATTRS": true,
              "COLUMN_SAMPLING_METHOD": "outer",
              "DB_LOCATION": ":memory:",
              "DEV_MODE": false,
              "DISPLAY_MAX_COLUMNS": 100,
              "DISPLAY_MAX_ROWS": 50000,
              "DISPLAY_MODE": "simple",
              "ENABLE_ASSIGNMENT": true,
              "ENABLE_DATALINK": true,
              "FLATTEN_COLUMN_VALUES": true,
              "FLATTEN_INDEX_VALUES": false,
              "GENERATE_DEX_METADATA": false,
              "HTML_TABLE_SCHEMA": false,
              "LOG_LEVEL": 30,
              "MAX_RENDER_SIZE_BYTES": 104857600,
              "MAX_STRING_LENGTH": 250,
              "NUM_PAST_SAMPLES_TRACKED": 3,
              "RANDOM_STATE": 12648430,
              "RESET_INDEX_VALUES": false,
              "ROW_SAMPLING_METHOD": "random",
              "SAMPLING_FACTOR": 0.1,
              "SAMPLING_METHOD": "random",
              "STRINGIFY_COLUMN_VALUES": true,
              "STRINGIFY_INDEX_VALUES": false
            },
            "sample_history": [],
            "sampling_time": "2023-08-14T03:05:32.308472",
            "user_variable_name": null,
            "variable_name": "unk_dataframe_68976554619f4514b3d8503f15c3d30f"
          },
          "5b409681-d91b-44ce-ab95-7cae4c8a436e": {
            "applied_filters": [],
            "dataframe_info": {
              "default_index_used": true,
              "orig_num_cols": 20,
              "orig_num_rows": 5,
              "orig_size_bytes": 840,
              "truncated_num_cols": 20,
              "truncated_num_rows": 5,
              "truncated_size_bytes": 840,
              "truncated_string_columns": []
            },
            "display_id": "5b409681-d91b-44ce-ab95-7cae4c8a436e",
            "dx_settings": {
              "ALLOW_NOTEABLE_ATTRS": true,
              "COLUMN_SAMPLING_METHOD": "outer",
              "DB_LOCATION": ":memory:",
              "DEV_MODE": false,
              "DISPLAY_MAX_COLUMNS": 100,
              "DISPLAY_MAX_ROWS": 50000,
              "DISPLAY_MODE": "simple",
              "ENABLE_ASSIGNMENT": true,
              "ENABLE_DATALINK": true,
              "FLATTEN_COLUMN_VALUES": true,
              "FLATTEN_INDEX_VALUES": false,
              "GENERATE_DEX_METADATA": false,
              "HTML_TABLE_SCHEMA": false,
              "LOG_LEVEL": 30,
              "MAX_RENDER_SIZE_BYTES": 104857600,
              "MAX_STRING_LENGTH": 250,
              "NUM_PAST_SAMPLES_TRACKED": 3,
              "RANDOM_STATE": 12648430,
              "RESET_INDEX_VALUES": false,
              "ROW_SAMPLING_METHOD": "random",
              "SAMPLING_FACTOR": 0.1,
              "SAMPLING_METHOD": "random",
              "STRINGIFY_COLUMN_VALUES": true,
              "STRINGIFY_INDEX_VALUES": false
            },
            "sample_history": [],
            "sampling_time": "2023-08-14T03:10:12.839699",
            "user_variable_name": null,
            "variable_name": "unk_dataframe_dbfcf34329bd453e81fcfcc4458b00c0"
          }
        }
      },
      "execution_count": null,
      "source": "import pandas as pd\n\n# Load the dataset\ndata_url = 'conversion_predictors_of_clinically_isolated_syndrome_to_multiple_sclerosis.csv'\ndf = pd.read_csv(data_url)\n\n# Display the first few rows of the dataset\ndf.head()",
      "outputs": []
    },
    {
      "id": "9f6dde10-2159-4928-816b-58c2fbdf0e98",
      "cell_type": "code",
      "metadata": {
        "noteable": {
          "cell_type": "code",
          "output_collection_id": "1a57b1d0-3c15-47cc-a143-935f7a944430"
        },
        "ExecuteTime": {
          "end_time": "2023-08-14T03:10:14.104416+00:00",
          "start_time": "2023-08-14T03:10:13.881572+00:00"
        },
        "datalink": {
          "faf60d9b-97a7-4fec-990b-ad50dfbbe805": {
            "applied_filters": [],
            "dataframe_info": {
              "default_index_used": false,
              "orig_num_cols": 1,
              "orig_num_rows": 20,
              "orig_size_bytes": 320,
              "truncated_num_cols": 1,
              "truncated_num_rows": 20,
              "truncated_size_bytes": 320,
              "truncated_string_columns": []
            },
            "display_id": "faf60d9b-97a7-4fec-990b-ad50dfbbe805",
            "dx_settings": {
              "ALLOW_NOTEABLE_ATTRS": true,
              "COLUMN_SAMPLING_METHOD": "outer",
              "DB_LOCATION": ":memory:",
              "DEV_MODE": false,
              "DISPLAY_MAX_COLUMNS": 100,
              "DISPLAY_MAX_ROWS": 50000,
              "DISPLAY_MODE": "simple",
              "ENABLE_ASSIGNMENT": true,
              "ENABLE_DATALINK": true,
              "FLATTEN_COLUMN_VALUES": true,
              "FLATTEN_INDEX_VALUES": false,
              "GENERATE_DEX_METADATA": false,
              "HTML_TABLE_SCHEMA": false,
              "LOG_LEVEL": 30,
              "MAX_RENDER_SIZE_BYTES": 104857600,
              "MAX_STRING_LENGTH": 250,
              "NUM_PAST_SAMPLES_TRACKED": 3,
              "RANDOM_STATE": 12648430,
              "RESET_INDEX_VALUES": false,
              "ROW_SAMPLING_METHOD": "random",
              "SAMPLING_FACTOR": 0.1,
              "SAMPLING_METHOD": "random",
              "STRINGIFY_COLUMN_VALUES": true,
              "STRINGIFY_INDEX_VALUES": false
            },
            "sample_history": [],
            "sampling_time": "2023-08-14T01:00:20.535598",
            "user_variable_name": null,
            "variable_name": "unk_dataframe_b5c6940d98ad4fbdb61ec7c82939016e"
          },
          "73fa1137-a700-440b-a480-01dfed0e7354": {
            "applied_filters": [],
            "dataframe_info": {
              "default_index_used": false,
              "orig_num_cols": 1,
              "orig_num_rows": 20,
              "orig_size_bytes": 320,
              "truncated_num_cols": 1,
              "truncated_num_rows": 20,
              "truncated_size_bytes": 320,
              "truncated_string_columns": []
            },
            "display_id": "73fa1137-a700-440b-a480-01dfed0e7354",
            "dx_settings": {
              "ALLOW_NOTEABLE_ATTRS": true,
              "COLUMN_SAMPLING_METHOD": "outer",
              "DB_LOCATION": ":memory:",
              "DEV_MODE": false,
              "DISPLAY_MAX_COLUMNS": 100,
              "DISPLAY_MAX_ROWS": 50000,
              "DISPLAY_MODE": "simple",
              "ENABLE_ASSIGNMENT": true,
              "ENABLE_DATALINK": true,
              "FLATTEN_COLUMN_VALUES": true,
              "FLATTEN_INDEX_VALUES": false,
              "GENERATE_DEX_METADATA": false,
              "HTML_TABLE_SCHEMA": false,
              "LOG_LEVEL": 30,
              "MAX_RENDER_SIZE_BYTES": 104857600,
              "MAX_STRING_LENGTH": 250,
              "NUM_PAST_SAMPLES_TRACKED": 3,
              "RANDOM_STATE": 12648430,
              "RESET_INDEX_VALUES": false,
              "ROW_SAMPLING_METHOD": "random",
              "SAMPLING_FACTOR": 0.1,
              "SAMPLING_METHOD": "random",
              "STRINGIFY_COLUMN_VALUES": true,
              "STRINGIFY_INDEX_VALUES": false
            },
            "sample_history": [],
            "sampling_time": "2023-08-14T03:03:29.810231",
            "user_variable_name": null,
            "variable_name": "unk_dataframe_c1c755c908e94b60a0360159910be1fb"
          },
          "67f5034e-43ca-40d8-b894-a9c21b2af197": {
            "applied_filters": [],
            "dataframe_info": {
              "default_index_used": false,
              "orig_num_cols": 1,
              "orig_num_rows": 20,
              "orig_size_bytes": 320,
              "truncated_num_cols": 1,
              "truncated_num_rows": 20,
              "truncated_size_bytes": 320,
              "truncated_string_columns": []
            },
            "display_id": "67f5034e-43ca-40d8-b894-a9c21b2af197",
            "dx_settings": {
              "ALLOW_NOTEABLE_ATTRS": true,
              "COLUMN_SAMPLING_METHOD": "outer",
              "DB_LOCATION": ":memory:",
              "DEV_MODE": false,
              "DISPLAY_MAX_COLUMNS": 100,
              "DISPLAY_MAX_ROWS": 50000,
              "DISPLAY_MODE": "simple",
              "ENABLE_ASSIGNMENT": true,
              "ENABLE_DATALINK": true,
              "FLATTEN_COLUMN_VALUES": true,
              "FLATTEN_INDEX_VALUES": false,
              "GENERATE_DEX_METADATA": false,
              "HTML_TABLE_SCHEMA": false,
              "LOG_LEVEL": 30,
              "MAX_RENDER_SIZE_BYTES": 104857600,
              "MAX_STRING_LENGTH": 250,
              "NUM_PAST_SAMPLES_TRACKED": 3,
              "RANDOM_STATE": 12648430,
              "RESET_INDEX_VALUES": false,
              "ROW_SAMPLING_METHOD": "random",
              "SAMPLING_FACTOR": 0.1,
              "SAMPLING_METHOD": "random",
              "STRINGIFY_COLUMN_VALUES": true,
              "STRINGIFY_INDEX_VALUES": false
            },
            "sample_history": [],
            "sampling_time": "2023-08-14T03:05:33.304891",
            "user_variable_name": null,
            "variable_name": "unk_dataframe_1666094d7cb84281b73bcd6cfc2b5c47"
          },
          "29cdac73-d0f0-47a8-82b1-0acedc070bc7": {
            "applied_filters": [],
            "dataframe_info": {
              "default_index_used": false,
              "orig_num_cols": 1,
              "orig_num_rows": 20,
              "orig_size_bytes": 320,
              "truncated_num_cols": 1,
              "truncated_num_rows": 20,
              "truncated_size_bytes": 320,
              "truncated_string_columns": []
            },
            "display_id": "29cdac73-d0f0-47a8-82b1-0acedc070bc7",
            "dx_settings": {
              "ALLOW_NOTEABLE_ATTRS": true,
              "COLUMN_SAMPLING_METHOD": "outer",
              "DB_LOCATION": ":memory:",
              "DEV_MODE": false,
              "DISPLAY_MAX_COLUMNS": 100,
              "DISPLAY_MAX_ROWS": 50000,
              "DISPLAY_MODE": "simple",
              "ENABLE_ASSIGNMENT": true,
              "ENABLE_DATALINK": true,
              "FLATTEN_COLUMN_VALUES": true,
              "FLATTEN_INDEX_VALUES": false,
              "GENERATE_DEX_METADATA": false,
              "HTML_TABLE_SCHEMA": false,
              "LOG_LEVEL": 30,
              "MAX_RENDER_SIZE_BYTES": 104857600,
              "MAX_STRING_LENGTH": 250,
              "NUM_PAST_SAMPLES_TRACKED": 3,
              "RANDOM_STATE": 12648430,
              "RESET_INDEX_VALUES": false,
              "ROW_SAMPLING_METHOD": "random",
              "SAMPLING_FACTOR": 0.1,
              "SAMPLING_METHOD": "random",
              "STRINGIFY_COLUMN_VALUES": true,
              "STRINGIFY_INDEX_VALUES": false
            },
            "sample_history": [],
            "sampling_time": "2023-08-14T03:10:13.947506",
            "user_variable_name": null,
            "variable_name": "unk_dataframe_e6b046614925405b8f7dfa6ba2f2199d"
          }
        }
      },
      "execution_count": null,
      "source": "# Check for missing values\nmissing_values = df.isnull().sum()\nmissing_values",
      "outputs": []
    },
    {
      "id": "40ec255a-c7b8-424e-a955-83a6b03ca8c5",
      "cell_type": "code",
      "metadata": {
        "noteable": {
          "cell_type": "code",
          "output_collection_id": "13bba361-278b-41a4-b741-2d4485c6e666"
        },
        "ExecuteTime": {
          "end_time": "2023-08-14T03:10:16.061378+00:00",
          "start_time": "2023-08-14T03:10:15.743695+00:00"
        },
        "datalink": {
          "645d6bde-5a31-4729-bb5c-61fdacc1a52c": {
            "applied_filters": [],
            "dataframe_info": {
              "default_index_used": false,
              "orig_num_cols": 20,
              "orig_num_rows": 8,
              "orig_size_bytes": 1344,
              "truncated_num_cols": 20,
              "truncated_num_rows": 8,
              "truncated_size_bytes": 1344,
              "truncated_string_columns": []
            },
            "display_id": "645d6bde-5a31-4729-bb5c-61fdacc1a52c",
            "dx_settings": {
              "ALLOW_NOTEABLE_ATTRS": true,
              "COLUMN_SAMPLING_METHOD": "outer",
              "DB_LOCATION": ":memory:",
              "DEV_MODE": false,
              "DISPLAY_MAX_COLUMNS": 100,
              "DISPLAY_MAX_ROWS": 50000,
              "DISPLAY_MODE": "simple",
              "ENABLE_ASSIGNMENT": true,
              "ENABLE_DATALINK": true,
              "FLATTEN_COLUMN_VALUES": true,
              "FLATTEN_INDEX_VALUES": false,
              "GENERATE_DEX_METADATA": false,
              "HTML_TABLE_SCHEMA": false,
              "LOG_LEVEL": 30,
              "MAX_RENDER_SIZE_BYTES": 104857600,
              "MAX_STRING_LENGTH": 250,
              "NUM_PAST_SAMPLES_TRACKED": 3,
              "RANDOM_STATE": 12648430,
              "RESET_INDEX_VALUES": false,
              "ROW_SAMPLING_METHOD": "random",
              "SAMPLING_FACTOR": 0.1,
              "SAMPLING_METHOD": "random",
              "STRINGIFY_COLUMN_VALUES": true,
              "STRINGIFY_INDEX_VALUES": false
            },
            "sample_history": [],
            "sampling_time": "2023-08-14T01:01:09.737136",
            "user_variable_name": null,
            "variable_name": "unk_dataframe_2a90a1d56a9b42b48ca8a1e1161f9e28"
          },
          "f3ebace4-dbda-400b-991c-d91dc1e83637": {
            "applied_filters": [],
            "dataframe_info": {
              "default_index_used": false,
              "orig_num_cols": 20,
              "orig_num_rows": 8,
              "orig_size_bytes": 1344,
              "truncated_num_cols": 20,
              "truncated_num_rows": 8,
              "truncated_size_bytes": 1344,
              "truncated_string_columns": []
            },
            "display_id": "f3ebace4-dbda-400b-991c-d91dc1e83637",
            "dx_settings": {
              "ALLOW_NOTEABLE_ATTRS": true,
              "COLUMN_SAMPLING_METHOD": "outer",
              "DB_LOCATION": ":memory:",
              "DEV_MODE": false,
              "DISPLAY_MAX_COLUMNS": 100,
              "DISPLAY_MAX_ROWS": 50000,
              "DISPLAY_MODE": "simple",
              "ENABLE_ASSIGNMENT": true,
              "ENABLE_DATALINK": true,
              "FLATTEN_COLUMN_VALUES": true,
              "FLATTEN_INDEX_VALUES": false,
              "GENERATE_DEX_METADATA": false,
              "HTML_TABLE_SCHEMA": false,
              "LOG_LEVEL": 30,
              "MAX_RENDER_SIZE_BYTES": 104857600,
              "MAX_STRING_LENGTH": 250,
              "NUM_PAST_SAMPLES_TRACKED": 3,
              "RANDOM_STATE": 12648430,
              "RESET_INDEX_VALUES": false,
              "ROW_SAMPLING_METHOD": "random",
              "SAMPLING_FACTOR": 0.1,
              "SAMPLING_METHOD": "random",
              "STRINGIFY_COLUMN_VALUES": true,
              "STRINGIFY_INDEX_VALUES": false
            },
            "sample_history": [],
            "sampling_time": "2023-08-14T03:03:30.116387",
            "user_variable_name": null,
            "variable_name": "unk_dataframe_1286cebf874940ef93d406aab6efb361"
          },
          "9a2c0bf2-cf58-4207-a6eb-5c6ceea1d5dc": {
            "applied_filters": [],
            "dataframe_info": {
              "default_index_used": false,
              "orig_num_cols": 20,
              "orig_num_rows": 8,
              "orig_size_bytes": 1344,
              "truncated_num_cols": 20,
              "truncated_num_rows": 8,
              "truncated_size_bytes": 1344,
              "truncated_string_columns": []
            },
            "display_id": "9a2c0bf2-cf58-4207-a6eb-5c6ceea1d5dc",
            "dx_settings": {
              "ALLOW_NOTEABLE_ATTRS": true,
              "COLUMN_SAMPLING_METHOD": "outer",
              "DB_LOCATION": ":memory:",
              "DEV_MODE": false,
              "DISPLAY_MAX_COLUMNS": 100,
              "DISPLAY_MAX_ROWS": 50000,
              "DISPLAY_MODE": "simple",
              "ENABLE_ASSIGNMENT": true,
              "ENABLE_DATALINK": true,
              "FLATTEN_COLUMN_VALUES": true,
              "FLATTEN_INDEX_VALUES": false,
              "GENERATE_DEX_METADATA": false,
              "HTML_TABLE_SCHEMA": false,
              "LOG_LEVEL": 30,
              "MAX_RENDER_SIZE_BYTES": 104857600,
              "MAX_STRING_LENGTH": 250,
              "NUM_PAST_SAMPLES_TRACKED": 3,
              "RANDOM_STATE": 12648430,
              "RESET_INDEX_VALUES": false,
              "ROW_SAMPLING_METHOD": "random",
              "SAMPLING_FACTOR": 0.1,
              "SAMPLING_METHOD": "random",
              "STRINGIFY_COLUMN_VALUES": true,
              "STRINGIFY_INDEX_VALUES": false
            },
            "sample_history": [],
            "sampling_time": "2023-08-14T03:05:35.423729",
            "user_variable_name": null,
            "variable_name": "unk_dataframe_d4bd137bda7c4652a83e9d78b0e3ce2b"
          },
          "5efffed7-8e9c-4bee-ba6d-7c1d02a159c8": {
            "applied_filters": [],
            "dataframe_info": {
              "default_index_used": false,
              "orig_num_cols": 20,
              "orig_num_rows": 8,
              "orig_size_bytes": 1344,
              "truncated_num_cols": 20,
              "truncated_num_rows": 8,
              "truncated_size_bytes": 1344,
              "truncated_string_columns": []
            },
            "display_id": "5efffed7-8e9c-4bee-ba6d-7c1d02a159c8",
            "dx_settings": {
              "ALLOW_NOTEABLE_ATTRS": true,
              "COLUMN_SAMPLING_METHOD": "outer",
              "DB_LOCATION": ":memory:",
              "DEV_MODE": false,
              "DISPLAY_MAX_COLUMNS": 100,
              "DISPLAY_MAX_ROWS": 50000,
              "DISPLAY_MODE": "simple",
              "ENABLE_ASSIGNMENT": true,
              "ENABLE_DATALINK": true,
              "FLATTEN_COLUMN_VALUES": true,
              "FLATTEN_INDEX_VALUES": false,
              "GENERATE_DEX_METADATA": false,
              "HTML_TABLE_SCHEMA": false,
              "LOG_LEVEL": 30,
              "MAX_RENDER_SIZE_BYTES": 104857600,
              "MAX_STRING_LENGTH": 250,
              "NUM_PAST_SAMPLES_TRACKED": 3,
              "RANDOM_STATE": 12648430,
              "RESET_INDEX_VALUES": false,
              "ROW_SAMPLING_METHOD": "random",
              "SAMPLING_FACTOR": 0.1,
              "SAMPLING_METHOD": "random",
              "STRINGIFY_COLUMN_VALUES": true,
              "STRINGIFY_INDEX_VALUES": false
            },
            "sample_history": [],
            "sampling_time": "2023-08-14T03:10:15.901509",
            "user_variable_name": null,
            "variable_name": "unk_dataframe_57c07b9b0b1c48f1a4e41d86535d96ab"
          }
        }
      },
      "execution_count": null,
      "source": "# Fill missing values with median\ndf['Initial_EDSS'].fillna(df['Initial_EDSS'].median(), inplace=True)\ndf['Final_EDSS'].fillna(df['Final_EDSS'].median(), inplace=True)\n\n# Get a summary of the numerical columns\ndf.describe()",
      "outputs": []
    },
    {
      "id": "f470e188-4f03-48f4-b4b1-0a72ef4d09ee",
      "cell_type": "code",
      "metadata": {
        "noteable": {
          "cell_type": "code",
          "output_collection_id": "e07420f8-c51d-43c6-803c-c9aa8b8fbdc0"
        },
        "ExecuteTime": {
          "end_time": "2023-08-14T03:10:17.836132+00:00",
          "start_time": "2023-08-14T03:10:17.230343+00:00"
        }
      },
      "execution_count": null,
      "source": "import matplotlib.pyplot as plt\nimport seaborn as sns\n\n# Set the style of the visualization\nsns.set(style='whitegrid')\n\n# Create a histogram for the Age column\nplt.figure(figsize=(10, 6))\nsns.histplot(df['Age'], kde=True, bins=30)\nplt.title('Distribution of Age')\nplt.xlabel('Age')\nplt.ylabel('Count')\nplt.show()",
      "outputs": []
    },
    {
      "id": "45125bdd-4cb7-4129-ade5-2e665ecb0946",
      "cell_type": "code",
      "metadata": {
        "noteable": {
          "cell_type": "code",
          "output_collection_id": "6ff15a61-557a-45cb-9a29-fcb901440bbf"
        },
        "ExecuteTime": {
          "end_time": "2023-08-14T03:10:19.348332+00:00",
          "start_time": "2023-08-14T03:10:18.750294+00:00"
        }
      },
      "execution_count": null,
      "source": "# Create a histogram for the Schooling column\nplt.figure(figsize=(10, 6))\nsns.histplot(df['Schooling'], kde=True, bins=15)\nplt.title('Distribution of Schooling (in years)')\nplt.xlabel('Schooling (in years)')\nplt.ylabel('Count')\nplt.show()",
      "outputs": []
    },
    {
      "id": "8e7f133b-3215-4d80-a2fe-42df84ef0657",
      "cell_type": "code",
      "metadata": {
        "noteable": {
          "cell_type": "code",
          "output_collection_id": "ab6ea894-a28d-4a56-b659-931035c126ed"
        },
        "ExecuteTime": {
          "end_time": "2023-08-14T03:10:21.014636+00:00",
          "start_time": "2023-08-14T03:10:20.539666+00:00"
        }
      },
      "execution_count": null,
      "source": "# Create a bar plot for the Gender column\nplt.figure(figsize=(8, 5))\nsns.countplot(x='Gender', data=df, palette='pastel')\nplt.title('Gender Distribution')\nplt.xlabel('Gender (1=Male, 2=Female)')\nplt.ylabel('Count')\nplt.show()",
      "outputs": []
    },
    {
      "id": "0369be13-b8e8-45f8-9f01-fc481d20b618",
      "cell_type": "code",
      "metadata": {
        "noteable": {
          "cell_type": "code",
          "output_collection_id": "c8459a2a-dfa0-4642-9a2a-7ed78bcb0496"
        },
        "ExecuteTime": {
          "end_time": "2023-08-14T03:10:21.987170+00:00",
          "start_time": "2023-08-14T03:10:21.294324+00:00"
        }
      },
      "execution_count": null,
      "source": "# Create a bar plot for the Initial_Symptom column\nplt.figure(figsize=(14, 7))\nsns.countplot(x='Initial_Symptom', data=df, palette='pastel')\nplt.title('Distribution of Initial Symptoms')\nplt.xlabel('Initial Symptom')\nplt.ylabel('Count')\nplt.xticks(rotation=45)\nplt.show()",
      "outputs": []
    },
    {
      "id": "b0b3c0db-bdc8-42c2-a60e-aaf042215adb",
      "cell_type": "markdown",
      "source": "### Legend for Initial Symptoms:\n- **1:** Visual\n- **2:** Sensory\n- **3:** Motor\n- **4:** Other\n- **5:** Visual and Sensory\n- **6:** Visual and Motor\n- **7:** Visual and Others\n- **8:** Sensory and Motor\n- **9:** Sensory and Other\n- **10:** Motor and Other\n- **11:** Visual, Sensory and Motor\n- **12:** Visual, Sensory and Other\n- **13:** Visual, Motor and Other\n- **14:** Sensory, Motor and Other\n- **15:** Visual, Sensory, Motor and Other\n\n### Modeling ",
      "metadata": {
        "noteable": {
          "cell_type": "markdown"
        }
      }
    },
    {
      "id": "1ac3dd5b-0285-44b9-9877-9328e8b5ce45",
      "cell_type": "code",
      "metadata": {
        "noteable": {
          "cell_type": "code",
          "output_collection_id": "befff349-4da2-4298-8839-0905dace2535"
        },
        "ExecuteTime": {
          "end_time": "2023-08-14T03:10:27.275802+00:00",
          "start_time": "2023-08-14T03:10:27.108916+00:00"
        }
      },
      "execution_count": null,
      "source": "# Splitting the data into features (X) and target (y) using the correct column name\nX = df.drop('group', axis=1)\ny = df['group']\n\n# Display the first few rows of features and target\nX.head(), y.head()",
      "outputs": []
    },
    {
      "id": "84f33641-5524-4d29-8df9-9d9be460d9da",
      "cell_type": "code",
      "metadata": {
        "noteable": {
          "cell_type": "code",
          "output_collection_id": "4231482e-e60a-47da-b01c-89169b9b16a5"
        },
        "ExecuteTime": {
          "end_time": "2023-08-14T03:10:30.608113+00:00",
          "start_time": "2023-08-14T03:10:30.430728+00:00"
        }
      },
      "execution_count": null,
      "source": "from sklearn.model_selection import train_test_split\nfrom sklearn.preprocessing import StandardScaler\n\n# Removing the 'Unnamed: 0' column \nX = X.drop('Unnamed: 0', axis=1)\n\n# Splitting the data into training and testing sets (80% train, 20% test)\nX_train, X_test, y_train, y_test = train_test_split(X, y, test_size=0.2, random_state=42)\n\n# Standardizing the data\nscaler = StandardScaler()\nX_train = scaler.fit_transform(X_train)\nX_test = scaler.transform(X_test)\n\n# Displaying the shapes of the training and testing sets\nX_train.shape, X_test.shape, y_train.shape, y_test.shape",
      "outputs": []
    },
    {
      "id": "0c16a571-cc1c-4976-8460-f9a322f40cb8",
      "cell_type": "code",
      "metadata": {
        "noteable": {
          "cell_type": "code",
          "output_collection_id": "7a1d06f5-1480-4df3-8793-ebecc87c98c5"
        },
        "ExecuteTime": {
          "end_time": "2023-08-14T03:10:33.396041+00:00",
          "start_time": "2023-08-14T03:10:33.236082+00:00"
        }
      },
      "execution_count": null,
      "source": "from sklearn.impute import SimpleImputer\n\n# Imputing missing values using the median of the respective columns\nimputer = SimpleImputer(strategy='median')\nX_train= imputer.fit_transform(X_train)\nX_test= imputer.transform(X_test)",
      "outputs": []
    },
    {
      "id": "b9ef4859-e10b-45f7-9891-485079041551",
      "cell_type": "code",
      "metadata": {
        "noteable": {
          "cell_type": "code",
          "output_collection_id": "73664b61-86f1-4894-a82f-c926d9798e12"
        },
        "ExecuteTime": {
          "end_time": "2023-08-14T03:56:48.084558+00:00",
          "start_time": "2023-08-14T03:56:47.615268+00:00"
        }
      },
      "execution_count": null,
      "source": "from sklearn.linear_model import LogisticRegression\nfrom sklearn.ensemble import RandomForestClassifier, GradientBoostingClassifier\nfrom sklearn.svm import SVC\nfrom sklearn.metrics import accuracy_score\n\ndef run_models(X_train, y_train, X_test, y_test):\n    # Initializing the models\n    lr = LogisticRegression(random_state=42)\n    rf = RandomForestClassifier(random_state=42)\n    svm = SVC(random_state=42)\n    gbc = GradientBoostingClassifier(random_state=42)\n\n    # Fitting the models\n    lr.fit(X_train, y_train)\n    rf.fit(X_train, y_train)\n    svm.fit(X_train, y_train)\n    gbc.fit(X_train, y_train)\n\n    # Making predictions\n    lr_pred = lr.predict(X_test)\n    rf_pred = rf.predict(X_test)\n    svm_pred = svm.predict(X_test)\n    gbc_pred = gbc.predict(X_test)\n\n    # Calculating accuracies\n    lr_acc = accuracy_score(y_test, lr_pred)\n    rf_acc = accuracy_score(y_test, rf_pred)\n    svm_acc = accuracy_score(y_test, svm_pred)\n    gbc_acc = accuracy_score(y_test, gbc_pred)\n    \n    models = {\n        'Logistic Regression': lr,\n        'Random Forest': rf,\n        'SVM': svm,\n        'Gradient Boosting': gbc\n    }\n    accuracies = {\n        'Logistic Regression': lr_acc,\n        'Random Forest': rf_acc,\n        'SVM': svm_acc,\n        'Gradient Boosting': gbc_acc\n    }\n\n    predictions = {\n        'Logistic Regression': lr_pred,\n        'Random Forest': rf_pred,\n        'SVM': svm_pred,\n        'Gradient Boosting': gbc_pred\n    }\n\n    return models, accuracies, predictions\n\n\n# Running the models and displaying the accuracies & preds\nmodels, model_accuracies, model_predictions = run_models(X_train, y_train, X_test, y_test)\nprint(f\"Accuracies:{model_accuracies}\")",
      "outputs": []
    },
    {
      "id": "d740c8cd-5744-4191-995c-c6330e0f6cf2",
      "cell_type": "code",
      "metadata": {
        "noteable": {
          "cell_type": "code",
          "output_collection_id": "14dec8f0-448b-422d-8206-c52a54403efa"
        },
        "ExecuteTime": {
          "end_time": "2023-08-14T03:24:50.783485+00:00",
          "start_time": "2023-08-14T03:24:43.537989+00:00"
        }
      },
      "execution_count": null,
      "source": "import tensorflow as tf\nfrom tensorflow.keras.models import Sequential\nfrom tensorflow.keras.layers import Dense, Dropout\nfrom tensorflow.keras.optimizers import Adam\n\n# Define the neural network model\nmodel = Sequential()\nmodel.add(Dense(32, input_dim=X_train.shape[1], activation='relu'))\nmodel.add(Dropout(0.5))\nmodel.add(Dense(16, activation='relu'))\nmodel.add(Dropout(0.5))\nmodel.add(Dense(1, activation='sigmoid'))\n\n# Compile the model\nmodel.compile(loss='binary_crossentropy', optimizer=Adam(learning_rate=0.001), metrics=['accuracy'])\n\n# Train the model\nhistory = model.fit(X_train, y_train, epochs=50, batch_size=10, validation_data=(X_test, y_test), verbose=0)\n\n# Evaluate the model\nloss, accuracy = model.evaluate(X_test, y_test, verbose=0)\naccuracy",
      "outputs": []
    },
    {
      "id": "36b216c9-b9b2-43e2-b3c3-b8370aa7b97b",
      "cell_type": "code",
      "metadata": {
        "jupyter": {
          "outputs_hidden": false,
          "source_hidden": false
        },
        "noteable": {
          "cell_type": "code",
          "output_collection_id": "a607bf4e-210e-4621-a8c2-b3a688509c6f"
        },
        "ExecuteTime": {
          "end_time": "2023-08-14T03:29:02.781817+00:00",
          "start_time": "2023-08-14T03:29:02.545595+00:00"
        }
      },
      "execution_count": null,
      "source": "#make prediction\nnn_pred = model.predict(X_test)\nnn_pred",
      "outputs": []
    },
    {
      "id": "f9289e3f-ae5e-4c8e-bfd5-d68c1e1c3496",
      "cell_type": "code",
      "metadata": {
        "noteable": {
          "cell_type": "code",
          "output_collection_id": "2363e009-effb-4aee-93c5-4e5324ef8a23"
        },
        "ExecuteTime": {
          "end_time": "2023-08-14T03:25:02.033565+00:00",
          "start_time": "2023-08-14T03:25:01.462471+00:00"
        }
      },
      "execution_count": null,
      "source": "import matplotlib.pyplot as plt\nimport seaborn as sns\n\n# Adding the TensorFlow Neural Network accuracy to the model_accuracies dictionary\nmodel_accuracies['TensorFlow NN'] = accuracy\n\n# Plotting the model accuracies\nplt.figure(figsize=(12, 6))\nsns.barplot(x=list(model_accuracies.keys()), y=list(model_accuracies.values()), palette='viridis')\nplt.ylim(0, 1)\nplt.ylabel('Accuracy')\nplt.title('Model Accuracies Comparison')\nplt.xticks(rotation=45)\nplt.tight_layout()\nplt.show()",
      "outputs": []
    },
    {
      "id": "e6bfba93-c962-41ec-bb17-f60aedef1f0b",
      "cell_type": "code",
      "metadata": {
        "noteable": {
          "cell_type": "code",
          "output_collection_id": "11e40520-2ddd-47f5-83c5-d3d3141f3c15"
        },
        "ExecuteTime": {
          "end_time": "2023-08-14T03:29:15.081380+00:00",
          "start_time": "2023-08-14T03:29:11.840511+00:00"
        }
      },
      "execution_count": null,
      "source": "import matplotlib.pyplot as plt\nimport seaborn as sns\nfrom sklearn.metrics import confusion_matrix\n\n# Generating confusion matrices and visualizing them\nfig, axes = plt.subplots(nrows=2, ncols=3, figsize=(15, 10))\nfig.suptitle('Confusion Matrices for Different Models', fontsize=16)\n\nmodels = ['Logistic Regression', 'Random Forest', 'SVM', 'Gradient Boosting', 'TensorFlow NN']\nlr_pred, rf_pred, svm_pred, gbc_pred = model_predictions.values()\npredictions = [lr_pred, rf_pred, svm_pred, gbc_pred, nn_pred]\n\nfor ax, model, pred in zip(axes.flatten(), models, predictions):\n    sns.heatmap(confusion_matrix(y_test, pred), annot=True, fmt='g', ax=ax, cmap='Blues')\n    ax.set_title(model)\n    ax.set_xlabel('Predicted labels')\n    ax.set_ylabel('True labels')\n\n# Removing the last empty subplot\nfig.delaxes(axes[1,2])\nplt.tight_layout()\nplt.subplots_adjust(top=0.9)\nplt.show()",
      "outputs": []
    },
    {
      "id": "d9a4b093-0edc-4fb3-a6bd-199c670f0802",
      "cell_type": "code",
      "metadata": {
        "noteable": {
          "cell_type": "code",
          "output_collection_id": "9d812f52-e4e4-4446-9f3c-e624ef616a2c"
        },
        "ExecuteTime": {
          "end_time": "2023-08-14T04:01:41.663145+00:00",
          "start_time": "2023-08-14T04:01:40.630304+00:00"
        }
      },
      "execution_count": null,
      "source": "# Extract models from `models`\nlr_model, rf_model, svm_model, gbc_model = models.values()\n\n# Feature importance for Random Forest and Gradient Boosting\nrf_importance = rf_model.feature_importances_\ngbc_importance = gbc_model.feature_importances_\n\n# Creating a DataFrame for visualization\nfeatures = X.columns\nimportance_data = pd.DataFrame({'Feature': features, 'Random Forest': rf_importances, 'Gradient Boosting': gbc_importances})\nimportance_data = importance_data.melt(id_vars='Feature', var_name='Model', value_name='Importance')\n\n# Plotting feature importances\nplt.figure(figsize=(15, 10))\nsns.barplot(x='Importance', y='Feature', hue='Model', data=importance_data, palette='viridis')\nplt.title('Feature Importances for Random Forest and Gradient Boosting Models')\nplt.tight_layout()\nplt.show()",
      "outputs": []
    },
    {
      "id": "934b2376-902a-45f9-99ad-b72e425a6138",
      "cell_type": "code",
      "metadata": {
        "noteable": {
          "cell_type": "code",
          "output_collection_id": "8db63d5a-a9bd-484f-b4dd-ccd4d8d2083a"
        },
        "ExecuteTime": {
          "end_time": "2023-08-14T03:29:23.083550+00:00",
          "start_time": "2023-08-14T03:29:22.898191+00:00"
        }
      },
      "execution_count": null,
      "source": "from sklearn.metrics import classification_report\n\n# Generating classification reports for each model\nclassification_reports = {}\nfor model, pred in zip(models, predictions):\n    report = classification_report(y_test, pred, output_dict=True)\n    classification_reports[model] = report\n\nclassification_reports",
      "outputs": []
    },
    {
      "id": "392a786b-ef2e-4fa1-b83e-dc588d6a9bb2",
      "cell_type": "code",
      "metadata": {
        "noteable": {
          "cell_type": "code",
          "output_collection_id": "0af22448-3f42-495f-b434-b3381f2dcf0b"
        },
        "ExecuteTime": {
          "end_time": "2023-08-14T03:29:32.924848+00:00",
          "start_time": "2023-08-14T03:29:29.631019+00:00"
        }
      },
      "execution_count": null,
      "source": "# Visualizing the classification reports\nfig, axes = plt.subplots(nrows=3, ncols=2, figsize=(15, 20))\nfig.suptitle('Classification Reports for Different Models', fontsize=16, y=1.05)\n\nfor ax, (model, report) in zip(axes.flatten(), classification_reports.items()):\n    df_report = pd.DataFrame(report).transpose()\n    sns.heatmap(df_report.iloc[:-1, :-1], annot=True, fmt='.2f', cmap='Blues', ax=ax)\n    ax.set_title(model)\n\n# Removing the last empty subplot\nfig.delaxes(axes[2,1])\nplt.tight_layout()\nplt.show()",
      "outputs": []
    },
    {
      "id": "5bef2546-8148-496e-b006-147146abe5d5",
      "cell_type": "code",
      "metadata": {
        "noteable": {
          "cell_type": "code",
          "output_collection_id": "627c1aac-28ea-4164-a74c-32d4eaab3b4f"
        },
        "ExecuteTime": {
          "end_time": "2023-08-14T03:45:00.134457+00:00",
          "start_time": "2023-08-14T03:44:59.331472+00:00"
        }
      },
      "execution_count": null,
      "source": "# Adjusting the labels for ROC curve plotting\ny_test_adj = y_test - 1\npredictions_adj = [pred - 1 for pred in predictions]\n\n# Plotting ROC Curve for each model\nplt.figure(figsize=(10, 8))\nfor model, pred in zip(models, predictions_adj):\n    fpr, tpr, thresholds = roc_curve(y_test_adj, pred)\n    roc_auc = auc(fpr, tpr)\n    plt.plot(fpr, tpr, label='%s (AUC = %0.2f)' % (model, roc_auc))\n\nplt.plot([0, 1], [0, 1], 'k--')\nplt.xlim([0.0, 1.0])\nplt.ylim([0.0, 1.05])\nplt.xlabel('False Positive Rate')\nplt.ylabel('True Positive Rate')\nplt.title('Receiver Operating Characteristic (ROC) Curve')\nplt.legend(loc='lower right')\nplt.tight_layout()\nplt.show()",
      "outputs": []
    },
    {
      "id": "8e8fdc54-217d-48ff-a948-6bc13085769d",
      "cell_type": "markdown",
      "source": "# Overall Conclusion\n\nThe analysis of the dataset, which focuses on predicting the conversion of Clinically Isolated Syndrome (CIS) to Multiple Sclerosis (MS) in Mexican mestizo patients, encompassed both Exploratory Data Analysis (EDA) and model training and evaluation. Here's a combined conclusion of the entire analysis:\n\n## Exploratory Data Analysis (EDA):\n- The dataset revealed an imbalance in the target variable, with a predominant number of patients not converting to Multiple Sclerosis (non-CDMS).\n- Age distribution indicated a higher concentration of CIS diagnosis in patients in their late twenties to early forties.\n- Gender distribution showed a higher number of female patients, suggesting a potential gender predisposition towards CIS or MS.\n- Various initial symptoms were observed, with 'Visual' and 'Sensory' symptoms being the most common.\n- MRI results, especially `Periventricular_MRI`, `Cortical_MRI`, and `Infratentorial_MRI`, had a significant number of positive results, emphasizing their importance in the diagnosis.\n- A major challenge in the dataset was the presence of numerous missing values, which required imputation techniques to handle.\n\n## Model Analysis:\n- Multiple machine learning models, including Logistic Regression, Random Forest, Support Vector Machine, Gradient Boosting, and a Neural Network using TensorFlow, were trained on the dataset.\n- The Gradient Boosting model and the Support Vector Machine (SVM) demonstrated the highest performance metrics, with the TensorFlow Neural Network also showing promising results.\n- Feature importance analysis highlighted `initial_EDSS`, `Age`, and `Schooling` as the most influential features in predicting the outcome.\n- The ROC curve and AUC analysis provided a comparative performance evaluation of the models, aiding in model selection for potential deployment.\n\nIn summary, the comprehensive analysis provided valuable insights into the factors influencing the conversion of CIS to MS and identified robust machine learning models for prediction. While the analysis achieved significant results, the presence of missing values and potential biases in the dataset are limitations that need to be addressed in future studies. The insights and models derived from this analysis can serve as a foundation for further research and clinical decision-making in the domain of Multiple Sclerosis.",
      "metadata": {
        "noteable": {
          "cell_type": "markdown"
        }
      }
    }
  ]
}