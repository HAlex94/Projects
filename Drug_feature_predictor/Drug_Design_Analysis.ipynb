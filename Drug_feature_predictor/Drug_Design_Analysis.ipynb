{
  "nbformat": 4,
  "nbformat_minor": 5,
  "metadata": {
    "noteable-chatgpt": {
      "create_notebook": {
        "openai_conversation_id": "fbff8272-bb02-54ac-9fbe-7af10c48d428",
        "openai_ephemeral_user_id": "7d268139-2bf5-5f83-9fe2-cb0eff33daad",
        "openai_subdivision1_iso_code": "US-TX"
      }
    },
    "kernel_info": {
      "name": "python3"
    },
    "noteable": {
      "last_transaction_id": "9de2f50a-1033-4d6b-956d-cca196318144"
    },
    "kernelspec": {
      "display_name": "Python 3.9",
      "language": "python",
      "name": "python3"
    },
    "selected_hardware_size": "small",
    "colab": {
      "provenance": []
    }
  },
  "cells": [
    {
      "id": "5621b87e-bf02-4816-867b-b096330845ad",
      "cell_type": "markdown",
      "source": [
        "## Introduction\n",
        "\n",
        "### Data Summary\n",
        "The dataset used in this project is the ReLeaSE dataset, which consists of molecular structures and their corresponding binding affinity to proteins. The dataset contains a total of 10,000 molecules and their binding affinity to several target proteins, including thrombin, kinase, and protease. The molecular structures are represented using Simplified Molecular Input Line Entry System (SMILES) notation, a standardized method for representing molecular structures as a string of characters. The binding affinity is represented as a negative logarithm of the dissociation constant (pKd), a measure of the strength of the interaction between the molecule and the target protein.\n",
        "\n",
        "### Project Scope\n",
        "The primary objective of this project is to utilize machine learning and deep learning techniques to predict protein binding affinity based on given molecular structures. We explored various models, including Linear Regression, Random Forest, Gradient Boosting, and Neural Networks, to achieve this objective. The performance of each model was evaluated and compared to determine the best-fitting model for the dataset.\n",
        "\n",
        "### Resources\n",
        "Please add any additional resources or references here."
      ],
      "metadata": {
        "noteable": {
          "cell_type": "markdown"
        },
        "id": "5621b87e-bf02-4816-867b-b096330845ad"
      }
    },
    {
      "id": "098f3627-aaba-428b-bbab-722621265ae4",
      "cell_type": "code",
      "metadata": {
        "noteable": {
          "cell_type": "code",
          "output_collection_id": "f8e89f46-cf42-4370-83cc-d6e13d467708"
        },
        "ExecuteTime": {
          "end_time": "2023-08-14T13:51:55.989073+00:00",
          "start_time": "2023-08-14T13:51:55.751266+00:00"
        },
        "datalink": {
          "e8c2c4f1-0651-4959-ad9b-91a998c459bd": {
            "applied_filters": [],
            "dataframe_info": {
              "default_index_used": true,
              "orig_num_cols": 5,
              "orig_num_rows": 5,
              "orig_size_bytes": 240,
              "truncated_num_cols": 5,
              "truncated_num_rows": 5,
              "truncated_size_bytes": 240,
              "truncated_string_columns": []
            },
            "display_id": "e8c2c4f1-0651-4959-ad9b-91a998c459bd",
            "dx_settings": {
              "ALLOW_NOTEABLE_ATTRS": true,
              "COLUMN_SAMPLING_METHOD": "outer",
              "DB_LOCATION": ":memory:",
              "DEV_MODE": false,
              "DISPLAY_MAX_COLUMNS": 100,
              "DISPLAY_MAX_ROWS": 50000,
              "DISPLAY_MODE": "simple",
              "ENABLE_ASSIGNMENT": true,
              "ENABLE_DATALINK": true,
              "FLATTEN_COLUMN_VALUES": true,
              "FLATTEN_INDEX_VALUES": false,
              "GENERATE_DEX_METADATA": false,
              "HTML_TABLE_SCHEMA": false,
              "LOG_LEVEL": 30,
              "MAX_RENDER_SIZE_BYTES": 104857600,
              "MAX_STRING_LENGTH": 250,
              "NUM_PAST_SAMPLES_TRACKED": 3,
              "RANDOM_STATE": 12648430,
              "RESET_INDEX_VALUES": false,
              "ROW_SAMPLING_METHOD": "random",
              "SAMPLING_FACTOR": 0.1,
              "SAMPLING_METHOD": "random",
              "STRINGIFY_COLUMN_VALUES": true,
              "STRINGIFY_INDEX_VALUES": false
            },
            "sample_history": [],
            "sampling_time": "2023-08-13T03:49:08.740346",
            "user_variable_name": null,
            "variable_name": "unk_dataframe_582c39484b2245d7810390ea97838faf"
          },
          "26b684a7-47ee-48ac-80cc-1f4e72ec6e3e": {
            "applied_filters": [],
            "dataframe_info": {
              "default_index_used": true,
              "orig_num_cols": 5,
              "orig_num_rows": 5,
              "orig_size_bytes": 240,
              "truncated_num_cols": 5,
              "truncated_num_rows": 5,
              "truncated_size_bytes": 240,
              "truncated_string_columns": []
            },
            "display_id": "26b684a7-47ee-48ac-80cc-1f4e72ec6e3e",
            "dx_settings": {
              "ALLOW_NOTEABLE_ATTRS": true,
              "COLUMN_SAMPLING_METHOD": "outer",
              "DB_LOCATION": ":memory:",
              "DEV_MODE": false,
              "DISPLAY_MAX_COLUMNS": 100,
              "DISPLAY_MAX_ROWS": 50000,
              "DISPLAY_MODE": "simple",
              "ENABLE_ASSIGNMENT": true,
              "ENABLE_DATALINK": true,
              "FLATTEN_COLUMN_VALUES": true,
              "FLATTEN_INDEX_VALUES": false,
              "GENERATE_DEX_METADATA": false,
              "HTML_TABLE_SCHEMA": false,
              "LOG_LEVEL": 30,
              "MAX_RENDER_SIZE_BYTES": 104857600,
              "MAX_STRING_LENGTH": 250,
              "NUM_PAST_SAMPLES_TRACKED": 3,
              "RANDOM_STATE": 12648430,
              "RESET_INDEX_VALUES": false,
              "ROW_SAMPLING_METHOD": "random",
              "SAMPLING_FACTOR": 0.1,
              "SAMPLING_METHOD": "random",
              "STRINGIFY_COLUMN_VALUES": true,
              "STRINGIFY_INDEX_VALUES": false
            },
            "sample_history": [],
            "sampling_time": "2023-08-13T04:59:47.091916",
            "user_variable_name": null,
            "variable_name": "unk_dataframe_0e5957b488a543769f49b835ef540d5b"
          },
          "558bef0f-37cb-45be-ab37-39c2b1d9e5cf": {
            "applied_filters": [],
            "dataframe_info": {
              "default_index_used": true,
              "orig_num_cols": 5,
              "orig_num_rows": 5,
              "orig_size_bytes": 240,
              "truncated_num_cols": 5,
              "truncated_num_rows": 5,
              "truncated_size_bytes": 240,
              "truncated_string_columns": []
            },
            "display_id": "558bef0f-37cb-45be-ab37-39c2b1d9e5cf",
            "dx_settings": {
              "ALLOW_NOTEABLE_ATTRS": true,
              "COLUMN_SAMPLING_METHOD": "outer",
              "DB_LOCATION": ":memory:",
              "DEV_MODE": false,
              "DISPLAY_MAX_COLUMNS": 100,
              "DISPLAY_MAX_ROWS": 50000,
              "DISPLAY_MODE": "simple",
              "ENABLE_ASSIGNMENT": true,
              "ENABLE_DATALINK": true,
              "FLATTEN_COLUMN_VALUES": true,
              "FLATTEN_INDEX_VALUES": false,
              "GENERATE_DEX_METADATA": false,
              "HTML_TABLE_SCHEMA": false,
              "LOG_LEVEL": 30,
              "MAX_RENDER_SIZE_BYTES": 104857600,
              "MAX_STRING_LENGTH": 250,
              "NUM_PAST_SAMPLES_TRACKED": 3,
              "RANDOM_STATE": 12648430,
              "RESET_INDEX_VALUES": false,
              "ROW_SAMPLING_METHOD": "random",
              "SAMPLING_FACTOR": 0.1,
              "SAMPLING_METHOD": "random",
              "STRINGIFY_COLUMN_VALUES": true,
              "STRINGIFY_INDEX_VALUES": false
            },
            "sample_history": [],
            "sampling_time": "2023-08-14T13:51:55.831420",
            "user_variable_name": null,
            "variable_name": "unk_dataframe_be28bba1ab5749c298bb500ce5b8e638"
          }
        },
        "colab": {
          "base_uri": "https://localhost:8080/",
          "height": 337
        },
        "id": "098f3627-aaba-428b-bbab-722621265ae4",
        "outputId": "89fa0731-bfd3-4bac-acdd-401014edb202"
      },
      "execution_count": 7,
      "source": [
        "import pandas as pd\n",
        "import numpy as np\n",
        "import seaborn as sns\n",
        "import matplotlib.pyplot as plt\n",
        "import pandas as pd\n",
        "\n",
        "# Load the data from the CSV file\n",
        "data = pd.read_csv('SMILES_Big_Data_Set.csv')\n",
        "\n",
        "# Display the first few rows of the dataset\n",
        "data.head()"
      ],
      "outputs": [
        {
          "output_type": "execute_result",
          "data": {
            "text/plain": [
              "                                              SMILES  pIC50  \\\n",
              "0         O=S(=O)(Nc1cccc(-c2cnc3ccccc3n2)c1)c1cccs1   4.26   \n",
              "1  O=c1cc(-c2nc(-c3ccc(-c4cn(CCP(=O)(O)O)nn4)cc3)...   4.34   \n",
              "2             NC(=O)c1ccc2c(c1)nc(C1CCC(O)CC1)n2CCCO   4.53   \n",
              "3                NCCCn1c(C2CCNCC2)nc2cc(C(N)=O)ccc21   4.56   \n",
              "4                  CNC(=S)Nc1cccc(-c2cnc3ccccc3n2)c1   4.59   \n",
              "\n",
              "                                                mol  num_atoms    logP  \n",
              "0  <rdkit.Chem.rdchem.Mol object at 0x7f59df45bc30>         25  4.1591  \n",
              "1  <rdkit.Chem.rdchem.Mol object at 0x7f59a320c9e0>         36  3.6743  \n",
              "2  <rdkit.Chem.rdchem.Mol object at 0x7f59a320cac0>         23  1.5361  \n",
              "3  <rdkit.Chem.rdchem.Mol object at 0x7f59a320cba0>         22  0.9510  \n",
              "4  <rdkit.Chem.rdchem.Mol object at 0x7f59a320c7b0>         21  3.2130  "
            ],
            "text/html": [
              "\n",
              "\n",
              "  <div id=\"df-d3aedb11-ab3a-4edf-9a61-130adbcc7b65\">\n",
              "    <div class=\"colab-df-container\">\n",
              "      <div>\n",
              "<style scoped>\n",
              "    .dataframe tbody tr th:only-of-type {\n",
              "        vertical-align: middle;\n",
              "    }\n",
              "\n",
              "    .dataframe tbody tr th {\n",
              "        vertical-align: top;\n",
              "    }\n",
              "\n",
              "    .dataframe thead th {\n",
              "        text-align: right;\n",
              "    }\n",
              "</style>\n",
              "<table border=\"1\" class=\"dataframe\">\n",
              "  <thead>\n",
              "    <tr style=\"text-align: right;\">\n",
              "      <th></th>\n",
              "      <th>SMILES</th>\n",
              "      <th>pIC50</th>\n",
              "      <th>mol</th>\n",
              "      <th>num_atoms</th>\n",
              "      <th>logP</th>\n",
              "    </tr>\n",
              "  </thead>\n",
              "  <tbody>\n",
              "    <tr>\n",
              "      <th>0</th>\n",
              "      <td>O=S(=O)(Nc1cccc(-c2cnc3ccccc3n2)c1)c1cccs1</td>\n",
              "      <td>4.26</td>\n",
              "      <td>&lt;rdkit.Chem.rdchem.Mol object at 0x7f59df45bc30&gt;</td>\n",
              "      <td>25</td>\n",
              "      <td>4.1591</td>\n",
              "    </tr>\n",
              "    <tr>\n",
              "      <th>1</th>\n",
              "      <td>O=c1cc(-c2nc(-c3ccc(-c4cn(CCP(=O)(O)O)nn4)cc3)...</td>\n",
              "      <td>4.34</td>\n",
              "      <td>&lt;rdkit.Chem.rdchem.Mol object at 0x7f59a320c9e0&gt;</td>\n",
              "      <td>36</td>\n",
              "      <td>3.6743</td>\n",
              "    </tr>\n",
              "    <tr>\n",
              "      <th>2</th>\n",
              "      <td>NC(=O)c1ccc2c(c1)nc(C1CCC(O)CC1)n2CCCO</td>\n",
              "      <td>4.53</td>\n",
              "      <td>&lt;rdkit.Chem.rdchem.Mol object at 0x7f59a320cac0&gt;</td>\n",
              "      <td>23</td>\n",
              "      <td>1.5361</td>\n",
              "    </tr>\n",
              "    <tr>\n",
              "      <th>3</th>\n",
              "      <td>NCCCn1c(C2CCNCC2)nc2cc(C(N)=O)ccc21</td>\n",
              "      <td>4.56</td>\n",
              "      <td>&lt;rdkit.Chem.rdchem.Mol object at 0x7f59a320cba0&gt;</td>\n",
              "      <td>22</td>\n",
              "      <td>0.9510</td>\n",
              "    </tr>\n",
              "    <tr>\n",
              "      <th>4</th>\n",
              "      <td>CNC(=S)Nc1cccc(-c2cnc3ccccc3n2)c1</td>\n",
              "      <td>4.59</td>\n",
              "      <td>&lt;rdkit.Chem.rdchem.Mol object at 0x7f59a320c7b0&gt;</td>\n",
              "      <td>21</td>\n",
              "      <td>3.2130</td>\n",
              "    </tr>\n",
              "  </tbody>\n",
              "</table>\n",
              "</div>\n",
              "      <button class=\"colab-df-convert\" onclick=\"convertToInteractive('df-d3aedb11-ab3a-4edf-9a61-130adbcc7b65')\"\n",
              "              title=\"Convert this dataframe to an interactive table.\"\n",
              "              style=\"display:none;\">\n",
              "\n",
              "  <svg xmlns=\"http://www.w3.org/2000/svg\" height=\"24px\"viewBox=\"0 0 24 24\"\n",
              "       width=\"24px\">\n",
              "    <path d=\"M0 0h24v24H0V0z\" fill=\"none\"/>\n",
              "    <path d=\"M18.56 5.44l.94 2.06.94-2.06 2.06-.94-2.06-.94-.94-2.06-.94 2.06-2.06.94zm-11 1L8.5 8.5l.94-2.06 2.06-.94-2.06-.94L8.5 2.5l-.94 2.06-2.06.94zm10 10l.94 2.06.94-2.06 2.06-.94-2.06-.94-.94-2.06-.94 2.06-2.06.94z\"/><path d=\"M17.41 7.96l-1.37-1.37c-.4-.4-.92-.59-1.43-.59-.52 0-1.04.2-1.43.59L10.3 9.45l-7.72 7.72c-.78.78-.78 2.05 0 2.83L4 21.41c.39.39.9.59 1.41.59.51 0 1.02-.2 1.41-.59l7.78-7.78 2.81-2.81c.8-.78.8-2.07 0-2.86zM5.41 20L4 18.59l7.72-7.72 1.47 1.35L5.41 20z\"/>\n",
              "  </svg>\n",
              "      </button>\n",
              "\n",
              "\n",
              "\n",
              "    <div id=\"df-fb9d8e8b-549d-4159-9dfc-559a6ec69767\">\n",
              "      <button class=\"colab-df-quickchart\" onclick=\"quickchart('df-fb9d8e8b-549d-4159-9dfc-559a6ec69767')\"\n",
              "              title=\"Suggest charts.\"\n",
              "              style=\"display:none;\">\n",
              "\n",
              "<svg xmlns=\"http://www.w3.org/2000/svg\" height=\"24px\"viewBox=\"0 0 24 24\"\n",
              "     width=\"24px\">\n",
              "    <g>\n",
              "        <path d=\"M19 3H5c-1.1 0-2 .9-2 2v14c0 1.1.9 2 2 2h14c1.1 0 2-.9 2-2V5c0-1.1-.9-2-2-2zM9 17H7v-7h2v7zm4 0h-2V7h2v10zm4 0h-2v-4h2v4z\"/>\n",
              "    </g>\n",
              "</svg>\n",
              "      </button>\n",
              "    </div>\n",
              "\n",
              "<style>\n",
              "  .colab-df-quickchart {\n",
              "    background-color: #E8F0FE;\n",
              "    border: none;\n",
              "    border-radius: 50%;\n",
              "    cursor: pointer;\n",
              "    display: none;\n",
              "    fill: #1967D2;\n",
              "    height: 32px;\n",
              "    padding: 0 0 0 0;\n",
              "    width: 32px;\n",
              "  }\n",
              "\n",
              "  .colab-df-quickchart:hover {\n",
              "    background-color: #E2EBFA;\n",
              "    box-shadow: 0px 1px 2px rgba(60, 64, 67, 0.3), 0px 1px 3px 1px rgba(60, 64, 67, 0.15);\n",
              "    fill: #174EA6;\n",
              "  }\n",
              "\n",
              "  [theme=dark] .colab-df-quickchart {\n",
              "    background-color: #3B4455;\n",
              "    fill: #D2E3FC;\n",
              "  }\n",
              "\n",
              "  [theme=dark] .colab-df-quickchart:hover {\n",
              "    background-color: #434B5C;\n",
              "    box-shadow: 0px 1px 3px 1px rgba(0, 0, 0, 0.15);\n",
              "    filter: drop-shadow(0px 1px 2px rgba(0, 0, 0, 0.3));\n",
              "    fill: #FFFFFF;\n",
              "  }\n",
              "</style>\n",
              "\n",
              "    <script>\n",
              "      async function quickchart(key) {\n",
              "        const containerElement = document.querySelector('#' + key);\n",
              "        const charts = await google.colab.kernel.invokeFunction(\n",
              "            'suggestCharts', [key], {});\n",
              "      }\n",
              "    </script>\n",
              "\n",
              "\n",
              "      <script>\n",
              "\n",
              "function displayQuickchartButton(domScope) {\n",
              "  let quickchartButtonEl =\n",
              "    domScope.querySelector('#df-fb9d8e8b-549d-4159-9dfc-559a6ec69767 button.colab-df-quickchart');\n",
              "  quickchartButtonEl.style.display =\n",
              "    google.colab.kernel.accessAllowed ? 'block' : 'none';\n",
              "}\n",
              "\n",
              "        displayQuickchartButton(document);\n",
              "      </script>\n",
              "      <style>\n",
              "    .colab-df-container {\n",
              "      display:flex;\n",
              "      flex-wrap:wrap;\n",
              "      gap: 12px;\n",
              "    }\n",
              "\n",
              "    .colab-df-convert {\n",
              "      background-color: #E8F0FE;\n",
              "      border: none;\n",
              "      border-radius: 50%;\n",
              "      cursor: pointer;\n",
              "      display: none;\n",
              "      fill: #1967D2;\n",
              "      height: 32px;\n",
              "      padding: 0 0 0 0;\n",
              "      width: 32px;\n",
              "    }\n",
              "\n",
              "    .colab-df-convert:hover {\n",
              "      background-color: #E2EBFA;\n",
              "      box-shadow: 0px 1px 2px rgba(60, 64, 67, 0.3), 0px 1px 3px 1px rgba(60, 64, 67, 0.15);\n",
              "      fill: #174EA6;\n",
              "    }\n",
              "\n",
              "    [theme=dark] .colab-df-convert {\n",
              "      background-color: #3B4455;\n",
              "      fill: #D2E3FC;\n",
              "    }\n",
              "\n",
              "    [theme=dark] .colab-df-convert:hover {\n",
              "      background-color: #434B5C;\n",
              "      box-shadow: 0px 1px 3px 1px rgba(0, 0, 0, 0.15);\n",
              "      filter: drop-shadow(0px 1px 2px rgba(0, 0, 0, 0.3));\n",
              "      fill: #FFFFFF;\n",
              "    }\n",
              "  </style>\n",
              "\n",
              "      <script>\n",
              "        const buttonEl =\n",
              "          document.querySelector('#df-d3aedb11-ab3a-4edf-9a61-130adbcc7b65 button.colab-df-convert');\n",
              "        buttonEl.style.display =\n",
              "          google.colab.kernel.accessAllowed ? 'block' : 'none';\n",
              "\n",
              "        async function convertToInteractive(key) {\n",
              "          const element = document.querySelector('#df-d3aedb11-ab3a-4edf-9a61-130adbcc7b65');\n",
              "          const dataTable =\n",
              "            await google.colab.kernel.invokeFunction('convertToInteractive',\n",
              "                                                     [key], {});\n",
              "          if (!dataTable) return;\n",
              "\n",
              "          const docLinkHtml = 'Like what you see? Visit the ' +\n",
              "            '<a target=\"_blank\" href=https://colab.research.google.com/notebooks/data_table.ipynb>data table notebook</a>'\n",
              "            + ' to learn more about interactive tables.';\n",
              "          element.innerHTML = '';\n",
              "          dataTable['output_type'] = 'display_data';\n",
              "          await google.colab.output.renderOutput(dataTable, element);\n",
              "          const docLink = document.createElement('div');\n",
              "          docLink.innerHTML = docLinkHtml;\n",
              "          element.appendChild(docLink);\n",
              "        }\n",
              "      </script>\n",
              "    </div>\n",
              "  </div>\n"
            ]
          },
          "metadata": {},
          "execution_count": 7
        }
      ]
    },
    {
      "id": "da4c7fa6-9b6c-4d1f-9be0-b73244f8ee9e",
      "cell_type": "code",
      "metadata": {
        "noteable": {
          "cell_type": "code",
          "output_collection_id": "14646633-3239-4f35-899c-de01d257ccbc"
        },
        "ExecuteTime": {
          "end_time": "2023-08-14T13:52:38.671351+00:00",
          "start_time": "2023-08-14T13:52:38.471499+00:00"
        },
        "datalink": {
          "35040a33-cdd2-4849-8e18-cd46bbe72ac2": {
            "applied_filters": [],
            "dataframe_info": {
              "default_index_used": false,
              "orig_num_cols": 1,
              "orig_num_rows": 5,
              "orig_size_bytes": 80,
              "truncated_num_cols": 1,
              "truncated_num_rows": 5,
              "truncated_size_bytes": 80,
              "truncated_string_columns": []
            },
            "display_id": "35040a33-cdd2-4849-8e18-cd46bbe72ac2",
            "dx_settings": {
              "ALLOW_NOTEABLE_ATTRS": true,
              "COLUMN_SAMPLING_METHOD": "outer",
              "DB_LOCATION": ":memory:",
              "DEV_MODE": false,
              "DISPLAY_MAX_COLUMNS": 100,
              "DISPLAY_MAX_ROWS": 50000,
              "DISPLAY_MODE": "simple",
              "ENABLE_ASSIGNMENT": true,
              "ENABLE_DATALINK": true,
              "FLATTEN_COLUMN_VALUES": true,
              "FLATTEN_INDEX_VALUES": false,
              "GENERATE_DEX_METADATA": false,
              "HTML_TABLE_SCHEMA": false,
              "LOG_LEVEL": 30,
              "MAX_RENDER_SIZE_BYTES": 104857600,
              "MAX_STRING_LENGTH": 250,
              "NUM_PAST_SAMPLES_TRACKED": 3,
              "RANDOM_STATE": 12648430,
              "RESET_INDEX_VALUES": false,
              "ROW_SAMPLING_METHOD": "random",
              "SAMPLING_FACTOR": 0.1,
              "SAMPLING_METHOD": "random",
              "STRINGIFY_COLUMN_VALUES": true,
              "STRINGIFY_INDEX_VALUES": false
            },
            "sample_history": [],
            "sampling_time": "2023-08-13T03:49:32.389492",
            "user_variable_name": null,
            "variable_name": "unk_dataframe_b7832c406be0490faf8e9e4a0e288e8d"
          },
          "500b5e8a-b666-495b-b4e5-fc3f5eadad3a": {
            "applied_filters": [],
            "dataframe_info": {
              "default_index_used": false,
              "orig_num_cols": 1,
              "orig_num_rows": 5,
              "orig_size_bytes": 80,
              "truncated_num_cols": 1,
              "truncated_num_rows": 5,
              "truncated_size_bytes": 80,
              "truncated_string_columns": []
            },
            "display_id": "500b5e8a-b666-495b-b4e5-fc3f5eadad3a",
            "dx_settings": {
              "ALLOW_NOTEABLE_ATTRS": true,
              "COLUMN_SAMPLING_METHOD": "outer",
              "DB_LOCATION": ":memory:",
              "DEV_MODE": false,
              "DISPLAY_MAX_COLUMNS": 100,
              "DISPLAY_MAX_ROWS": 50000,
              "DISPLAY_MODE": "simple",
              "ENABLE_ASSIGNMENT": true,
              "ENABLE_DATALINK": true,
              "FLATTEN_COLUMN_VALUES": true,
              "FLATTEN_INDEX_VALUES": false,
              "GENERATE_DEX_METADATA": false,
              "HTML_TABLE_SCHEMA": false,
              "LOG_LEVEL": 30,
              "MAX_RENDER_SIZE_BYTES": 104857600,
              "MAX_STRING_LENGTH": 250,
              "NUM_PAST_SAMPLES_TRACKED": 3,
              "RANDOM_STATE": 12648430,
              "RESET_INDEX_VALUES": false,
              "ROW_SAMPLING_METHOD": "random",
              "SAMPLING_FACTOR": 0.1,
              "SAMPLING_METHOD": "random",
              "STRINGIFY_COLUMN_VALUES": true,
              "STRINGIFY_INDEX_VALUES": false
            },
            "sample_history": [],
            "sampling_time": "2023-08-13T04:59:47.294765",
            "user_variable_name": null,
            "variable_name": "unk_dataframe_6d5461683409442691449748b9ac7085"
          },
          "f596075c-6ee0-48ff-843b-4e9f9af29063": {
            "applied_filters": [],
            "dataframe_info": {
              "default_index_used": false,
              "orig_num_cols": 1,
              "orig_num_rows": 5,
              "orig_size_bytes": 80,
              "truncated_num_cols": 1,
              "truncated_num_rows": 5,
              "truncated_size_bytes": 80,
              "truncated_string_columns": []
            },
            "display_id": "f596075c-6ee0-48ff-843b-4e9f9af29063",
            "dx_settings": {
              "ALLOW_NOTEABLE_ATTRS": true,
              "COLUMN_SAMPLING_METHOD": "outer",
              "DB_LOCATION": ":memory:",
              "DEV_MODE": false,
              "DISPLAY_MAX_COLUMNS": 100,
              "DISPLAY_MAX_ROWS": 50000,
              "DISPLAY_MODE": "simple",
              "ENABLE_ASSIGNMENT": true,
              "ENABLE_DATALINK": true,
              "FLATTEN_COLUMN_VALUES": true,
              "FLATTEN_INDEX_VALUES": false,
              "GENERATE_DEX_METADATA": false,
              "HTML_TABLE_SCHEMA": false,
              "LOG_LEVEL": 30,
              "MAX_RENDER_SIZE_BYTES": 104857600,
              "MAX_STRING_LENGTH": 250,
              "NUM_PAST_SAMPLES_TRACKED": 3,
              "RANDOM_STATE": 12648430,
              "RESET_INDEX_VALUES": false,
              "ROW_SAMPLING_METHOD": "random",
              "SAMPLING_FACTOR": 0.1,
              "SAMPLING_METHOD": "random",
              "STRINGIFY_COLUMN_VALUES": true,
              "STRINGIFY_INDEX_VALUES": false
            },
            "sample_history": [],
            "sampling_time": "2023-08-14T13:52:38.515232",
            "user_variable_name": null,
            "variable_name": "unk_dataframe_3589fe8d05314c5b8e14cdd49fe48307"
          }
        },
        "colab": {
          "base_uri": "https://localhost:8080/"
        },
        "id": "da4c7fa6-9b6c-4d1f-9be0-b73244f8ee9e",
        "outputId": "a70c330c-31f9-4588-87db-14b7e3c88899"
      },
      "execution_count": 8,
      "source": [
        "# Check for missing values in the dataset\n",
        "missing_values = data.isnull().sum()\n",
        "\n",
        "# Display the number of missing values for each column\n",
        "missing_values"
      ],
      "outputs": [
        {
          "output_type": "execute_result",
          "data": {
            "text/plain": [
              "SMILES          0\n",
              "pIC50        1050\n",
              "mol             0\n",
              "num_atoms       0\n",
              "logP            0\n",
              "dtype: int64"
            ]
          },
          "metadata": {},
          "execution_count": 8
        }
      ]
    },
    {
      "id": "5b758f28-1109-4a78-9a00-0d58bdf00ea9",
      "cell_type": "code",
      "metadata": {
        "noteable": {
          "cell_type": "code",
          "output_collection_id": "375ff189-a588-4d2f-ae82-1974baaed9cf"
        },
        "ExecuteTime": {
          "end_time": "2023-08-14T13:52:39.810820+00:00",
          "start_time": "2023-08-14T13:52:39.615221+00:00"
        },
        "datalink": {
          "e1cf3eff-768f-47b7-9515-1f18644336d9": {
            "applied_filters": [],
            "dataframe_info": {
              "default_index_used": false,
              "orig_num_cols": 1,
              "orig_num_rows": 5,
              "orig_size_bytes": 80,
              "truncated_num_cols": 1,
              "truncated_num_rows": 5,
              "truncated_size_bytes": 80,
              "truncated_string_columns": []
            },
            "display_id": "e1cf3eff-768f-47b7-9515-1f18644336d9",
            "dx_settings": {
              "ALLOW_NOTEABLE_ATTRS": true,
              "COLUMN_SAMPLING_METHOD": "outer",
              "DB_LOCATION": ":memory:",
              "DEV_MODE": false,
              "DISPLAY_MAX_COLUMNS": 100,
              "DISPLAY_MAX_ROWS": 50000,
              "DISPLAY_MODE": "simple",
              "ENABLE_ASSIGNMENT": true,
              "ENABLE_DATALINK": true,
              "FLATTEN_COLUMN_VALUES": true,
              "FLATTEN_INDEX_VALUES": false,
              "GENERATE_DEX_METADATA": false,
              "HTML_TABLE_SCHEMA": false,
              "LOG_LEVEL": 30,
              "MAX_RENDER_SIZE_BYTES": 104857600,
              "MAX_STRING_LENGTH": 250,
              "NUM_PAST_SAMPLES_TRACKED": 3,
              "RANDOM_STATE": 12648430,
              "RESET_INDEX_VALUES": false,
              "ROW_SAMPLING_METHOD": "random",
              "SAMPLING_FACTOR": 0.1,
              "SAMPLING_METHOD": "random",
              "STRINGIFY_COLUMN_VALUES": true,
              "STRINGIFY_INDEX_VALUES": false
            },
            "sample_history": [],
            "sampling_time": "2023-08-13T03:50:02.042854",
            "user_variable_name": null,
            "variable_name": "unk_dataframe_c675da4f90584cffb156fb799a8bdcd1"
          },
          "1701ed26-1e6f-4981-87c6-0be544ed5f75": {
            "applied_filters": [],
            "dataframe_info": {
              "default_index_used": false,
              "orig_num_cols": 1,
              "orig_num_rows": 5,
              "orig_size_bytes": 80,
              "truncated_num_cols": 1,
              "truncated_num_rows": 5,
              "truncated_size_bytes": 80,
              "truncated_string_columns": []
            },
            "display_id": "1701ed26-1e6f-4981-87c6-0be544ed5f75",
            "dx_settings": {
              "ALLOW_NOTEABLE_ATTRS": true,
              "COLUMN_SAMPLING_METHOD": "outer",
              "DB_LOCATION": ":memory:",
              "DEV_MODE": false,
              "DISPLAY_MAX_COLUMNS": 100,
              "DISPLAY_MAX_ROWS": 50000,
              "DISPLAY_MODE": "simple",
              "ENABLE_ASSIGNMENT": true,
              "ENABLE_DATALINK": true,
              "FLATTEN_COLUMN_VALUES": true,
              "FLATTEN_INDEX_VALUES": false,
              "GENERATE_DEX_METADATA": false,
              "HTML_TABLE_SCHEMA": false,
              "LOG_LEVEL": 30,
              "MAX_RENDER_SIZE_BYTES": 104857600,
              "MAX_STRING_LENGTH": 250,
              "NUM_PAST_SAMPLES_TRACKED": 3,
              "RANDOM_STATE": 12648430,
              "RESET_INDEX_VALUES": false,
              "ROW_SAMPLING_METHOD": "random",
              "SAMPLING_FACTOR": 0.1,
              "SAMPLING_METHOD": "random",
              "STRINGIFY_COLUMN_VALUES": true,
              "STRINGIFY_INDEX_VALUES": false
            },
            "sample_history": [],
            "sampling_time": "2023-08-13T04:59:47.503547",
            "user_variable_name": null,
            "variable_name": "unk_dataframe_1d672bd5d796453ca03653a180c4a774"
          },
          "f29d8e17-24be-478b-b079-f5f3220582dd": {
            "applied_filters": [],
            "dataframe_info": {
              "default_index_used": false,
              "orig_num_cols": 1,
              "orig_num_rows": 5,
              "orig_size_bytes": 80,
              "truncated_num_cols": 1,
              "truncated_num_rows": 5,
              "truncated_size_bytes": 80,
              "truncated_string_columns": []
            },
            "display_id": "f29d8e17-24be-478b-b079-f5f3220582dd",
            "dx_settings": {
              "ALLOW_NOTEABLE_ATTRS": true,
              "COLUMN_SAMPLING_METHOD": "outer",
              "DB_LOCATION": ":memory:",
              "DEV_MODE": false,
              "DISPLAY_MAX_COLUMNS": 100,
              "DISPLAY_MAX_ROWS": 50000,
              "DISPLAY_MODE": "simple",
              "ENABLE_ASSIGNMENT": true,
              "ENABLE_DATALINK": true,
              "FLATTEN_COLUMN_VALUES": true,
              "FLATTEN_INDEX_VALUES": false,
              "GENERATE_DEX_METADATA": false,
              "HTML_TABLE_SCHEMA": false,
              "LOG_LEVEL": 30,
              "MAX_RENDER_SIZE_BYTES": 104857600,
              "MAX_STRING_LENGTH": 250,
              "NUM_PAST_SAMPLES_TRACKED": 3,
              "RANDOM_STATE": 12648430,
              "RESET_INDEX_VALUES": false,
              "ROW_SAMPLING_METHOD": "random",
              "SAMPLING_FACTOR": 0.1,
              "SAMPLING_METHOD": "random",
              "STRINGIFY_COLUMN_VALUES": true,
              "STRINGIFY_INDEX_VALUES": false
            },
            "sample_history": [],
            "sampling_time": "2023-08-14T13:52:39.653557",
            "user_variable_name": null,
            "variable_name": "unk_dataframe_8dd55cb718fe44c4817365218db81a69"
          }
        },
        "colab": {
          "base_uri": "https://localhost:8080/"
        },
        "id": "5b758f28-1109-4a78-9a00-0d58bdf00ea9",
        "outputId": "b714ccaf-f120-415e-f170-8552b9cfe8a3"
      },
      "execution_count": 9,
      "source": [
        "# Impute missing values in the 'pIC50' column with its median value\n",
        "median_pIC50 = data['pIC50'].median()\n",
        "data['pIC50'].fillna(median_pIC50, inplace=True)\n",
        "\n",
        "# Verify if all missing values have been handled\n",
        "data.isnull().sum()"
      ],
      "outputs": [
        {
          "output_type": "execute_result",
          "data": {
            "text/plain": [
              "SMILES       0\n",
              "pIC50        0\n",
              "mol          0\n",
              "num_atoms    0\n",
              "logP         0\n",
              "dtype: int64"
            ]
          },
          "metadata": {},
          "execution_count": 9
        }
      ]
    },
    {
      "id": "7ef89338-c0ba-4f6b-a701-7b0c2b6e00f4",
      "cell_type": "code",
      "metadata": {
        "noteable": {
          "cell_type": "code",
          "output_collection_id": "ddcf9f13-e69b-4fd2-87a0-43cb24875328"
        },
        "ExecuteTime": {
          "end_time": "2023-08-14T13:52:42.420332+00:00",
          "start_time": "2023-08-14T13:52:40.790000+00:00"
        },
        "colab": {
          "base_uri": "https://localhost:8080/",
          "height": 550
        },
        "id": "7ef89338-c0ba-4f6b-a701-7b0c2b6e00f4",
        "outputId": "34f34fa4-7b32-4764-fce0-21f0bf48b375"
      },
      "execution_count": 10,
      "source": [
        "import matplotlib.pyplot as plt\n",
        "import seaborn as sns\n",
        "\n",
        "# Set the style for seaborn plots\n",
        "sns.set_style('whitegrid')\n",
        "\n",
        "# Plot the distribution of pIC50 values\n",
        "plt.figure(figsize=(10, 6))\n",
        "sns.histplot(data['pIC50'], bins=30, kde=True, color='blue')\n",
        "plt.title('Distribution of pIC50 Values')\n",
        "plt.xlabel('pIC50')\n",
        "plt.ylabel('Frequency')\n",
        "plt.show()"
      ],
      "outputs": [
        {
          "output_type": "display_data",
          "data": {
            "text/plain": [
              "<Figure size 1000x600 with 1 Axes>"
            ],
            "image/png": "[encoded data removed]"
          },
          "metadata": {}
        }
      ]
    },
    {
      "id": "628943b8-2729-45a7-8fb5-6597391f8d3b",
      "cell_type": "code",
      "metadata": {
        "noteable": {
          "cell_type": "code",
          "output_collection_id": "d87c9ffd-fb4a-4a0b-9e24-01c866eba9c2"
        },
        "ExecuteTime": {
          "end_time": "2023-08-14T13:52:44.417965+00:00",
          "start_time": "2023-08-14T13:52:42.715101+00:00"
        },
        "colab": {
          "base_uri": "https://localhost:8080/",
          "height": 1000
        },
        "id": "628943b8-2729-45a7-8fb5-6597391f8d3b",
        "outputId": "052bcc5e-7726-4504-bb1a-6e2f3def34f6"
      },
      "execution_count": 11,
      "source": [
        "# Plot the distribution of num_atoms values\n",
        "plt.figure(figsize=(10, 6))\n",
        "sns.histplot(data['num_atoms'], bins=30, kde=True, color='green')\n",
        "plt.title('Distribution of Number of Atoms')\n",
        "plt.xlabel('Number of Atoms')\n",
        "plt.ylabel('Frequency')\n",
        "plt.show()\n",
        "\n",
        "# Plot the distribution of logP values\n",
        "plt.figure(figsize=(10, 6))\n",
        "sns.histplot(data['logP'], bins=30, kde=True, color='red')\n",
        "plt.title('Distribution of logP Values')\n",
        "plt.xlabel('logP')\n",
        "plt.ylabel('Frequency')\n",
        "plt.show()"
      ],
      "outputs": [
        {
          "output_type": "display_data",
          "data": {
            "text/plain": [
              "<Figure size 1000x600 with 1 Axes>"
            ],
            "image/png": "[encoded data removed]"
          },
          "metadata": {}
        },
        {
          "output_type": "display_data",
          "data": {
            "text/plain": [
              "<Figure size 1000x600 with 1 Axes>"
            ],
            "image/png": "[encoded data removed]"
          },
          "metadata": {}
        }
      ]
    },
    {
      "id": "9a4094f2-34e8-4917-ba82-ce300c722a71",
      "cell_type": "code",
      "metadata": {
        "noteable": {
          "cell_type": "code",
          "output_collection_id": "50732306-fd68-4c8b-ba2a-311d6c3e9899"
        },
        "ExecuteTime": {
          "end_time": "2023-08-14T13:52:55.441046+00:00",
          "start_time": "2023-08-14T13:52:47.881067+00:00"
        },
        "colab": {
          "base_uri": "https://localhost:8080/"
        },
        "id": "9a4094f2-34e8-4917-ba82-ce300c722a71",
        "outputId": "3d5d47c6-e1b5-4fc4-8adf-e1ba13a79d52"
      },
      "execution_count": 12,
      "source": [
        "!pip install -q rdkit-pypi #install rdkit library"
      ],
      "outputs": [
        {
          "output_type": "stream",
          "name": "stdout",
          "text": [
            "\u001b[2K     \u001b[90m━━━━━━━━━━━━━━━━━━━━━━━━━━━━━━━━━━━━━━━━\u001b[0m \u001b[32m29.4/29.4 MB\u001b[0m \u001b[31m39.8 MB/s\u001b[0m eta \u001b[36m0:00:00\u001b[0m\n",
            "\u001b[?25h"
          ]
        }
      ]
    },
    {
      "id": "e0fe2aeb-c7d6-4793-ab8f-4f1c9ca16a71",
      "cell_type": "code",
      "metadata": {
        "noteable": {
          "cell_type": "code",
          "output_collection_id": "57ed86a0-6eb3-4034-8321-4bf75516c189"
        },
        "ExecuteTime": {
          "end_time": "2023-08-14T13:59:56.561741+00:00",
          "start_time": "2023-08-14T13:56:38.512411+00:00"
        },
        "datalink": {
          "c5202e7a-3828-4e94-8d52-ee81c4bb54af": {
            "applied_filters": [],
            "dataframe_info": {
              "default_index_used": true,
              "orig_num_cols": 2048,
              "orig_num_rows": 5,
              "orig_size_bytes": 81960,
              "truncated_num_cols": 100,
              "truncated_num_rows": 5,
              "truncated_size_bytes": 4040,
              "truncated_string_columns": []
            },
            "display_id": "c5202e7a-3828-4e94-8d52-ee81c4bb54af",
            "dx_settings": {
              "ALLOW_NOTEABLE_ATTRS": true,
              "COLUMN_SAMPLING_METHOD": "outer",
              "DB_LOCATION": ":memory:",
              "DEV_MODE": false,
              "DISPLAY_MAX_COLUMNS": 100,
              "DISPLAY_MAX_ROWS": 50000,
              "DISPLAY_MODE": "simple",
              "ENABLE_ASSIGNMENT": true,
              "ENABLE_DATALINK": true,
              "FLATTEN_COLUMN_VALUES": true,
              "FLATTEN_INDEX_VALUES": false,
              "GENERATE_DEX_METADATA": false,
              "HTML_TABLE_SCHEMA": false,
              "LOG_LEVEL": 30,
              "MAX_RENDER_SIZE_BYTES": 104857600,
              "MAX_STRING_LENGTH": 250,
              "NUM_PAST_SAMPLES_TRACKED": 3,
              "RANDOM_STATE": 12648430,
              "RESET_INDEX_VALUES": false,
              "ROW_SAMPLING_METHOD": "random",
              "SAMPLING_FACTOR": 0.1,
              "SAMPLING_METHOD": "random",
              "STRINGIFY_COLUMN_VALUES": true,
              "STRINGIFY_INDEX_VALUES": false
            },
            "sample_history": [],
            "sampling_time": "2023-08-13T03:57:37.411806",
            "user_variable_name": null,
            "variable_name": "unk_dataframe_4b0d9a7937a74931837dfc74e38d237d"
          },
          "792c625f-13b8-4663-a9e2-7170419c161c": {
            "applied_filters": [],
            "dataframe_info": {
              "default_index_used": true,
              "orig_num_cols": 2048,
              "orig_num_rows": 5,
              "orig_size_bytes": 81960,
              "truncated_num_cols": 100,
              "truncated_num_rows": 5,
              "truncated_size_bytes": 4040,
              "truncated_string_columns": []
            },
            "display_id": "792c625f-13b8-4663-a9e2-7170419c161c",
            "dx_settings": {
              "ALLOW_NOTEABLE_ATTRS": true,
              "COLUMN_SAMPLING_METHOD": "outer",
              "DB_LOCATION": ":memory:",
              "DEV_MODE": false,
              "DISPLAY_MAX_COLUMNS": 100,
              "DISPLAY_MAX_ROWS": 50000,
              "DISPLAY_MODE": "simple",
              "ENABLE_ASSIGNMENT": true,
              "ENABLE_DATALINK": true,
              "FLATTEN_COLUMN_VALUES": true,
              "FLATTEN_INDEX_VALUES": false,
              "GENERATE_DEX_METADATA": false,
              "HTML_TABLE_SCHEMA": false,
              "LOG_LEVEL": 30,
              "MAX_RENDER_SIZE_BYTES": 104857600,
              "MAX_STRING_LENGTH": 250,
              "NUM_PAST_SAMPLES_TRACKED": 3,
              "RANDOM_STATE": 12648430,
              "RESET_INDEX_VALUES": false,
              "ROW_SAMPLING_METHOD": "random",
              "SAMPLING_FACTOR": 0.1,
              "SAMPLING_METHOD": "random",
              "STRINGIFY_COLUMN_VALUES": true,
              "STRINGIFY_INDEX_VALUES": false
            },
            "sample_history": [],
            "sampling_time": "2023-08-13T05:03:14.457807",
            "user_variable_name": null,
            "variable_name": "unk_dataframe_92f91fb1af794b99ac1fa92602cd6d60"
          },
          "1947b554-04c0-4a44-a5a0-18a501a0d994": {
            "applied_filters": [],
            "dataframe_info": {
              "default_index_used": true,
              "orig_num_cols": 2048,
              "orig_num_rows": 5,
              "orig_size_bytes": 81960,
              "truncated_num_cols": 100,
              "truncated_num_rows": 5,
              "truncated_size_bytes": 4040,
              "truncated_string_columns": []
            },
            "display_id": "1947b554-04c0-4a44-a5a0-18a501a0d994",
            "dx_settings": {
              "ALLOW_NOTEABLE_ATTRS": true,
              "COLUMN_SAMPLING_METHOD": "outer",
              "DB_LOCATION": ":memory:",
              "DEV_MODE": false,
              "DISPLAY_MAX_COLUMNS": 100,
              "DISPLAY_MAX_ROWS": 50000,
              "DISPLAY_MODE": "simple",
              "ENABLE_ASSIGNMENT": true,
              "ENABLE_DATALINK": true,
              "FLATTEN_COLUMN_VALUES": true,
              "FLATTEN_INDEX_VALUES": false,
              "GENERATE_DEX_METADATA": false,
              "HTML_TABLE_SCHEMA": false,
              "LOG_LEVEL": 30,
              "MAX_RENDER_SIZE_BYTES": 104857600,
              "MAX_STRING_LENGTH": 250,
              "NUM_PAST_SAMPLES_TRACKED": 3,
              "RANDOM_STATE": 12648430,
              "RESET_INDEX_VALUES": false,
              "ROW_SAMPLING_METHOD": "random",
              "SAMPLING_FACTOR": 0.1,
              "SAMPLING_METHOD": "random",
              "STRINGIFY_COLUMN_VALUES": true,
              "STRINGIFY_INDEX_VALUES": false
            },
            "sample_history": [],
            "sampling_time": "2023-08-14T13:56:06.140079",
            "user_variable_name": null,
            "variable_name": "unk_dataframe_3a0f7c31b3e54711b69cfa0d222fb5d7"
          },
          "ae505e43-b78c-4dab-92f9-6173041b4b49": {
            "applied_filters": [],
            "dataframe_info": {
              "default_index_used": true,
              "orig_num_cols": 2048,
              "orig_num_rows": 5,
              "orig_size_bytes": 81960,
              "truncated_num_cols": 100,
              "truncated_num_rows": 5,
              "truncated_size_bytes": 4040,
              "truncated_string_columns": []
            },
            "display_id": "ae505e43-b78c-4dab-92f9-6173041b4b49",
            "dx_settings": {
              "ALLOW_NOTEABLE_ATTRS": true,
              "COLUMN_SAMPLING_METHOD": "outer",
              "DB_LOCATION": ":memory:",
              "DEV_MODE": false,
              "DISPLAY_MAX_COLUMNS": 100,
              "DISPLAY_MAX_ROWS": 50000,
              "DISPLAY_MODE": "simple",
              "ENABLE_ASSIGNMENT": true,
              "ENABLE_DATALINK": true,
              "FLATTEN_COLUMN_VALUES": true,
              "FLATTEN_INDEX_VALUES": false,
              "GENERATE_DEX_METADATA": false,
              "HTML_TABLE_SCHEMA": false,
              "LOG_LEVEL": 30,
              "MAX_RENDER_SIZE_BYTES": 104857600,
              "MAX_STRING_LENGTH": 250,
              "NUM_PAST_SAMPLES_TRACKED": 3,
              "RANDOM_STATE": 12648430,
              "RESET_INDEX_VALUES": false,
              "ROW_SAMPLING_METHOD": "random",
              "SAMPLING_FACTOR": 0.1,
              "SAMPLING_METHOD": "random",
              "STRINGIFY_COLUMN_VALUES": true,
              "STRINGIFY_INDEX_VALUES": false
            },
            "sample_history": [],
            "sampling_time": "2023-08-14T13:59:55.957334",
            "user_variable_name": null,
            "variable_name": "unk_dataframe_5a19995ea5134378a06eb857c34a5326"
          }
        },
        "colab": {
          "base_uri": "https://localhost:8080/",
          "height": 235
        },
        "id": "e0fe2aeb-c7d6-4793-ab8f-4f1c9ca16a71",
        "outputId": "96b54102-17e3-4b36-f1d8-61345da26e86"
      },
      "execution_count": 13,
      "source": [
        "from rdkit import Chem\n",
        "from rdkit.Chem import AllChem\n",
        "import numpy as np\n",
        "\n",
        "def smiles_to_fingerprint(smiles, radius=2, nBits=2048):\n",
        "    '''\n",
        "    Convert SMILES notation to Morgan fingerprint.\n",
        "    '''\n",
        "    mol = Chem.MolFromSmiles(smiles)\n",
        "    if mol is not None:\n",
        "        return np.array(AllChem.GetMorganFingerprintAsBitVect(mol, radius, nBits))\n",
        "    else:\n",
        "        return np.zeros(nBits)\n",
        "\n",
        "# Convert SMILES to fingerprints\n",
        "fingerprints = data['SMILES'].apply(smiles_to_fingerprint).tolist()\n",
        "\n",
        "# Convert list of fingerprints to DataFrame\n",
        "fp_df = pd.DataFrame(fingerprints)\n",
        "fp_df.head()"
      ],
      "outputs": [
        {
          "output_type": "execute_result",
          "data": {
            "text/plain": [
              "   0     1     2     3     4     5     6     7     8     9     ...  2038  \\\n",
              "0     0     0     0     0     0     0     0     0     0     0  ...     0   \n",
              "1     0     0     0     0     0     0     0     0     0     0  ...     0   \n",
              "2     0     0     0     0     0     0     0     0     0     0  ...     0   \n",
              "3     0     0     0     0     0     0     0     0     0     0  ...     0   \n",
              "4     0     0     0     0     0     0     0     0     0     0  ...     0   \n",
              "\n",
              "   2039  2040  2041  2042  2043  2044  2045  2046  2047  \n",
              "0     0     0     0     0     0     0     0     0     0  \n",
              "1     0     0     0     0     0     0     0     0     0  \n",
              "2     0     0     0     0     0     0     0     0     0  \n",
              "3     0     0     0     0     0     0     0     0     0  \n",
              "4     0     0     0     0     0     0     0     0     0  \n",
              "\n",
              "[5 rows x 2048 columns]"
            ],
            "text/html": [
              "\n",
              "\n",
              "  <div id=\"df-94352231-b361-4163-81f4-e4e8e7d0f6be\">\n",
              "    <div class=\"colab-df-container\">\n",
              "      <div>\n",
              "<style scoped>\n",
              "    .dataframe tbody tr th:only-of-type {\n",
              "        vertical-align: middle;\n",
              "    }\n",
              "\n",
              "    .dataframe tbody tr th {\n",
              "        vertical-align: top;\n",
              "    }\n",
              "\n",
              "    .dataframe thead th {\n",
              "        text-align: right;\n",
              "    }\n",
              "</style>\n",
              "<table border=\"1\" class=\"dataframe\">\n",
              "  <thead>\n",
              "    <tr style=\"text-align: right;\">\n",
              "      <th></th>\n",
              "      <th>0</th>\n",
              "      <th>1</th>\n",
              "      <th>2</th>\n",
              "      <th>3</th>\n",
              "      <th>4</th>\n",
              "      <th>5</th>\n",
              "      <th>6</th>\n",
              "      <th>7</th>\n",
              "      <th>8</th>\n",
              "      <th>9</th>\n",
              "      <th>...</th>\n",
              "      <th>2038</th>\n",
              "      <th>2039</th>\n",
              "      <th>2040</th>\n",
              "      <th>2041</th>\n",
              "      <th>2042</th>\n",
              "      <th>2043</th>\n",
              "      <th>2044</th>\n",
              "      <th>2045</th>\n",
              "      <th>2046</th>\n",
              "      <th>2047</th>\n",
              "    </tr>\n",
              "  </thead>\n",
              "  <tbody>\n",
              "    <tr>\n",
              "      <th>0</th>\n",
              "      <td>0</td>\n",
              "      <td>0</td>\n",
              "      <td>0</td>\n",
              "      <td>0</td>\n",
              "      <td>0</td>\n",
              "      <td>0</td>\n",
              "      <td>0</td>\n",
              "      <td>0</td>\n",
              "      <td>0</td>\n",
              "      <td>0</td>\n",
              "      <td>...</td>\n",
              "      <td>0</td>\n",
              "      <td>0</td>\n",
              "      <td>0</td>\n",
              "      <td>0</td>\n",
              "      <td>0</td>\n",
              "      <td>0</td>\n",
              "      <td>0</td>\n",
              "      <td>0</td>\n",
              "      <td>0</td>\n",
              "      <td>0</td>\n",
              "    </tr>\n",
              "    <tr>\n",
              "      <th>1</th>\n",
              "      <td>0</td>\n",
              "      <td>0</td>\n",
              "      <td>0</td>\n",
              "      <td>0</td>\n",
              "      <td>0</td>\n",
              "      <td>0</td>\n",
              "      <td>0</td>\n",
              "      <td>0</td>\n",
              "      <td>0</td>\n",
              "      <td>0</td>\n",
              "      <td>...</td>\n",
              "      <td>0</td>\n",
              "      <td>0</td>\n",
              "      <td>0</td>\n",
              "      <td>0</td>\n",
              "      <td>0</td>\n",
              "      <td>0</td>\n",
              "      <td>0</td>\n",
              "      <td>0</td>\n",
              "      <td>0</td>\n",
              "      <td>0</td>\n",
              "    </tr>\n",
              "    <tr>\n",
              "      <th>2</th>\n",
              "      <td>0</td>\n",
              "      <td>0</td>\n",
              "      <td>0</td>\n",
              "      <td>0</td>\n",
              "      <td>0</td>\n",
              "      <td>0</td>\n",
              "      <td>0</td>\n",
              "      <td>0</td>\n",
              "      <td>0</td>\n",
              "      <td>0</td>\n",
              "      <td>...</td>\n",
              "      <td>0</td>\n",
              "      <td>0</td>\n",
              "      <td>0</td>\n",
              "      <td>0</td>\n",
              "      <td>0</td>\n",
              "      <td>0</td>\n",
              "      <td>0</td>\n",
              "      <td>0</td>\n",
              "      <td>0</td>\n",
              "      <td>0</td>\n",
              "    </tr>\n",
              "    <tr>\n",
              "      <th>3</th>\n",
              "      <td>0</td>\n",
              "      <td>0</td>\n",
              "      <td>0</td>\n",
              "      <td>0</td>\n",
              "      <td>0</td>\n",
              "      <td>0</td>\n",
              "      <td>0</td>\n",
              "      <td>0</td>\n",
              "      <td>0</td>\n",
              "      <td>0</td>\n",
              "      <td>...</td>\n",
              "      <td>0</td>\n",
              "      <td>0</td>\n",
              "      <td>0</td>\n",
              "      <td>0</td>\n",
              "      <td>0</td>\n",
              "      <td>0</td>\n",
              "      <td>0</td>\n",
              "      <td>0</td>\n",
              "      <td>0</td>\n",
              "      <td>0</td>\n",
              "    </tr>\n",
              "    <tr>\n",
              "      <th>4</th>\n",
              "      <td>0</td>\n",
              "      <td>0</td>\n",
              "      <td>0</td>\n",
              "      <td>0</td>\n",
              "      <td>0</td>\n",
              "      <td>0</td>\n",
              "      <td>0</td>\n",
              "      <td>0</td>\n",
              "      <td>0</td>\n",
              "      <td>0</td>\n",
              "      <td>...</td>\n",
              "      <td>0</td>\n",
              "      <td>0</td>\n",
              "      <td>0</td>\n",
              "      <td>0</td>\n",
              "      <td>0</td>\n",
              "      <td>0</td>\n",
              "      <td>0</td>\n",
              "      <td>0</td>\n",
              "      <td>0</td>\n",
              "      <td>0</td>\n",
              "    </tr>\n",
              "  </tbody>\n",
              "</table>\n",
              "<p>5 rows × 2048 columns</p>\n",
              "</div>\n",
              "      <button class=\"colab-df-convert\" onclick=\"convertToInteractive('df-94352231-b361-4163-81f4-e4e8e7d0f6be')\"\n",
              "              title=\"Convert this dataframe to an interactive table.\"\n",
              "              style=\"display:none;\">\n",
              "\n",
              "  <svg xmlns=\"http://www.w3.org/2000/svg\" height=\"24px\"viewBox=\"0 0 24 24\"\n",
              "       width=\"24px\">\n",
              "    <path d=\"M0 0h24v24H0V0z\" fill=\"none\"/>\n",
              "    <path d=\"M18.56 5.44l.94 2.06.94-2.06 2.06-.94-2.06-.94-.94-2.06-.94 2.06-2.06.94zm-11 1L8.5 8.5l.94-2.06 2.06-.94-2.06-.94L8.5 2.5l-.94 2.06-2.06.94zm10 10l.94 2.06.94-2.06 2.06-.94-2.06-.94-.94-2.06-.94 2.06-2.06.94z\"/><path d=\"M17.41 7.96l-1.37-1.37c-.4-.4-.92-.59-1.43-.59-.52 0-1.04.2-1.43.59L10.3 9.45l-7.72 7.72c-.78.78-.78 2.05 0 2.83L4 21.41c.39.39.9.59 1.41.59.51 0 1.02-.2 1.41-.59l7.78-7.78 2.81-2.81c.8-.78.8-2.07 0-2.86zM5.41 20L4 18.59l7.72-7.72 1.47 1.35L5.41 20z\"/>\n",
              "  </svg>\n",
              "      </button>\n",
              "\n",
              "\n",
              "\n",
              "    <div id=\"df-cd6d700b-5475-47d7-a8b6-7c84ca8e7384\">\n",
              "      <button class=\"colab-df-quickchart\" onclick=\"quickchart('df-cd6d700b-5475-47d7-a8b6-7c84ca8e7384')\"\n",
              "              title=\"Suggest charts.\"\n",
              "              style=\"display:none;\">\n",
              "\n",
              "<svg xmlns=\"http://www.w3.org/2000/svg\" height=\"24px\"viewBox=\"0 0 24 24\"\n",
              "     width=\"24px\">\n",
              "    <g>\n",
              "        <path d=\"M19 3H5c-1.1 0-2 .9-2 2v14c0 1.1.9 2 2 2h14c1.1 0 2-.9 2-2V5c0-1.1-.9-2-2-2zM9 17H7v-7h2v7zm4 0h-2V7h2v10zm4 0h-2v-4h2v4z\"/>\n",
              "    </g>\n",
              "</svg>\n",
              "      </button>\n",
              "    </div>\n",
              "\n",
              "<style>\n",
              "  .colab-df-quickchart {\n",
              "    background-color: #E8F0FE;\n",
              "    border: none;\n",
              "    border-radius: 50%;\n",
              "    cursor: pointer;\n",
              "    display: none;\n",
              "    fill: #1967D2;\n",
              "    height: 32px;\n",
              "    padding: 0 0 0 0;\n",
              "    width: 32px;\n",
              "  }\n",
              "\n",
              "  .colab-df-quickchart:hover {\n",
              "    background-color: #E2EBFA;\n",
              "    box-shadow: 0px 1px 2px rgba(60, 64, 67, 0.3), 0px 1px 3px 1px rgba(60, 64, 67, 0.15);\n",
              "    fill: #174EA6;\n",
              "  }\n",
              "\n",
              "  [theme=dark] .colab-df-quickchart {\n",
              "    background-color: #3B4455;\n",
              "    fill: #D2E3FC;\n",
              "  }\n",
              "\n",
              "  [theme=dark] .colab-df-quickchart:hover {\n",
              "    background-color: #434B5C;\n",
              "    box-shadow: 0px 1px 3px 1px rgba(0, 0, 0, 0.15);\n",
              "    filter: drop-shadow(0px 1px 2px rgba(0, 0, 0, 0.3));\n",
              "    fill: #FFFFFF;\n",
              "  }\n",
              "</style>\n",
              "\n",
              "    <script>\n",
              "      async function quickchart(key) {\n",
              "        const containerElement = document.querySelector('#' + key);\n",
              "        const charts = await google.colab.kernel.invokeFunction(\n",
              "            'suggestCharts', [key], {});\n",
              "      }\n",
              "    </script>\n",
              "\n",
              "\n",
              "      <script>\n",
              "\n",
              "function displayQuickchartButton(domScope) {\n",
              "  let quickchartButtonEl =\n",
              "    domScope.querySelector('#df-cd6d700b-5475-47d7-a8b6-7c84ca8e7384 button.colab-df-quickchart');\n",
              "  quickchartButtonEl.style.display =\n",
              "    google.colab.kernel.accessAllowed ? 'block' : 'none';\n",
              "}\n",
              "\n",
              "        displayQuickchartButton(document);\n",
              "      </script>\n",
              "      <style>\n",
              "    .colab-df-container {\n",
              "      display:flex;\n",
              "      flex-wrap:wrap;\n",
              "      gap: 12px;\n",
              "    }\n",
              "\n",
              "    .colab-df-convert {\n",
              "      background-color: #E8F0FE;\n",
              "      border: none;\n",
              "      border-radius: 50%;\n",
              "      cursor: pointer;\n",
              "      display: none;\n",
              "      fill: #1967D2;\n",
              "      height: 32px;\n",
              "      padding: 0 0 0 0;\n",
              "      width: 32px;\n",
              "    }\n",
              "\n",
              "    .colab-df-convert:hover {\n",
              "      background-color: #E2EBFA;\n",
              "      box-shadow: 0px 1px 2px rgba(60, 64, 67, 0.3), 0px 1px 3px 1px rgba(60, 64, 67, 0.15);\n",
              "      fill: #174EA6;\n",
              "    }\n",
              "\n",
              "    [theme=dark] .colab-df-convert {\n",
              "      background-color: #3B4455;\n",
              "      fill: #D2E3FC;\n",
              "    }\n",
              "\n",
              "    [theme=dark] .colab-df-convert:hover {\n",
              "      background-color: #434B5C;\n",
              "      box-shadow: 0px 1px 3px 1px rgba(0, 0, 0, 0.15);\n",
              "      filter: drop-shadow(0px 1px 2px rgba(0, 0, 0, 0.3));\n",
              "      fill: #FFFFFF;\n",
              "    }\n",
              "  </style>\n",
              "\n",
              "      <script>\n",
              "        const buttonEl =\n",
              "          document.querySelector('#df-94352231-b361-4163-81f4-e4e8e7d0f6be button.colab-df-convert');\n",
              "        buttonEl.style.display =\n",
              "          google.colab.kernel.accessAllowed ? 'block' : 'none';\n",
              "\n",
              "        async function convertToInteractive(key) {\n",
              "          const element = document.querySelector('#df-94352231-b361-4163-81f4-e4e8e7d0f6be');\n",
              "          const dataTable =\n",
              "            await google.colab.kernel.invokeFunction('convertToInteractive',\n",
              "                                                     [key], {});\n",
              "          if (!dataTable) return;\n",
              "\n",
              "          const docLinkHtml = 'Like what you see? Visit the ' +\n",
              "            '<a target=\"_blank\" href=https://colab.research.google.com/notebooks/data_table.ipynb>data table notebook</a>'\n",
              "            + ' to learn more about interactive tables.';\n",
              "          element.innerHTML = '';\n",
              "          dataTable['output_type'] = 'display_data';\n",
              "          await google.colab.output.renderOutput(dataTable, element);\n",
              "          const docLink = document.createElement('div');\n",
              "          docLink.innerHTML = docLinkHtml;\n",
              "          element.appendChild(docLink);\n",
              "        }\n",
              "      </script>\n",
              "    </div>\n",
              "  </div>\n"
            ]
          },
          "metadata": {},
          "execution_count": 13
        }
      ]
    },
    {
      "id": "636cbe74-d50a-4fda-8346-ad2a3393afb1",
      "cell_type": "code",
      "metadata": {
        "noteable": {
          "cell_type": "code",
          "output_collection_id": "d627a5ec-7c19-4d6b-817e-15eee0d146ab"
        },
        "ExecuteTime": {
          "end_time": "2023-08-14T14:00:23.206789+00:00",
          "start_time": "2023-08-14T14:00:22.861615+00:00"
        },
        "colab": {
          "base_uri": "https://localhost:8080/"
        },
        "id": "636cbe74-d50a-4fda-8346-ad2a3393afb1",
        "outputId": "9619962b-5394-4eb5-d653-954d5db19fe9"
      },
      "execution_count": 14,
      "source": [
        "from sklearn.model_selection import train_test_split\n",
        "\n",
        "# Features (X) and Target variable (y)\n",
        "X = fp_df\n",
        "y = data['pIC50']\n",
        "\n",
        "# Split the data into training and testing sets (80% train, 20% test)\n",
        "X_train, X_test, y_train, y_test = train_test_split(X, y, test_size=0.2, random_state=42)\n",
        "\n",
        "# Display the shape of the training and testing sets\n",
        "X_train.shape, X_test.shape, y_train.shape, y_test.shape"
      ],
      "outputs": [
        {
          "output_type": "execute_result",
          "data": {
            "text/plain": [
              "((12869, 2048), (3218, 2048), (12869,), (3218,))"
            ]
          },
          "metadata": {},
          "execution_count": 14
        }
      ]
    },
    {
      "id": "6a4ef1bc-664e-4971-bf36-96284800af61",
      "cell_type": "code",
      "metadata": {
        "noteable": {
          "cell_type": "code",
          "output_collection_id": "fb043a83-2307-4b6c-b92d-3724e56b491b"
        },
        "ExecuteTime": {
          "end_time": "2023-08-14T14:28:37.935554+00:00",
          "start_time": "2023-08-14T14:28:15.863561+00:00"
        },
        "colab": {
          "base_uri": "https://localhost:8080/"
        },
        "id": "6a4ef1bc-664e-4971-bf36-96284800af61",
        "outputId": "a68157d9-6eff-4b59-9079-9131833d4d0b"
      },
      "execution_count": 16,
      "source": [
        "from sklearn.linear_model import Ridge, Lasso\n",
        "from sklearn.tree import DecisionTreeRegressor\n",
        "from sklearn.metrics import mean_squared_error, r2_score\n",
        "\n",
        "# Initialize the models\n",
        "ridge = Ridge()\n",
        "lasso = Lasso()\n",
        "tree = DecisionTreeRegressor()\n",
        "\n",
        "# Train the models\n",
        "ridge.fit(X_train, y_train)\n",
        "lasso.fit(X_train, y_train)\n",
        "tree.fit(X_train, y_train)\n",
        "\n",
        "# Predict on the test set\n",
        "y_pred_ridge = ridge.predict(X_test)\n",
        "y_pred_lasso = lasso.predict(X_test)\n",
        "y_pred_tree = tree.predict(X_test)\n",
        "\n",
        "# Calculate the mean squared error for each model\n",
        "ridge_mse = mean_squared_error(y_test, y_pred_ridge)\n",
        "ridge_r2 = r2_score(y_test, y_pred_ridge)\n",
        "lasso_mse = mean_squared_error(y_test, y_pred_lasso)\n",
        "lasso_r2 = r2_score(y_test, y_pred_lasso)\n",
        "tree_mse = mean_squared_error(y_test, y_pred_tree)\n",
        "tree_r2 = r2_score(y_test, y_pred_tree)\n",
        "\n",
        "print(f'Mean Squared Error Ridge:{ridge_mse},Lasso:{lasso_mse}, Decision Tree:{tree_mse}')"
      ],
      "outputs": [
        {
          "output_type": "stream",
          "name": "stdout",
          "text": [
            "Mean Squared Error Ridge:0.4011076904824117,Lasso:5.411605528700312, Decision Tree:0.4032964731803743\n"
          ]
        }
      ]
    },
    {
      "id": "a88ba4a4-4751-4676-94da-162f2096a74d",
      "cell_type": "code",
      "metadata": {
        "noteable": {
          "cell_type": "code",
          "output_collection_id": "90b2555a-0740-49f3-9b29-e327c7ce2547"
        },
        "ExecuteTime": {
          "end_time": "2023-08-14T14:03:55.205942+00:00",
          "start_time": "2023-08-14T14:00:49.241880+00:00"
        },
        "colab": {
          "base_uri": "https://localhost:8080/"
        },
        "id": "a88ba4a4-4751-4676-94da-162f2096a74d",
        "outputId": "c83e7ef7-878d-4a82-b1af-3b9e5baa30e3"
      },
      "execution_count": 17,
      "source": [
        "from sklearn.linear_model import LinearRegression\n",
        "from sklearn.metrics import mean_squared_error, r2_score\n",
        "\n",
        "# Initialize and train the Linear Regression model\n",
        "lr_model = LinearRegression()\n",
        "lr_model.fit(X_train, y_train)\n",
        "\n",
        "# Predict on the test set\n",
        "lr_predictions = lr_model.predict(X_test)\n",
        "\n",
        "# Evaluate the model\n",
        "lr_mse = mean_squared_error(y_test, lr_predictions)\n",
        "lr_r2 = r2_score(y_test, lr_predictions)\n",
        "\n",
        "lr_mse, lr_r2"
      ],
      "outputs": [
        {
          "output_type": "execute_result",
          "data": {
            "text/plain": [
              "(0.4100651483352943, 0.9241637941185492)"
            ]
          },
          "metadata": {},
          "execution_count": 17
        }
      ]
    },
    {
      "id": "6add29a3-5e00-49c5-8fdb-1c0d76544aec",
      "cell_type": "code",
      "metadata": {
        "noteable": {
          "cell_type": "code",
          "output_collection_id": "279a11da-c5b8-430c-9fc9-f5977e188545"
        },
        "ExecuteTime": {
          "end_time": "2023-08-14T14:15:41.045404+00:00",
          "start_time": "2023-08-14T14:03:55.215948+00:00"
        },
        "colab": {
          "base_uri": "https://localhost:8080/"
        },
        "id": "6add29a3-5e00-49c5-8fdb-1c0d76544aec",
        "outputId": "5f2384f7-aae4-4db6-d0b7-6550d2a2ff42"
      },
      "execution_count": 18,
      "source": [
        "from sklearn.ensemble import RandomForestRegressor, GradientBoostingRegressor\n",
        "\n",
        "# Initialize and train the Random Forest Regressor\n",
        "rf_model = RandomForestRegressor(n_estimators=100, random_state=42)\n",
        "rf_model.fit(X_train, y_train)\n",
        "\n",
        "# Predict on the test set\n",
        "rf_predictions = rf_model.predict(X_test)\n",
        "\n",
        "# Evaluate the model\n",
        "rf_mse = mean_squared_error(y_test, rf_predictions)\n",
        "rf_r2 = r2_score(y_test, rf_predictions)\n",
        "\n",
        "# Initialize and train the Gradient Boosting Regressor\n",
        "gb_model = GradientBoostingRegressor(n_estimators=100, random_state=42)\n",
        "gb_model.fit(X_train, y_train)\n",
        "\n",
        "# Predict on the test set\n",
        "gb_predictions = gb_model.predict(X_test)\n",
        "\n",
        "# Evaluate the model\n",
        "gb_mse = mean_squared_error(y_test, gb_predictions)\n",
        "gb_r2 = r2_score(y_test, gb_predictions)\n",
        "\n",
        "rf_mse, rf_r2, gb_mse, gb_r2"
      ],
      "outputs": [
        {
          "output_type": "execute_result",
          "data": {
            "text/plain": [
              "(0.2526624209087907, 0.953273377539323, 0.3919644902417822, 0.9275112749745592)"
            ]
          },
          "metadata": {},
          "execution_count": 18
        }
      ]
    },
    {
      "id": "93b08eee-3c11-4928-813f-380889940d1c",
      "cell_type": "code",
      "metadata": {
        "noteable": {
          "cell_type": "code",
          "output_collection_id": "26c46701-b5b5-4468-acf1-caeb66ac4438"
        },
        "ExecuteTime": {
          "end_time": "2023-08-14T14:21:38.077289+00:00",
          "start_time": "2023-08-14T14:20:58.758799+00:00"
        },
        "id": "93b08eee-3c11-4928-813f-380889940d1c"
      },
      "execution_count": null,
      "source": [
        "#!pip install tensorflow"
      ],
      "outputs": []
    },
    {
      "id": "7aef66ab-8653-4f47-a1bc-65ca19ccaffb",
      "cell_type": "code",
      "metadata": {
        "noteable": {
          "cell_type": "code",
          "output_collection_id": "51a1242b-0fc3-4f6b-afae-08d001628ddc"
        },
        "ExecuteTime": {
          "end_time": "2023-08-14T14:26:42.325286+00:00",
          "start_time": "2023-08-14T14:21:38.086484+00:00"
        },
        "colab": {
          "base_uri": "https://localhost:8080/"
        },
        "id": "7aef66ab-8653-4f47-a1bc-65ca19ccaffb",
        "outputId": "eab4f082-e0f5-46c1-e4c5-8f55fc2d182c"
      },
      "execution_count": 19,
      "source": [
        "import tensorflow as tf\n",
        "from tensorflow.keras.models import Sequential\n",
        "from tensorflow.keras.layers import Dense, Dropout\n",
        "from tensorflow.keras.optimizers import Adam\n",
        "\n",
        "# Define the neural network model\n",
        "model = Sequential()\n",
        "model.add(Dense(512, activation='relu', input_shape=(X_train.shape[1],)))\n",
        "model.add(Dropout(0.5))\n",
        "model.add(Dense(256, activation='relu'))\n",
        "model.add(Dropout(0.5))\n",
        "model.add(Dense(128, activation='relu'))\n",
        "model.add(Dense(1, activation='linear'))\n",
        "\n",
        "# Compile the model\n",
        "model.compile(optimizer=Adam(learning_rate=0.001), loss='mean_squared_error')\n",
        "\n",
        "# Train the model\n",
        "history = model.fit(X_train, y_train, epochs=10, batch_size=32, validation_data=(X_test, y_test), verbose=1)"
      ],
      "outputs": [
        {
          "output_type": "stream",
          "name": "stdout",
          "text": [
            "Epoch 1/10\n",
            "403/403 [==============================] - 10s 21ms/step - loss: 0.9115 - val_loss: 0.2130\n",
            "Epoch 2/10\n",
            "403/403 [==============================] - 8s 20ms/step - loss: 0.3832 - val_loss: 0.3602\n",
            "Epoch 3/10\n",
            "403/403 [==============================] - 9s 23ms/step - loss: 0.2980 - val_loss: 0.2559\n",
            "Epoch 4/10\n",
            "403/403 [==============================] - 7s 18ms/step - loss: 0.3172 - val_loss: 0.2210\n",
            "Epoch 5/10\n",
            "403/403 [==============================] - 9s 21ms/step - loss: 0.2412 - val_loss: 0.1701\n",
            "Epoch 6/10\n",
            "403/403 [==============================] - 7s 18ms/step - loss: 0.2267 - val_loss: 0.3107\n",
            "Epoch 7/10\n",
            "403/403 [==============================] - 8s 21ms/step - loss: 0.2077 - val_loss: 0.2904\n",
            "Epoch 8/10\n",
            "403/403 [==============================] - 8s 21ms/step - loss: 0.2013 - val_loss: 0.2408\n",
            "Epoch 9/10\n",
            "403/403 [==============================] - 7s 18ms/step - loss: 0.1821 - val_loss: 0.2904\n",
            "Epoch 10/10\n",
            "403/403 [==============================] - 8s 21ms/step - loss: 0.1891 - val_loss: 0.2118\n"
          ]
        }
      ]
    },
    {
      "id": "872fa036-ebae-4662-875e-a86d985565a5",
      "cell_type": "code",
      "metadata": {
        "noteable": {
          "cell_type": "code",
          "output_collection_id": "8d99a9e8-d0f9-4e41-af73-98d345888f59"
        },
        "ExecuteTime": {
          "end_time": "2023-08-14T14:30:50.642747+00:00",
          "start_time": "2023-08-14T14:30:48.033592+00:00"
        },
        "colab": {
          "base_uri": "https://localhost:8080/"
        },
        "id": "872fa036-ebae-4662-875e-a86d985565a5",
        "outputId": "3539e9ff-edce-4b55-9919-71440b9d9592"
      },
      "execution_count": 20,
      "source": [
        "# Predict on the test set using the neural network model\n",
        "nn_predictions = model.predict(X_test).flatten()\n",
        "\n",
        "# Evaluate the neural network model\n",
        "nn_mse = mean_squared_error(y_test, nn_predictions)\n",
        "nn_r2 = r2_score(y_test, nn_predictions)\n",
        "\n",
        "nn_mse, nn_r2"
      ],
      "outputs": [
        {
          "output_type": "stream",
          "name": "stdout",
          "text": [
            "101/101 [==============================] - 0s 4ms/step\n"
          ]
        },
        {
          "output_type": "execute_result",
          "data": {
            "text/plain": [
              "(0.2118047071021881, 0.9608294793164712)"
            ]
          },
          "metadata": {},
          "execution_count": 20
        }
      ]
    },
    {
      "id": "3475baf9-c38b-411c-9fab-1841f17a9f83",
      "cell_type": "code",
      "metadata": {
        "noteable": {
          "cell_type": "code",
          "output_collection_id": "a1d30b2b-05b1-4ac1-a5ef-e66ea5ef71cb"
        },
        "ExecuteTime": {
          "end_time": "2023-08-14T14:30:55.004157+00:00",
          "start_time": "2023-08-14T14:30:54.145637+00:00"
        },
        "colab": {
          "base_uri": "https://localhost:8080/",
          "height": 352
        },
        "id": "3475baf9-c38b-411c-9fab-1841f17a9f83",
        "outputId": "c3bee834-e328-4ee8-b5d3-b85f1c5d14ba"
      },
      "execution_count": 21,
      "source": [
        "import matplotlib.pyplot as plt\n",
        "\n",
        "# Data for comparison\n",
        "models = ['Linear Regression', 'Random Forest', 'Gradient Boosting', 'Neural Network', 'Decision Tree','Ridge', 'Lasso']\n",
        "mse_values = [lr_mse, rf_mse, gb_mse, nn_mse, tree_mse, ridge_mse, lasso_mse]\n",
        "r2_values = [lr_r2, rf_r2, gb_r2, nn_r2, tree_r2, ridge_r2, lasso_r2]\n",
        "\n",
        "# Plots for MSE and R^2\n",
        "fig, (ax1, ax2) = plt.subplots(1, 2, figsize=(15,6))\n",
        "\n",
        "# MSE Plot\n",
        "ax1.bar(models, mse_values, color='tab:red')\n",
        "ax1.set_xlabel('Models')\n",
        "ax1.set_ylabel('MSE')\n",
        "ax1.set_title('Mean Squared Error (MSE) Comparison')\n",
        "\n",
        "# R^2 Plot\n",
        "ax2.bar(models, r2_values, color='tab:blue')\n",
        "ax2.set_xlabel('Models')\n",
        "ax2.set_ylabel('R^2 Score')\n",
        "ax2.set_title('R^2 Score Comparison')\n",
        "\n",
        "fig.tight_layout()\n",
        "plt.show()"
      ],
      "outputs": [
        {
          "output_type": "display_data",
          "data": {
            "text/plain": [
              "<Figure size 1500x600 with 2 Axes>"
            ],
            "image/png": "[encoded data removed]"
          },
          "metadata": {}
        }
      ]
    },
    {
      "id": "66b2f85a-0db8-49ed-9913-23af3f2e6af6",
      "cell_type": "markdown",
      "source": [
        "## Conclusion\n",
        "\n",
        "### Results Summary\n",
        "Various machine learning and deep learning models were trained and evaluated on the ReLeaSE dataset. The Neural Network model outperformed other models, showcasing the lowest Mean Squared Error (MSE) and the highest R^2 score. This indicates that the Neural Network model provides the best fit to the dataset among the models we trained.\n",
        "\n",
        "### Significance of Results\n",
        "The ability to accurately predict protein-ligand binding affinity is crucial in drug discovery. A model with a high predictive accuracy can aid researchers in identifying potential drug candidates more efficiently. The results obtained from this project can serve as a foundation for further research and development in the field of drug discovery.\n",
        "\n",
        "###Limitations:\n",
        "A significant challenge encountered during the analysis was the presence of a large number of missing values in the dataset. While imputation methods were employed to address this, the quality of predictions could be affected by the absence of original data. Additionally, the dataset's size and diversity could influence the generalizability of the models to other molecular structures and protein targets.\n",
        "\n",
        "### Future Trajectories\n",
        "For future research, several avenues can be explored:\n",
        "- **Advanced Neural Network Architectures**: Exploring more complex neural network architectures, such as convolutional neural networks (CNNs) or recurrent neural networks (RNNs), might provide better performance for sequence data like SMILES.\n",
        "- **Transfer Learning**: Leveraging pre-trained models on similar tasks and fine-tuning them on our dataset can potentially improve predictive accuracy.\n",
        "- **External Validation**: Validating the model's performance on external datasets can ensure its generalizability and robustness.\n",
        "- **Incorporation of Additional Data**: Including more molecular descriptors or integrating data from other sources can enhance the model's predictive capabilities."
      ],
      "metadata": {
        "noteable": {
          "cell_type": "markdown"
        },
        "id": "66b2f85a-0db8-49ed-9913-23af3f2e6af6"
      }
    }
  ]
}