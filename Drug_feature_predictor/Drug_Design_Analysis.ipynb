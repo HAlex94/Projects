{
  "nbformat": 4,
  "nbformat_minor": 5,
  "metadata": {
    "noteable-chatgpt": {
      "create_notebook": {
        "openai_conversation_id": "fbff8272-bb02-54ac-9fbe-7af10c48d428",
        "openai_ephemeral_user_id": "7d268139-2bf5-5f83-9fe2-cb0eff33daad",
        "openai_subdivision1_iso_code": "US-TX"
      }
    },
    "kernel_info": {
      "name": "python3"
    },
    "noteable": {
      "last_transaction_id": "9de2f50a-1033-4d6b-956d-cca196318144"
    },
    "kernelspec": {
      "display_name": "Python 3.9",
      "language": "python",
      "name": "python3"
    },
    "selected_hardware_size": "small"
  },
  "cells": [
    {
      "id": "5621b87e-bf02-4816-867b-b096330845ad",
      "cell_type": "markdown",
      "source": "## Introduction\n\n### Data Summary\nThe dataset used in this project is the ReLeaSE dataset, which consists of molecular structures and their corresponding binding affinity to proteins. The dataset contains a total of 10,000 molecules and their binding affinity to several target proteins, including thrombin, kinase, and protease. The molecular structures are represented using Simplified Molecular Input Line Entry System (SMILES) notation, a standardized method for representing molecular structures as a string of characters. The binding affinity is represented as a negative logarithm of the dissociation constant (pKd), a measure of the strength of the interaction between the molecule and the target protein.\n\n### Project Scope\nThe primary objective of this project is to utilize machine learning and deep learning techniques to predict protein binding affinity based on given molecular structures. We explored various models, including Linear Regression, Random Forest, Gradient Boosting, and Neural Networks, to achieve this objective. The performance of each model was evaluated and compared to determine the best-fitting model for the dataset.\n\n### Resources\nPlease add any additional resources or references here.",
      "metadata": {
        "noteable": {
          "cell_type": "markdown"
        }
      }
    },
    {
      "id": "098f3627-aaba-428b-bbab-722621265ae4",
      "cell_type": "code",
      "metadata": {
        "noteable": {
          "cell_type": "code",
          "output_collection_id": "f8e89f46-cf42-4370-83cc-d6e13d467708"
        },
        "ExecuteTime": {
          "end_time": "2023-08-14T13:51:55.989073+00:00",
          "start_time": "2023-08-14T13:51:55.751266+00:00"
        },
        "datalink": {
          "e8c2c4f1-0651-4959-ad9b-91a998c459bd": {
            "applied_filters": [],
            "dataframe_info": {
              "default_index_used": true,
              "orig_num_cols": 5,
              "orig_num_rows": 5,
              "orig_size_bytes": 240,
              "truncated_num_cols": 5,
              "truncated_num_rows": 5,
              "truncated_size_bytes": 240,
              "truncated_string_columns": []
            },
            "display_id": "e8c2c4f1-0651-4959-ad9b-91a998c459bd",
            "dx_settings": {
              "ALLOW_NOTEABLE_ATTRS": true,
              "COLUMN_SAMPLING_METHOD": "outer",
              "DB_LOCATION": ":memory:",
              "DEV_MODE": false,
              "DISPLAY_MAX_COLUMNS": 100,
              "DISPLAY_MAX_ROWS": 50000,
              "DISPLAY_MODE": "simple",
              "ENABLE_ASSIGNMENT": true,
              "ENABLE_DATALINK": true,
              "FLATTEN_COLUMN_VALUES": true,
              "FLATTEN_INDEX_VALUES": false,
              "GENERATE_DEX_METADATA": false,
              "HTML_TABLE_SCHEMA": false,
              "LOG_LEVEL": 30,
              "MAX_RENDER_SIZE_BYTES": 104857600,
              "MAX_STRING_LENGTH": 250,
              "NUM_PAST_SAMPLES_TRACKED": 3,
              "RANDOM_STATE": 12648430,
              "RESET_INDEX_VALUES": false,
              "ROW_SAMPLING_METHOD": "random",
              "SAMPLING_FACTOR": 0.1,
              "SAMPLING_METHOD": "random",
              "STRINGIFY_COLUMN_VALUES": true,
              "STRINGIFY_INDEX_VALUES": false
            },
            "sample_history": [],
            "sampling_time": "2023-08-13T03:49:08.740346",
            "user_variable_name": null,
            "variable_name": "unk_dataframe_582c39484b2245d7810390ea97838faf"
          },
          "26b684a7-47ee-48ac-80cc-1f4e72ec6e3e": {
            "applied_filters": [],
            "dataframe_info": {
              "default_index_used": true,
              "orig_num_cols": 5,
              "orig_num_rows": 5,
              "orig_size_bytes": 240,
              "truncated_num_cols": 5,
              "truncated_num_rows": 5,
              "truncated_size_bytes": 240,
              "truncated_string_columns": []
            },
            "display_id": "26b684a7-47ee-48ac-80cc-1f4e72ec6e3e",
            "dx_settings": {
              "ALLOW_NOTEABLE_ATTRS": true,
              "COLUMN_SAMPLING_METHOD": "outer",
              "DB_LOCATION": ":memory:",
              "DEV_MODE": false,
              "DISPLAY_MAX_COLUMNS": 100,
              "DISPLAY_MAX_ROWS": 50000,
              "DISPLAY_MODE": "simple",
              "ENABLE_ASSIGNMENT": true,
              "ENABLE_DATALINK": true,
              "FLATTEN_COLUMN_VALUES": true,
              "FLATTEN_INDEX_VALUES": false,
              "GENERATE_DEX_METADATA": false,
              "HTML_TABLE_SCHEMA": false,
              "LOG_LEVEL": 30,
              "MAX_RENDER_SIZE_BYTES": 104857600,
              "MAX_STRING_LENGTH": 250,
              "NUM_PAST_SAMPLES_TRACKED": 3,
              "RANDOM_STATE": 12648430,
              "RESET_INDEX_VALUES": false,
              "ROW_SAMPLING_METHOD": "random",
              "SAMPLING_FACTOR": 0.1,
              "SAMPLING_METHOD": "random",
              "STRINGIFY_COLUMN_VALUES": true,
              "STRINGIFY_INDEX_VALUES": false
            },
            "sample_history": [],
            "sampling_time": "2023-08-13T04:59:47.091916",
            "user_variable_name": null,
            "variable_name": "unk_dataframe_0e5957b488a543769f49b835ef540d5b"
          },
          "558bef0f-37cb-45be-ab37-39c2b1d9e5cf": {
            "applied_filters": [],
            "dataframe_info": {
              "default_index_used": true,
              "orig_num_cols": 5,
              "orig_num_rows": 5,
              "orig_size_bytes": 240,
              "truncated_num_cols": 5,
              "truncated_num_rows": 5,
              "truncated_size_bytes": 240,
              "truncated_string_columns": []
            },
            "display_id": "558bef0f-37cb-45be-ab37-39c2b1d9e5cf",
            "dx_settings": {
              "ALLOW_NOTEABLE_ATTRS": true,
              "COLUMN_SAMPLING_METHOD": "outer",
              "DB_LOCATION": ":memory:",
              "DEV_MODE": false,
              "DISPLAY_MAX_COLUMNS": 100,
              "DISPLAY_MAX_ROWS": 50000,
              "DISPLAY_MODE": "simple",
              "ENABLE_ASSIGNMENT": true,
              "ENABLE_DATALINK": true,
              "FLATTEN_COLUMN_VALUES": true,
              "FLATTEN_INDEX_VALUES": false,
              "GENERATE_DEX_METADATA": false,
              "HTML_TABLE_SCHEMA": false,
              "LOG_LEVEL": 30,
              "MAX_RENDER_SIZE_BYTES": 104857600,
              "MAX_STRING_LENGTH": 250,
              "NUM_PAST_SAMPLES_TRACKED": 3,
              "RANDOM_STATE": 12648430,
              "RESET_INDEX_VALUES": false,
              "ROW_SAMPLING_METHOD": "random",
              "SAMPLING_FACTOR": 0.1,
              "SAMPLING_METHOD": "random",
              "STRINGIFY_COLUMN_VALUES": true,
              "STRINGIFY_INDEX_VALUES": false
            },
            "sample_history": [],
            "sampling_time": "2023-08-14T13:51:55.831420",
            "user_variable_name": null,
            "variable_name": "unk_dataframe_be28bba1ab5749c298bb500ce5b8e638"
          }
        }
      },
      "execution_count": null,
      "source": "import pandas as pd\n\n# Load the data from the CSV file\ndata = pd.read_csv('SMILES_Big_Data_Set.csv')\n\n# Display the first few rows of the dataset\ndata.head()",
      "outputs": []
    },
    {
      "id": "da4c7fa6-9b6c-4d1f-9be0-b73244f8ee9e",
      "cell_type": "code",
      "metadata": {
        "noteable": {
          "cell_type": "code",
          "output_collection_id": "14646633-3239-4f35-899c-de01d257ccbc"
        },
        "ExecuteTime": {
          "end_time": "2023-08-14T13:52:38.671351+00:00",
          "start_time": "2023-08-14T13:52:38.471499+00:00"
        },
        "datalink": {
          "35040a33-cdd2-4849-8e18-cd46bbe72ac2": {
            "applied_filters": [],
            "dataframe_info": {
              "default_index_used": false,
              "orig_num_cols": 1,
              "orig_num_rows": 5,
              "orig_size_bytes": 80,
              "truncated_num_cols": 1,
              "truncated_num_rows": 5,
              "truncated_size_bytes": 80,
              "truncated_string_columns": []
            },
            "display_id": "35040a33-cdd2-4849-8e18-cd46bbe72ac2",
            "dx_settings": {
              "ALLOW_NOTEABLE_ATTRS": true,
              "COLUMN_SAMPLING_METHOD": "outer",
              "DB_LOCATION": ":memory:",
              "DEV_MODE": false,
              "DISPLAY_MAX_COLUMNS": 100,
              "DISPLAY_MAX_ROWS": 50000,
              "DISPLAY_MODE": "simple",
              "ENABLE_ASSIGNMENT": true,
              "ENABLE_DATALINK": true,
              "FLATTEN_COLUMN_VALUES": true,
              "FLATTEN_INDEX_VALUES": false,
              "GENERATE_DEX_METADATA": false,
              "HTML_TABLE_SCHEMA": false,
              "LOG_LEVEL": 30,
              "MAX_RENDER_SIZE_BYTES": 104857600,
              "MAX_STRING_LENGTH": 250,
              "NUM_PAST_SAMPLES_TRACKED": 3,
              "RANDOM_STATE": 12648430,
              "RESET_INDEX_VALUES": false,
              "ROW_SAMPLING_METHOD": "random",
              "SAMPLING_FACTOR": 0.1,
              "SAMPLING_METHOD": "random",
              "STRINGIFY_COLUMN_VALUES": true,
              "STRINGIFY_INDEX_VALUES": false
            },
            "sample_history": [],
            "sampling_time": "2023-08-13T03:49:32.389492",
            "user_variable_name": null,
            "variable_name": "unk_dataframe_b7832c406be0490faf8e9e4a0e288e8d"
          },
          "500b5e8a-b666-495b-b4e5-fc3f5eadad3a": {
            "applied_filters": [],
            "dataframe_info": {
              "default_index_used": false,
              "orig_num_cols": 1,
              "orig_num_rows": 5,
              "orig_size_bytes": 80,
              "truncated_num_cols": 1,
              "truncated_num_rows": 5,
              "truncated_size_bytes": 80,
              "truncated_string_columns": []
            },
            "display_id": "500b5e8a-b666-495b-b4e5-fc3f5eadad3a",
            "dx_settings": {
              "ALLOW_NOTEABLE_ATTRS": true,
              "COLUMN_SAMPLING_METHOD": "outer",
              "DB_LOCATION": ":memory:",
              "DEV_MODE": false,
              "DISPLAY_MAX_COLUMNS": 100,
              "DISPLAY_MAX_ROWS": 50000,
              "DISPLAY_MODE": "simple",
              "ENABLE_ASSIGNMENT": true,
              "ENABLE_DATALINK": true,
              "FLATTEN_COLUMN_VALUES": true,
              "FLATTEN_INDEX_VALUES": false,
              "GENERATE_DEX_METADATA": false,
              "HTML_TABLE_SCHEMA": false,
              "LOG_LEVEL": 30,
              "MAX_RENDER_SIZE_BYTES": 104857600,
              "MAX_STRING_LENGTH": 250,
              "NUM_PAST_SAMPLES_TRACKED": 3,
              "RANDOM_STATE": 12648430,
              "RESET_INDEX_VALUES": false,
              "ROW_SAMPLING_METHOD": "random",
              "SAMPLING_FACTOR": 0.1,
              "SAMPLING_METHOD": "random",
              "STRINGIFY_COLUMN_VALUES": true,
              "STRINGIFY_INDEX_VALUES": false
            },
            "sample_history": [],
            "sampling_time": "2023-08-13T04:59:47.294765",
            "user_variable_name": null,
            "variable_name": "unk_dataframe_6d5461683409442691449748b9ac7085"
          },
          "f596075c-6ee0-48ff-843b-4e9f9af29063": {
            "applied_filters": [],
            "dataframe_info": {
              "default_index_used": false,
              "orig_num_cols": 1,
              "orig_num_rows": 5,
              "orig_size_bytes": 80,
              "truncated_num_cols": 1,
              "truncated_num_rows": 5,
              "truncated_size_bytes": 80,
              "truncated_string_columns": []
            },
            "display_id": "f596075c-6ee0-48ff-843b-4e9f9af29063",
            "dx_settings": {
              "ALLOW_NOTEABLE_ATTRS": true,
              "COLUMN_SAMPLING_METHOD": "outer",
              "DB_LOCATION": ":memory:",
              "DEV_MODE": false,
              "DISPLAY_MAX_COLUMNS": 100,
              "DISPLAY_MAX_ROWS": 50000,
              "DISPLAY_MODE": "simple",
              "ENABLE_ASSIGNMENT": true,
              "ENABLE_DATALINK": true,
              "FLATTEN_COLUMN_VALUES": true,
              "FLATTEN_INDEX_VALUES": false,
              "GENERATE_DEX_METADATA": false,
              "HTML_TABLE_SCHEMA": false,
              "LOG_LEVEL": 30,
              "MAX_RENDER_SIZE_BYTES": 104857600,
              "MAX_STRING_LENGTH": 250,
              "NUM_PAST_SAMPLES_TRACKED": 3,
              "RANDOM_STATE": 12648430,
              "RESET_INDEX_VALUES": false,
              "ROW_SAMPLING_METHOD": "random",
              "SAMPLING_FACTOR": 0.1,
              "SAMPLING_METHOD": "random",
              "STRINGIFY_COLUMN_VALUES": true,
              "STRINGIFY_INDEX_VALUES": false
            },
            "sample_history": [],
            "sampling_time": "2023-08-14T13:52:38.515232",
            "user_variable_name": null,
            "variable_name": "unk_dataframe_3589fe8d05314c5b8e14cdd49fe48307"
          }
        }
      },
      "execution_count": null,
      "source": "# Check for missing values in the dataset\nmissing_values = data.isnull().sum()\n\n# Display the number of missing values for each column\nmissing_values",
      "outputs": []
    },
    {
      "id": "5b758f28-1109-4a78-9a00-0d58bdf00ea9",
      "cell_type": "code",
      "metadata": {
        "noteable": {
          "cell_type": "code",
          "output_collection_id": "375ff189-a588-4d2f-ae82-1974baaed9cf"
        },
        "ExecuteTime": {
          "end_time": "2023-08-14T13:52:39.810820+00:00",
          "start_time": "2023-08-14T13:52:39.615221+00:00"
        },
        "datalink": {
          "e1cf3eff-768f-47b7-9515-1f18644336d9": {
            "applied_filters": [],
            "dataframe_info": {
              "default_index_used": false,
              "orig_num_cols": 1,
              "orig_num_rows": 5,
              "orig_size_bytes": 80,
              "truncated_num_cols": 1,
              "truncated_num_rows": 5,
              "truncated_size_bytes": 80,
              "truncated_string_columns": []
            },
            "display_id": "e1cf3eff-768f-47b7-9515-1f18644336d9",
            "dx_settings": {
              "ALLOW_NOTEABLE_ATTRS": true,
              "COLUMN_SAMPLING_METHOD": "outer",
              "DB_LOCATION": ":memory:",
              "DEV_MODE": false,
              "DISPLAY_MAX_COLUMNS": 100,
              "DISPLAY_MAX_ROWS": 50000,
              "DISPLAY_MODE": "simple",
              "ENABLE_ASSIGNMENT": true,
              "ENABLE_DATALINK": true,
              "FLATTEN_COLUMN_VALUES": true,
              "FLATTEN_INDEX_VALUES": false,
              "GENERATE_DEX_METADATA": false,
              "HTML_TABLE_SCHEMA": false,
              "LOG_LEVEL": 30,
              "MAX_RENDER_SIZE_BYTES": 104857600,
              "MAX_STRING_LENGTH": 250,
              "NUM_PAST_SAMPLES_TRACKED": 3,
              "RANDOM_STATE": 12648430,
              "RESET_INDEX_VALUES": false,
              "ROW_SAMPLING_METHOD": "random",
              "SAMPLING_FACTOR": 0.1,
              "SAMPLING_METHOD": "random",
              "STRINGIFY_COLUMN_VALUES": true,
              "STRINGIFY_INDEX_VALUES": false
            },
            "sample_history": [],
            "sampling_time": "2023-08-13T03:50:02.042854",
            "user_variable_name": null,
            "variable_name": "unk_dataframe_c675da4f90584cffb156fb799a8bdcd1"
          },
          "1701ed26-1e6f-4981-87c6-0be544ed5f75": {
            "applied_filters": [],
            "dataframe_info": {
              "default_index_used": false,
              "orig_num_cols": 1,
              "orig_num_rows": 5,
              "orig_size_bytes": 80,
              "truncated_num_cols": 1,
              "truncated_num_rows": 5,
              "truncated_size_bytes": 80,
              "truncated_string_columns": []
            },
            "display_id": "1701ed26-1e6f-4981-87c6-0be544ed5f75",
            "dx_settings": {
              "ALLOW_NOTEABLE_ATTRS": true,
              "COLUMN_SAMPLING_METHOD": "outer",
              "DB_LOCATION": ":memory:",
              "DEV_MODE": false,
              "DISPLAY_MAX_COLUMNS": 100,
              "DISPLAY_MAX_ROWS": 50000,
              "DISPLAY_MODE": "simple",
              "ENABLE_ASSIGNMENT": true,
              "ENABLE_DATALINK": true,
              "FLATTEN_COLUMN_VALUES": true,
              "FLATTEN_INDEX_VALUES": false,
              "GENERATE_DEX_METADATA": false,
              "HTML_TABLE_SCHEMA": false,
              "LOG_LEVEL": 30,
              "MAX_RENDER_SIZE_BYTES": 104857600,
              "MAX_STRING_LENGTH": 250,
              "NUM_PAST_SAMPLES_TRACKED": 3,
              "RANDOM_STATE": 12648430,
              "RESET_INDEX_VALUES": false,
              "ROW_SAMPLING_METHOD": "random",
              "SAMPLING_FACTOR": 0.1,
              "SAMPLING_METHOD": "random",
              "STRINGIFY_COLUMN_VALUES": true,
              "STRINGIFY_INDEX_VALUES": false
            },
            "sample_history": [],
            "sampling_time": "2023-08-13T04:59:47.503547",
            "user_variable_name": null,
            "variable_name": "unk_dataframe_1d672bd5d796453ca03653a180c4a774"
          },
          "f29d8e17-24be-478b-b079-f5f3220582dd": {
            "applied_filters": [],
            "dataframe_info": {
              "default_index_used": false,
              "orig_num_cols": 1,
              "orig_num_rows": 5,
              "orig_size_bytes": 80,
              "truncated_num_cols": 1,
              "truncated_num_rows": 5,
              "truncated_size_bytes": 80,
              "truncated_string_columns": []
            },
            "display_id": "f29d8e17-24be-478b-b079-f5f3220582dd",
            "dx_settings": {
              "ALLOW_NOTEABLE_ATTRS": true,
              "COLUMN_SAMPLING_METHOD": "outer",
              "DB_LOCATION": ":memory:",
              "DEV_MODE": false,
              "DISPLAY_MAX_COLUMNS": 100,
              "DISPLAY_MAX_ROWS": 50000,
              "DISPLAY_MODE": "simple",
              "ENABLE_ASSIGNMENT": true,
              "ENABLE_DATALINK": true,
              "FLATTEN_COLUMN_VALUES": true,
              "FLATTEN_INDEX_VALUES": false,
              "GENERATE_DEX_METADATA": false,
              "HTML_TABLE_SCHEMA": false,
              "LOG_LEVEL": 30,
              "MAX_RENDER_SIZE_BYTES": 104857600,
              "MAX_STRING_LENGTH": 250,
              "NUM_PAST_SAMPLES_TRACKED": 3,
              "RANDOM_STATE": 12648430,
              "RESET_INDEX_VALUES": false,
              "ROW_SAMPLING_METHOD": "random",
              "SAMPLING_FACTOR": 0.1,
              "SAMPLING_METHOD": "random",
              "STRINGIFY_COLUMN_VALUES": true,
              "STRINGIFY_INDEX_VALUES": false
            },
            "sample_history": [],
            "sampling_time": "2023-08-14T13:52:39.653557",
            "user_variable_name": null,
            "variable_name": "unk_dataframe_8dd55cb718fe44c4817365218db81a69"
          }
        }
      },
      "execution_count": null,
      "source": "# Impute missing values in the 'pIC50' column with its median value\nmedian_pIC50 = data['pIC50'].median()\ndata['pIC50'].fillna(median_pIC50, inplace=True)\n\n# Verify if all missing values have been handled\ndata.isnull().sum()",
      "outputs": []
    },
    {
      "id": "7ef89338-c0ba-4f6b-a701-7b0c2b6e00f4",
      "cell_type": "code",
      "metadata": {
        "noteable": {
          "cell_type": "code",
          "output_collection_id": "ddcf9f13-e69b-4fd2-87a0-43cb24875328"
        },
        "ExecuteTime": {
          "end_time": "2023-08-14T13:52:42.420332+00:00",
          "start_time": "2023-08-14T13:52:40.790000+00:00"
        }
      },
      "execution_count": null,
      "source": "import matplotlib.pyplot as plt\nimport seaborn as sns\n\n# Set the style for seaborn plots\nsns.set_style('whitegrid')\n\n# Plot the distribution of pIC50 values\nplt.figure(figsize=(10, 6))\nsns.histplot(data['pIC50'], bins=30, kde=True, color='blue')\nplt.title('Distribution of pIC50 Values')\nplt.xlabel('pIC50')\nplt.ylabel('Frequency')\nplt.show()",
      "outputs": []
    },
    {
      "id": "628943b8-2729-45a7-8fb5-6597391f8d3b",
      "cell_type": "code",
      "metadata": {
        "noteable": {
          "cell_type": "code",
          "output_collection_id": "d87c9ffd-fb4a-4a0b-9e24-01c866eba9c2"
        },
        "ExecuteTime": {
          "end_time": "2023-08-14T13:52:44.417965+00:00",
          "start_time": "2023-08-14T13:52:42.715101+00:00"
        }
      },
      "execution_count": null,
      "source": "# Plot the distribution of num_atoms values\nplt.figure(figsize=(10, 6))\nsns.histplot(data['num_atoms'], bins=30, kde=True, color='green')\nplt.title('Distribution of Number of Atoms')\nplt.xlabel('Number of Atoms')\nplt.ylabel('Frequency')\nplt.show()\n\n# Plot the distribution of logP values\nplt.figure(figsize=(10, 6))\nsns.histplot(data['logP'], bins=30, kde=True, color='red')\nplt.title('Distribution of logP Values')\nplt.xlabel('logP')\nplt.ylabel('Frequency')\nplt.show()",
      "outputs": []
    },
    {
      "id": "9a4094f2-34e8-4917-ba82-ce300c722a71",
      "cell_type": "code",
      "metadata": {
        "noteable": {
          "cell_type": "code",
          "output_collection_id": "50732306-fd68-4c8b-ba2a-311d6c3e9899"
        },
        "ExecuteTime": {
          "end_time": "2023-08-14T13:52:55.441046+00:00",
          "start_time": "2023-08-14T13:52:47.881067+00:00"
        }
      },
      "execution_count": null,
      "source": "!pip install -q rdkit-pypi",
      "outputs": []
    },
    {
      "id": "e0fe2aeb-c7d6-4793-ab8f-4f1c9ca16a71",
      "cell_type": "code",
      "metadata": {
        "noteable": {
          "cell_type": "code",
          "output_collection_id": "57ed86a0-6eb3-4034-8321-4bf75516c189"
        },
        "ExecuteTime": {
          "end_time": "2023-08-14T13:59:56.561741+00:00",
          "start_time": "2023-08-14T13:56:38.512411+00:00"
        },
        "datalink": {
          "c5202e7a-3828-4e94-8d52-ee81c4bb54af": {
            "applied_filters": [],
            "dataframe_info": {
              "default_index_used": true,
              "orig_num_cols": 2048,
              "orig_num_rows": 5,
              "orig_size_bytes": 81960,
              "truncated_num_cols": 100,
              "truncated_num_rows": 5,
              "truncated_size_bytes": 4040,
              "truncated_string_columns": []
            },
            "display_id": "c5202e7a-3828-4e94-8d52-ee81c4bb54af",
            "dx_settings": {
              "ALLOW_NOTEABLE_ATTRS": true,
              "COLUMN_SAMPLING_METHOD": "outer",
              "DB_LOCATION": ":memory:",
              "DEV_MODE": false,
              "DISPLAY_MAX_COLUMNS": 100,
              "DISPLAY_MAX_ROWS": 50000,
              "DISPLAY_MODE": "simple",
              "ENABLE_ASSIGNMENT": true,
              "ENABLE_DATALINK": true,
              "FLATTEN_COLUMN_VALUES": true,
              "FLATTEN_INDEX_VALUES": false,
              "GENERATE_DEX_METADATA": false,
              "HTML_TABLE_SCHEMA": false,
              "LOG_LEVEL": 30,
              "MAX_RENDER_SIZE_BYTES": 104857600,
              "MAX_STRING_LENGTH": 250,
              "NUM_PAST_SAMPLES_TRACKED": 3,
              "RANDOM_STATE": 12648430,
              "RESET_INDEX_VALUES": false,
              "ROW_SAMPLING_METHOD": "random",
              "SAMPLING_FACTOR": 0.1,
              "SAMPLING_METHOD": "random",
              "STRINGIFY_COLUMN_VALUES": true,
              "STRINGIFY_INDEX_VALUES": false
            },
            "sample_history": [],
            "sampling_time": "2023-08-13T03:57:37.411806",
            "user_variable_name": null,
            "variable_name": "unk_dataframe_4b0d9a7937a74931837dfc74e38d237d"
          },
          "792c625f-13b8-4663-a9e2-7170419c161c": {
            "applied_filters": [],
            "dataframe_info": {
              "default_index_used": true,
              "orig_num_cols": 2048,
              "orig_num_rows": 5,
              "orig_size_bytes": 81960,
              "truncated_num_cols": 100,
              "truncated_num_rows": 5,
              "truncated_size_bytes": 4040,
              "truncated_string_columns": []
            },
            "display_id": "792c625f-13b8-4663-a9e2-7170419c161c",
            "dx_settings": {
              "ALLOW_NOTEABLE_ATTRS": true,
              "COLUMN_SAMPLING_METHOD": "outer",
              "DB_LOCATION": ":memory:",
              "DEV_MODE": false,
              "DISPLAY_MAX_COLUMNS": 100,
              "DISPLAY_MAX_ROWS": 50000,
              "DISPLAY_MODE": "simple",
              "ENABLE_ASSIGNMENT": true,
              "ENABLE_DATALINK": true,
              "FLATTEN_COLUMN_VALUES": true,
              "FLATTEN_INDEX_VALUES": false,
              "GENERATE_DEX_METADATA": false,
              "HTML_TABLE_SCHEMA": false,
              "LOG_LEVEL": 30,
              "MAX_RENDER_SIZE_BYTES": 104857600,
              "MAX_STRING_LENGTH": 250,
              "NUM_PAST_SAMPLES_TRACKED": 3,
              "RANDOM_STATE": 12648430,
              "RESET_INDEX_VALUES": false,
              "ROW_SAMPLING_METHOD": "random",
              "SAMPLING_FACTOR": 0.1,
              "SAMPLING_METHOD": "random",
              "STRINGIFY_COLUMN_VALUES": true,
              "STRINGIFY_INDEX_VALUES": false
            },
            "sample_history": [],
            "sampling_time": "2023-08-13T05:03:14.457807",
            "user_variable_name": null,
            "variable_name": "unk_dataframe_92f91fb1af794b99ac1fa92602cd6d60"
          },
          "1947b554-04c0-4a44-a5a0-18a501a0d994": {
            "applied_filters": [],
            "dataframe_info": {
              "default_index_used": true,
              "orig_num_cols": 2048,
              "orig_num_rows": 5,
              "orig_size_bytes": 81960,
              "truncated_num_cols": 100,
              "truncated_num_rows": 5,
              "truncated_size_bytes": 4040,
              "truncated_string_columns": []
            },
            "display_id": "1947b554-04c0-4a44-a5a0-18a501a0d994",
            "dx_settings": {
              "ALLOW_NOTEABLE_ATTRS": true,
              "COLUMN_SAMPLING_METHOD": "outer",
              "DB_LOCATION": ":memory:",
              "DEV_MODE": false,
              "DISPLAY_MAX_COLUMNS": 100,
              "DISPLAY_MAX_ROWS": 50000,
              "DISPLAY_MODE": "simple",
              "ENABLE_ASSIGNMENT": true,
              "ENABLE_DATALINK": true,
              "FLATTEN_COLUMN_VALUES": true,
              "FLATTEN_INDEX_VALUES": false,
              "GENERATE_DEX_METADATA": false,
              "HTML_TABLE_SCHEMA": false,
              "LOG_LEVEL": 30,
              "MAX_RENDER_SIZE_BYTES": 104857600,
              "MAX_STRING_LENGTH": 250,
              "NUM_PAST_SAMPLES_TRACKED": 3,
              "RANDOM_STATE": 12648430,
              "RESET_INDEX_VALUES": false,
              "ROW_SAMPLING_METHOD": "random",
              "SAMPLING_FACTOR": 0.1,
              "SAMPLING_METHOD": "random",
              "STRINGIFY_COLUMN_VALUES": true,
              "STRINGIFY_INDEX_VALUES": false
            },
            "sample_history": [],
            "sampling_time": "2023-08-14T13:56:06.140079",
            "user_variable_name": null,
            "variable_name": "unk_dataframe_3a0f7c31b3e54711b69cfa0d222fb5d7"
          },
          "ae505e43-b78c-4dab-92f9-6173041b4b49": {
            "applied_filters": [],
            "dataframe_info": {
              "default_index_used": true,
              "orig_num_cols": 2048,
              "orig_num_rows": 5,
              "orig_size_bytes": 81960,
              "truncated_num_cols": 100,
              "truncated_num_rows": 5,
              "truncated_size_bytes": 4040,
              "truncated_string_columns": []
            },
            "display_id": "ae505e43-b78c-4dab-92f9-6173041b4b49",
            "dx_settings": {
              "ALLOW_NOTEABLE_ATTRS": true,
              "COLUMN_SAMPLING_METHOD": "outer",
              "DB_LOCATION": ":memory:",
              "DEV_MODE": false,
              "DISPLAY_MAX_COLUMNS": 100,
              "DISPLAY_MAX_ROWS": 50000,
              "DISPLAY_MODE": "simple",
              "ENABLE_ASSIGNMENT": true,
              "ENABLE_DATALINK": true,
              "FLATTEN_COLUMN_VALUES": true,
              "FLATTEN_INDEX_VALUES": false,
              "GENERATE_DEX_METADATA": false,
              "HTML_TABLE_SCHEMA": false,
              "LOG_LEVEL": 30,
              "MAX_RENDER_SIZE_BYTES": 104857600,
              "MAX_STRING_LENGTH": 250,
              "NUM_PAST_SAMPLES_TRACKED": 3,
              "RANDOM_STATE": 12648430,
              "RESET_INDEX_VALUES": false,
              "ROW_SAMPLING_METHOD": "random",
              "SAMPLING_FACTOR": 0.1,
              "SAMPLING_METHOD": "random",
              "STRINGIFY_COLUMN_VALUES": true,
              "STRINGIFY_INDEX_VALUES": false
            },
            "sample_history": [],
            "sampling_time": "2023-08-14T13:59:55.957334",
            "user_variable_name": null,
            "variable_name": "unk_dataframe_5a19995ea5134378a06eb857c34a5326"
          }
        }
      },
      "execution_count": null,
      "source": "from rdkit import Chem\nfrom rdkit.Chem import AllChem\nimport numpy as np\n\ndef smiles_to_fingerprint(smiles, radius=2, nBits=2048):\n    '''\n    Convert SMILES notation to Morgan fingerprint.\n    '''\n    mol = Chem.MolFromSmiles(smiles)\n    if mol is not None:\n        return np.array(AllChem.GetMorganFingerprintAsBitVect(mol, radius, nBits))\n    else:\n        return np.zeros(nBits)\n\n# Convert SMILES to fingerprints\nfingerprints = data['SMILES'].apply(smiles_to_fingerprint).tolist()\n\n# Convert list of fingerprints to DataFrame\nfp_df = pd.DataFrame(fingerprints)\nfp_df.head()",
      "outputs": []
    },
    {
      "id": "636cbe74-d50a-4fda-8346-ad2a3393afb1",
      "cell_type": "code",
      "metadata": {
        "noteable": {
          "cell_type": "code",
          "output_collection_id": "d627a5ec-7c19-4d6b-817e-15eee0d146ab"
        },
        "ExecuteTime": {
          "end_time": "2023-08-14T14:00:23.206789+00:00",
          "start_time": "2023-08-14T14:00:22.861615+00:00"
        }
      },
      "execution_count": null,
      "source": "from sklearn.model_selection import train_test_split\n\n# Features (X) and Target variable (y)\nX = fp_df\ny = data['pIC50']\n\n# Split the data into training and testing sets (80% train, 20% test)\nX_train, X_test, y_train, y_test = train_test_split(X, y, test_size=0.2, random_state=42)\n\n# Display the shape of the training and testing sets\nX_train.shape, X_test.shape, y_train.shape, y_test.shape",
      "outputs": []
    },
    {
      "id": "6a4ef1bc-664e-4971-bf36-96284800af61",
      "cell_type": "code",
      "metadata": {
        "noteable": {
          "cell_type": "code",
          "output_collection_id": "fb043a83-2307-4b6c-b92d-3724e56b491b"
        },
        "ExecuteTime": {
          "end_time": "2023-08-14T14:28:37.935554+00:00",
          "start_time": "2023-08-14T14:28:15.863561+00:00"
        }
      },
      "execution_count": null,
      "source": "from sklearn.linear_model import Ridge, Lasso\nfrom sklearn.tree import DecisionTreeRegressor\nfrom sklearn.metrics import mean_squared_error, r2_score\n\n# Initialize the models\nridge = Ridge()\nlasso = Lasso()\ntree = DecisionTreeRegressor()\n\n# Train the models\nridge.fit(X_train, y_train)\nlasso.fit(X_train, y_train)\ntree.fit(X_train, y_train)\n\n# Predict on the test set\ny_pred_ridge = ridge.predict(X_test)\ny_pred_lasso = lasso.predict(X_test)\ny_pred_tree = tree.predict(X_test)\n\n# Calculate the mean squared error for each model\nridge_mse = mean_squared_error(y_test, y_pred_ridge)\nridge_r2 = r2_score(y_test, y_pred_ridge)\nlasso_mse = mean_squared_error(y_test, y_pred_lasso)\nlasso_r2 = r2_score(y_test, y_pred_lasso)\ntree_mse = mean_squared_error(y_test, y_pred_tree)\ntree_r2 = r2_score(y_test, y_pred_tree)\n\nprint(f'Mean Squared Error Ridge:{mse_ridge},Lasso:{mse_lasso}, Decision Tree:{mse_tree}')",
      "outputs": []
    },
    {
      "id": "a88ba4a4-4751-4676-94da-162f2096a74d",
      "cell_type": "code",
      "metadata": {
        "noteable": {
          "cell_type": "code",
          "output_collection_id": "90b2555a-0740-49f3-9b29-e327c7ce2547"
        },
        "ExecuteTime": {
          "end_time": "2023-08-14T14:03:55.205942+00:00",
          "start_time": "2023-08-14T14:00:49.241880+00:00"
        }
      },
      "execution_count": null,
      "source": "from sklearn.linear_model import LinearRegression\nfrom sklearn.metrics import mean_squared_error, r2_score\n\n# Initialize and train the Linear Regression model\nlr_model = LinearRegression()\nlr_model.fit(X_train, y_train)\n\n# Predict on the test set\nlr_predictions = lr_model.predict(X_test)\n\n# Evaluate the model\nlr_mse = mean_squared_error(y_test, lr_predictions)\nlr_r2 = r2_score(y_test, lr_predictions)\n\nlr_mse, lr_r2",
      "outputs": []
    },
    {
      "id": "6add29a3-5e00-49c5-8fdb-1c0d76544aec",
      "cell_type": "code",
      "metadata": {
        "noteable": {
          "cell_type": "code",
          "output_collection_id": "279a11da-c5b8-430c-9fc9-f5977e188545"
        },
        "ExecuteTime": {
          "end_time": "2023-08-14T14:15:41.045404+00:00",
          "start_time": "2023-08-14T14:03:55.215948+00:00"
        }
      },
      "execution_count": null,
      "source": "from sklearn.ensemble import RandomForestRegressor, GradientBoostingRegressor\n\n# Initialize and train the Random Forest Regressor\nrf_model = RandomForestRegressor(n_estimators=100, random_state=42)\nrf_model.fit(X_train, y_train)\n\n# Predict on the test set\nrf_predictions = rf_model.predict(X_test)\n\n# Evaluate the model\nrf_mse = mean_squared_error(y_test, rf_predictions)\nrf_r2 = r2_score(y_test, rf_predictions)\n\n# Initialize and train the Gradient Boosting Regressor\ngb_model = GradientBoostingRegressor(n_estimators=100, random_state=42)\ngb_model.fit(X_train, y_train)\n\n# Predict on the test set\ngb_predictions = gb_model.predict(X_test)\n\n# Evaluate the model\ngb_mse = mean_squared_error(y_test, gb_predictions)\ngb_r2 = r2_score(y_test, gb_predictions)\n\nrf_mse, rf_r2, gb_mse, gb_r2",
      "outputs": []
    },
    {
      "id": "93b08eee-3c11-4928-813f-380889940d1c",
      "cell_type": "code",
      "metadata": {
        "noteable": {
          "cell_type": "code",
          "output_collection_id": "26c46701-b5b5-4468-acf1-caeb66ac4438"
        },
        "ExecuteTime": {
          "end_time": "2023-08-14T14:21:38.077289+00:00",
          "start_time": "2023-08-14T14:20:58.758799+00:00"
        }
      },
      "execution_count": null,
      "source": "!pip install tensorflow",
      "outputs": []
    },
    {
      "id": "7aef66ab-8653-4f47-a1bc-65ca19ccaffb",
      "cell_type": "code",
      "metadata": {
        "noteable": {
          "cell_type": "code",
          "output_collection_id": "51a1242b-0fc3-4f6b-afae-08d001628ddc"
        },
        "ExecuteTime": {
          "end_time": "2023-08-14T14:26:42.325286+00:00",
          "start_time": "2023-08-14T14:21:38.086484+00:00"
        }
      },
      "execution_count": null,
      "source": "import tensorflow as tf\nfrom tensorflow.keras.models import Sequential\nfrom tensorflow.keras.layers import Dense, Dropout\nfrom tensorflow.keras.optimizers import Adam\n\n# Define the neural network model\nmodel = Sequential()\nmodel.add(Dense(512, activation='relu', input_shape=(X_train.shape[1],)))\nmodel.add(Dropout(0.5))\nmodel.add(Dense(256, activation='relu'))\nmodel.add(Dropout(0.5))\nmodel.add(Dense(128, activation='relu'))\nmodel.add(Dense(1, activation='linear'))\n\n# Compile the model\nmodel.compile(optimizer=Adam(learning_rate=0.001), loss='mean_squared_error')\n\n# Train the model\nhistory = model.fit(X_train, y_train, epochs=10, batch_size=32, validation_data=(X_test, y_test), verbose=1)",
      "outputs": []
    },
    {
      "id": "872fa036-ebae-4662-875e-a86d985565a5",
      "cell_type": "code",
      "metadata": {
        "noteable": {
          "cell_type": "code",
          "output_collection_id": "8d99a9e8-d0f9-4e41-af73-98d345888f59"
        },
        "ExecuteTime": {
          "end_time": "2023-08-14T14:30:50.642747+00:00",
          "start_time": "2023-08-14T14:30:48.033592+00:00"
        }
      },
      "execution_count": null,
      "source": "# Predict on the test set using the neural network model\nnn_predictions = model.predict(X_test).flatten()\n\n# Evaluate the neural network model\nnn_mse = mean_squared_error(y_test, nn_predictions)\nnn_r2 = r2_score(y_test, nn_predictions)\n\nnn_mse, nn_r2",
      "outputs": []
    },
    {
      "id": "3475baf9-c38b-411c-9fab-1841f17a9f83",
      "cell_type": "code",
      "metadata": {
        "noteable": {
          "cell_type": "code",
          "output_collection_id": "a1d30b2b-05b1-4ac1-a5ef-e66ea5ef71cb"
        },
        "ExecuteTime": {
          "end_time": "2023-08-14T14:30:55.004157+00:00",
          "start_time": "2023-08-14T14:30:54.145637+00:00"
        }
      },
      "execution_count": null,
      "source": "import matplotlib.pyplot as plt\n\n# Data for comparison\nmodels = ['Linear Regression', 'Random Forest', 'Gradient Boosting', 'Neural Network', 'Decision Tree','Ridge', 'Lasso']\nmse_values = [lr_mse, rf_mse, gb_mse, nn_mse, tree_mse, ridge_mse, lasso_mse]\nr2_values = [lr_r2, rf_r2, gb_r2, nn_r2, tree_r2, ridge_r2, lasso_r2]\n\n# Plots for MSE and R^2\nfig, (ax1, ax2) = plt.subplots(1, 2, figsize=(15,6))\n\n# MSE Plot\nax1.bar(models, mse_values, color='tab:red')\nax1.set_xlabel('Models')\nax1.set_ylabel('MSE')\nax1.set_title('Mean Squared Error (MSE) Comparison')\n\n# R^2 Plot\nax2.bar(models, r2_values, color='tab:blue')\nax2.set_xlabel('Models')\nax2.set_ylabel('R^2 Score')\nax2.set_title('R^2 Score Comparison')\n\nfig.tight_layout()\nplt.show()",
      "outputs": []
    },
    {
      "id": "66b2f85a-0db8-49ed-9913-23af3f2e6af6",
      "cell_type": "markdown",
      "source": "## Conclusion\n\n### Results Summary\nVarious machine learning and deep learning models were trained and evaluated on the ReLeaSE dataset. The Neural Network model outperformed other models, showcasing the lowest Mean Squared Error (MSE) and the highest R^2 score. This indicates that the Neural Network model provides the best fit to the dataset among the models we trained.\n\n### Significance of Results\nThe ability to accurately predict protein-ligand binding affinity is crucial in drug discovery. A model with a high predictive accuracy can aid researchers in identifying potential drug candidates more efficiently. The results obtained from this project can serve as a foundation for further research and development in the field of drug discovery.\n\n### Future Trajectories\nFor future research, several avenues can be explored:\n- **Advanced Neural Network Architectures**: Exploring more complex neural network architectures, such as convolutional neural networks (CNNs) or recurrent neural networks (RNNs), might provide better performance for sequence data like SMILES.\n- **Transfer Learning**: Leveraging pre-trained models on similar tasks and fine-tuning them on our dataset can potentially improve predictive accuracy.\n- **External Validation**: Validating the model's performance on external datasets can ensure its generalizability and robustness.\n- **Incorporation of Additional Data**: Including more molecular descriptors or integrating data from other sources can enhance the model's predictive capabilities.",
      "metadata": {
        "noteable": {
          "cell_type": "markdown"
        }
      }
    },
    {
      "id": "2e4d2e2c-edd8-4eda-9a4c-34b266cb6964",
      "cell_type": "markdown",
      "source": "",
      "metadata": {
        "noteable": {
          "cell_type": "markdown"
        }
      }
    }
  ]
}