{
  "nbformat": 4,
  "nbformat_minor": 5,
  "metadata": {
    "noteable-chatgpt": {
      "create_notebook": {
        "openai_conversation_id": "7458b773-867e-593c-9acc-889ba8d59ea2",
        "openai_ephemeral_user_id": "57242abd-6158-52e5-ac33-a7c9b2f4a0ec"
      }
    },
    "noteable": {
      "last_transaction_id": "f87cea50-e8e0-4a0e-b97c-5c206702792c"
    },
    "selected_hardware_size": "small",
    "colab": {
      "provenance": []
    },
    "language_info": {
      "name": "python"
    },
    "kernelspec": {
      "name": "python3",
      "display_name": "Python 3"
    }
  },
  "cells": [
    {
      "id": "header_cell",
      "cell_type": "markdown",
      "source": [
        "# Diabetes Prediction Analysis\n",
        "\n",
        "This notebook presents an analysis of a diabetes prediction dataset. The dataset includes medical and demographic data from patients, along with their diabetes status (positive or negative). The data includes features such as age, gender, body mass index (BMI), hypertension, heart disease, smoking history, HbA1c level, and blood glucose level.\n",
        "\n",
        "The goal of this analysis is to scrutinize the dataset, perform exploratory data analysis, identify patterns, insights, outliers, and correlations, and generate a comprehensive report on the findings. Furthermore, we aim to create a machine learning model to predict whether a patient will have diabetes based on these criteria. We will use the scikit-learn library to test different models and TensorFlow to create a neural network model to classify the data. The performance of these models will be compared and visualized.\n",
        "\n",
        "Dataset:https://www.kaggle.com/datasets/iammustafatz/diabetes-prediction-dataset"
      ],
      "metadata": {
        "noteable": {
          "cell_type": "markdown"
        },
        "id": "header_cell"
      }
    },
    {
      "id": "2198573e-3484-4761-a881-a045343c74c7",
      "cell_type": "code",
      "metadata": {
        "noteable": {
          "cell_type": "code",
          "output_collection_id": "33252854-689b-4e06-8437-cbb87141d1b0"
        },
        "ExecuteTime": {
          "end_time": "2023-07-18T15:35:32.923636+00:00",
          "start_time": "2023-07-18T15:35:30.121812+00:00"
        },
        "datalink": {
          "aa637f7f-f5cd-42df-9cdf-cf626fff893c": {
            "applied_filters": [],
            "dataframe_info": {
              "default_index_used": true,
              "orig_num_cols": 9,
              "orig_num_rows": 5,
              "orig_size_bytes": 400,
              "truncated_num_cols": 9,
              "truncated_num_rows": 5,
              "truncated_size_bytes": 400,
              "truncated_string_columns": []
            },
            "display_id": "aa637f7f-f5cd-42df-9cdf-cf626fff893c",
            "dx_settings": {
              "ALLOW_NOTEABLE_ATTRS": true,
              "COLUMN_SAMPLING_METHOD": "outer",
              "DB_LOCATION": ":memory:",
              "DEV_MODE": false,
              "DISPLAY_MAX_COLUMNS": 100,
              "DISPLAY_MAX_ROWS": 50000,
              "DISPLAY_MODE": "simple",
              "ENABLE_ASSIGNMENT": true,
              "ENABLE_DATALINK": true,
              "FLATTEN_COLUMN_VALUES": true,
              "FLATTEN_INDEX_VALUES": false,
              "GENERATE_DEX_METADATA": false,
              "HTML_TABLE_SCHEMA": false,
              "LOG_LEVEL": 30,
              "MAX_RENDER_SIZE_BYTES": 104857600,
              "MAX_STRING_LENGTH": 250,
              "NUM_PAST_SAMPLES_TRACKED": 3,
              "RANDOM_STATE": 12648430,
              "RESET_INDEX_VALUES": false,
              "ROW_SAMPLING_METHOD": "random",
              "SAMPLING_FACTOR": 0.1,
              "SAMPLING_METHOD": "random",
              "STRINGIFY_COLUMN_VALUES": true,
              "STRINGIFY_INDEX_VALUES": false
            },
            "sample_history": [],
            "sampling_time": "2023-07-18T15:35:32.764938",
            "user_variable_name": null,
            "variable_name": "unk_dataframe_74d97ae367e046a48ee0b85f0f32ac00"
          }
        },
        "colab": {
          "base_uri": "https://localhost:8080/",
          "height": 270
        },
        "id": "2198573e-3484-4761-a881-a045343c74c7",
        "outputId": "e8a4a11e-9506-4c18-c9ec-6b5b770ab3d4"
      },
      "execution_count": 1,
      "source": [
        "import pandas as pd\n",
        "import numpy as np\n",
        "import matplotlib.pyplot as plt\n",
        "import seaborn as sns\n",
        "from sklearn.model_selection import train_test_split\n",
        "from sklearn.preprocessing import StandardScaler\n",
        "from sklearn.linear_model import LogisticRegression\n",
        "from sklearn.neighbors import KNeighborsClassifier\n",
        "from sklearn.svm import SVC\n",
        "from sklearn.tree import DecisionTreeClassifier\n",
        "from sklearn.ensemble import RandomForestClassifier\n",
        "from sklearn.metrics import accuracy_score, confusion_matrix, classification_report\n",
        "import tensorflow as tf\n",
        "from tensorflow import keras\n",
        "\n",
        "# Load the dataset\n",
        "df = pd.read_csv('diabetes_prediction_dataset.csv')\n",
        "df.head()"
      ],
      "outputs": [
        {
          "output_type": "execute_result",
          "data": {
            "text/plain": [
              "   gender   age  hypertension  heart_disease smoking_history    bmi  \\\n",
              "0  Female  80.0             0              1           never  25.19   \n",
              "1  Female  54.0             0              0         No Info  27.32   \n",
              "2    Male  28.0             0              0           never  27.32   \n",
              "3  Female  36.0             0              0         current  23.45   \n",
              "4    Male  76.0             1              1         current  20.14   \n",
              "\n",
              "   HbA1c_level  blood_glucose_level  diabetes  \n",
              "0          6.6                  140         0  \n",
              "1          6.6                   80         0  \n",
              "2          5.7                  158         0  \n",
              "3          5.0                  155         0  \n",
              "4          4.8                  155         0  "
            ],
            "text/html": [
              "\n",
              "\n",
              "  <div id=\"df-81bc64a2-1eaf-43da-b977-42a2e500f5e8\">\n",
              "    <div class=\"colab-df-container\">\n",
              "      <div>\n",
              "<style scoped>\n",
              "    .dataframe tbody tr th:only-of-type {\n",
              "        vertical-align: middle;\n",
              "    }\n",
              "\n",
              "    .dataframe tbody tr th {\n",
              "        vertical-align: top;\n",
              "    }\n",
              "\n",
              "    .dataframe thead th {\n",
              "        text-align: right;\n",
              "    }\n",
              "</style>\n",
              "<table border=\"1\" class=\"dataframe\">\n",
              "  <thead>\n",
              "    <tr style=\"text-align: right;\">\n",
              "      <th></th>\n",
              "      <th>gender</th>\n",
              "      <th>age</th>\n",
              "      <th>hypertension</th>\n",
              "      <th>heart_disease</th>\n",
              "      <th>smoking_history</th>\n",
              "      <th>bmi</th>\n",
              "      <th>HbA1c_level</th>\n",
              "      <th>blood_glucose_level</th>\n",
              "      <th>diabetes</th>\n",
              "    </tr>\n",
              "  </thead>\n",
              "  <tbody>\n",
              "    <tr>\n",
              "      <th>0</th>\n",
              "      <td>Female</td>\n",
              "      <td>80.0</td>\n",
              "      <td>0</td>\n",
              "      <td>1</td>\n",
              "      <td>never</td>\n",
              "      <td>25.19</td>\n",
              "      <td>6.6</td>\n",
              "      <td>140</td>\n",
              "      <td>0</td>\n",
              "    </tr>\n",
              "    <tr>\n",
              "      <th>1</th>\n",
              "      <td>Female</td>\n",
              "      <td>54.0</td>\n",
              "      <td>0</td>\n",
              "      <td>0</td>\n",
              "      <td>No Info</td>\n",
              "      <td>27.32</td>\n",
              "      <td>6.6</td>\n",
              "      <td>80</td>\n",
              "      <td>0</td>\n",
              "    </tr>\n",
              "    <tr>\n",
              "      <th>2</th>\n",
              "      <td>Male</td>\n",
              "      <td>28.0</td>\n",
              "      <td>0</td>\n",
              "      <td>0</td>\n",
              "      <td>never</td>\n",
              "      <td>27.32</td>\n",
              "      <td>5.7</td>\n",
              "      <td>158</td>\n",
              "      <td>0</td>\n",
              "    </tr>\n",
              "    <tr>\n",
              "      <th>3</th>\n",
              "      <td>Female</td>\n",
              "      <td>36.0</td>\n",
              "      <td>0</td>\n",
              "      <td>0</td>\n",
              "      <td>current</td>\n",
              "      <td>23.45</td>\n",
              "      <td>5.0</td>\n",
              "      <td>155</td>\n",
              "      <td>0</td>\n",
              "    </tr>\n",
              "    <tr>\n",
              "      <th>4</th>\n",
              "      <td>Male</td>\n",
              "      <td>76.0</td>\n",
              "      <td>1</td>\n",
              "      <td>1</td>\n",
              "      <td>current</td>\n",
              "      <td>20.14</td>\n",
              "      <td>4.8</td>\n",
              "      <td>155</td>\n",
              "      <td>0</td>\n",
              "    </tr>\n",
              "  </tbody>\n",
              "</table>\n",
              "</div>\n",
              "      <button class=\"colab-df-convert\" onclick=\"convertToInteractive('df-81bc64a2-1eaf-43da-b977-42a2e500f5e8')\"\n",
              "              title=\"Convert this dataframe to an interactive table.\"\n",
              "              style=\"display:none;\">\n",
              "\n",
              "  <svg xmlns=\"http://www.w3.org/2000/svg\" height=\"24px\"viewBox=\"0 0 24 24\"\n",
              "       width=\"24px\">\n",
              "    <path d=\"M0 0h24v24H0V0z\" fill=\"none\"/>\n",
              "    <path d=\"M18.56 5.44l.94 2.06.94-2.06 2.06-.94-2.06-.94-.94-2.06-.94 2.06-2.06.94zm-11 1L8.5 8.5l.94-2.06 2.06-.94-2.06-.94L8.5 2.5l-.94 2.06-2.06.94zm10 10l.94 2.06.94-2.06 2.06-.94-2.06-.94-.94-2.06-.94 2.06-2.06.94z\"/><path d=\"M17.41 7.96l-1.37-1.37c-.4-.4-.92-.59-1.43-.59-.52 0-1.04.2-1.43.59L10.3 9.45l-7.72 7.72c-.78.78-.78 2.05 0 2.83L4 21.41c.39.39.9.59 1.41.59.51 0 1.02-.2 1.41-.59l7.78-7.78 2.81-2.81c.8-.78.8-2.07 0-2.86zM5.41 20L4 18.59l7.72-7.72 1.47 1.35L5.41 20z\"/>\n",
              "  </svg>\n",
              "      </button>\n",
              "\n",
              "\n",
              "\n",
              "    <div id=\"df-724f7bfa-0623-46e5-8faa-939e19e123b6\">\n",
              "      <button class=\"colab-df-quickchart\" onclick=\"quickchart('df-724f7bfa-0623-46e5-8faa-939e19e123b6')\"\n",
              "              title=\"Suggest charts.\"\n",
              "              style=\"display:none;\">\n",
              "\n",
              "<svg xmlns=\"http://www.w3.org/2000/svg\" height=\"24px\"viewBox=\"0 0 24 24\"\n",
              "     width=\"24px\">\n",
              "    <g>\n",
              "        <path d=\"M19 3H5c-1.1 0-2 .9-2 2v14c0 1.1.9 2 2 2h14c1.1 0 2-.9 2-2V5c0-1.1-.9-2-2-2zM9 17H7v-7h2v7zm4 0h-2V7h2v10zm4 0h-2v-4h2v4z\"/>\n",
              "    </g>\n",
              "</svg>\n",
              "      </button>\n",
              "    </div>\n",
              "\n",
              "<style>\n",
              "  .colab-df-quickchart {\n",
              "    background-color: #E8F0FE;\n",
              "    border: none;\n",
              "    border-radius: 50%;\n",
              "    cursor: pointer;\n",
              "    display: none;\n",
              "    fill: #1967D2;\n",
              "    height: 32px;\n",
              "    padding: 0 0 0 0;\n",
              "    width: 32px;\n",
              "  }\n",
              "\n",
              "  .colab-df-quickchart:hover {\n",
              "    background-color: #E2EBFA;\n",
              "    box-shadow: 0px 1px 2px rgba(60, 64, 67, 0.3), 0px 1px 3px 1px rgba(60, 64, 67, 0.15);\n",
              "    fill: #174EA6;\n",
              "  }\n",
              "\n",
              "  [theme=dark] .colab-df-quickchart {\n",
              "    background-color: #3B4455;\n",
              "    fill: #D2E3FC;\n",
              "  }\n",
              "\n",
              "  [theme=dark] .colab-df-quickchart:hover {\n",
              "    background-color: #434B5C;\n",
              "    box-shadow: 0px 1px 3px 1px rgba(0, 0, 0, 0.15);\n",
              "    filter: drop-shadow(0px 1px 2px rgba(0, 0, 0, 0.3));\n",
              "    fill: #FFFFFF;\n",
              "  }\n",
              "</style>\n",
              "\n",
              "    <script>\n",
              "      async function quickchart(key) {\n",
              "        const containerElement = document.querySelector('#' + key);\n",
              "        const charts = await google.colab.kernel.invokeFunction(\n",
              "            'suggestCharts', [key], {});\n",
              "      }\n",
              "    </script>\n",
              "\n",
              "      <script>\n",
              "\n",
              "function displayQuickchartButton(domScope) {\n",
              "  let quickchartButtonEl =\n",
              "    domScope.querySelector('#df-724f7bfa-0623-46e5-8faa-939e19e123b6 button.colab-df-quickchart');\n",
              "  quickchartButtonEl.style.display =\n",
              "    google.colab.kernel.accessAllowed ? 'block' : 'none';\n",
              "}\n",
              "\n",
              "        displayQuickchartButton(document);\n",
              "      </script>\n",
              "      <style>\n",
              "    .colab-df-container {\n",
              "      display:flex;\n",
              "      flex-wrap:wrap;\n",
              "      gap: 12px;\n",
              "    }\n",
              "\n",
              "    .colab-df-convert {\n",
              "      background-color: #E8F0FE;\n",
              "      border: none;\n",
              "      border-radius: 50%;\n",
              "      cursor: pointer;\n",
              "      display: none;\n",
              "      fill: #1967D2;\n",
              "      height: 32px;\n",
              "      padding: 0 0 0 0;\n",
              "      width: 32px;\n",
              "    }\n",
              "\n",
              "    .colab-df-convert:hover {\n",
              "      background-color: #E2EBFA;\n",
              "      box-shadow: 0px 1px 2px rgba(60, 64, 67, 0.3), 0px 1px 3px 1px rgba(60, 64, 67, 0.15);\n",
              "      fill: #174EA6;\n",
              "    }\n",
              "\n",
              "    [theme=dark] .colab-df-convert {\n",
              "      background-color: #3B4455;\n",
              "      fill: #D2E3FC;\n",
              "    }\n",
              "\n",
              "    [theme=dark] .colab-df-convert:hover {\n",
              "      background-color: #434B5C;\n",
              "      box-shadow: 0px 1px 3px 1px rgba(0, 0, 0, 0.15);\n",
              "      filter: drop-shadow(0px 1px 2px rgba(0, 0, 0, 0.3));\n",
              "      fill: #FFFFFF;\n",
              "    }\n",
              "  </style>\n",
              "\n",
              "      <script>\n",
              "        const buttonEl =\n",
              "          document.querySelector('#df-81bc64a2-1eaf-43da-b977-42a2e500f5e8 button.colab-df-convert');\n",
              "        buttonEl.style.display =\n",
              "          google.colab.kernel.accessAllowed ? 'block' : 'none';\n",
              "\n",
              "        async function convertToInteractive(key) {\n",
              "          const element = document.querySelector('#df-81bc64a2-1eaf-43da-b977-42a2e500f5e8');\n",
              "          const dataTable =\n",
              "            await google.colab.kernel.invokeFunction('convertToInteractive',\n",
              "                                                     [key], {});\n",
              "          if (!dataTable) return;\n",
              "\n",
              "          const docLinkHtml = 'Like what you see? Visit the ' +\n",
              "            '<a target=\"_blank\" href=https://colab.research.google.com/notebooks/data_table.ipynb>data table notebook</a>'\n",
              "            + ' to learn more about interactive tables.';\n",
              "          element.innerHTML = '';\n",
              "          dataTable['output_type'] = 'display_data';\n",
              "          await google.colab.output.renderOutput(dataTable, element);\n",
              "          const docLink = document.createElement('div');\n",
              "          docLink.innerHTML = docLinkHtml;\n",
              "          element.appendChild(docLink);\n",
              "        }\n",
              "      </script>\n",
              "    </div>\n",
              "  </div>\n"
            ]
          },
          "metadata": {},
          "execution_count": 1
        }
      ]
    },
    {
      "id": "3cac2622-072c-4cff-a44e-a297ef74bb4a",
      "cell_type": "code",
      "metadata": {
        "noteable": {
          "cell_type": "code",
          "output_collection_id": "a0bf6cff-e39d-4d79-97fc-1b549102655b"
        },
        "ExecuteTime": {
          "end_time": "2023-07-18T15:36:44.438239+00:00",
          "start_time": "2023-07-18T15:36:44.212273+00:00"
        },
        "datalink": {
          "2419c131-e5bc-48ba-874f-883feee27428": {
            "applied_filters": [],
            "dataframe_info": {
              "default_index_used": false,
              "orig_num_cols": 1,
              "orig_num_rows": 9,
              "orig_size_bytes": 144,
              "truncated_num_cols": 1,
              "truncated_num_rows": 9,
              "truncated_size_bytes": 144,
              "truncated_string_columns": []
            },
            "display_id": "2419c131-e5bc-48ba-874f-883feee27428",
            "dx_settings": {
              "ALLOW_NOTEABLE_ATTRS": true,
              "COLUMN_SAMPLING_METHOD": "outer",
              "DB_LOCATION": ":memory:",
              "DEV_MODE": false,
              "DISPLAY_MAX_COLUMNS": 100,
              "DISPLAY_MAX_ROWS": 50000,
              "DISPLAY_MODE": "simple",
              "ENABLE_ASSIGNMENT": true,
              "ENABLE_DATALINK": true,
              "FLATTEN_COLUMN_VALUES": true,
              "FLATTEN_INDEX_VALUES": false,
              "GENERATE_DEX_METADATA": false,
              "HTML_TABLE_SCHEMA": false,
              "LOG_LEVEL": 30,
              "MAX_RENDER_SIZE_BYTES": 104857600,
              "MAX_STRING_LENGTH": 250,
              "NUM_PAST_SAMPLES_TRACKED": 3,
              "RANDOM_STATE": 12648430,
              "RESET_INDEX_VALUES": false,
              "ROW_SAMPLING_METHOD": "random",
              "SAMPLING_FACTOR": 0.1,
              "SAMPLING_METHOD": "random",
              "STRINGIFY_COLUMN_VALUES": true,
              "STRINGIFY_INDEX_VALUES": false
            },
            "sample_history": [],
            "sampling_time": "2023-07-18T15:36:44.281812",
            "user_variable_name": null,
            "variable_name": "unk_dataframe_d88f3a531eda4c4d8e074fbc850295fe"
          }
        },
        "colab": {
          "base_uri": "https://localhost:8080/"
        },
        "id": "3cac2622-072c-4cff-a44e-a297ef74bb4a",
        "outputId": "10ddb8d9-594a-4eed-8484-c259d1c25206"
      },
      "execution_count": 2,
      "source": [
        "# Check for missing values\n",
        "df.isnull().sum()"
      ],
      "outputs": [
        {
          "output_type": "execute_result",
          "data": {
            "text/plain": [
              "gender                 0\n",
              "age                    0\n",
              "hypertension           0\n",
              "heart_disease          0\n",
              "smoking_history        0\n",
              "bmi                    0\n",
              "HbA1c_level            0\n",
              "blood_glucose_level    0\n",
              "diabetes               0\n",
              "dtype: int64"
            ]
          },
          "metadata": {},
          "execution_count": 2
        }
      ]
    },
    {
      "id": "4c247a9b-0b36-4b21-974c-1f3281679e25",
      "cell_type": "code",
      "metadata": {
        "noteable": {
          "cell_type": "code",
          "output_collection_id": "2df42f03-6d92-4f58-8d81-058018bad36d"
        },
        "ExecuteTime": {
          "end_time": "2023-07-18T15:37:06.807507+00:00",
          "start_time": "2023-07-18T15:37:06.562250+00:00"
        },
        "datalink": {
          "ba11d766-f7dc-49b4-aade-4dac8e624259": {
            "applied_filters": [],
            "dataframe_info": {
              "default_index_used": false,
              "orig_num_cols": 7,
              "orig_num_rows": 8,
              "orig_size_bytes": 512,
              "truncated_num_cols": 7,
              "truncated_num_rows": 8,
              "truncated_size_bytes": 512,
              "truncated_string_columns": []
            },
            "display_id": "ba11d766-f7dc-49b4-aade-4dac8e624259",
            "dx_settings": {
              "ALLOW_NOTEABLE_ATTRS": true,
              "COLUMN_SAMPLING_METHOD": "outer",
              "DB_LOCATION": ":memory:",
              "DEV_MODE": false,
              "DISPLAY_MAX_COLUMNS": 100,
              "DISPLAY_MAX_ROWS": 50000,
              "DISPLAY_MODE": "simple",
              "ENABLE_ASSIGNMENT": true,
              "ENABLE_DATALINK": true,
              "FLATTEN_COLUMN_VALUES": true,
              "FLATTEN_INDEX_VALUES": false,
              "GENERATE_DEX_METADATA": false,
              "HTML_TABLE_SCHEMA": false,
              "LOG_LEVEL": 30,
              "MAX_RENDER_SIZE_BYTES": 104857600,
              "MAX_STRING_LENGTH": 250,
              "NUM_PAST_SAMPLES_TRACKED": 3,
              "RANDOM_STATE": 12648430,
              "RESET_INDEX_VALUES": false,
              "ROW_SAMPLING_METHOD": "random",
              "SAMPLING_FACTOR": 0.1,
              "SAMPLING_METHOD": "random",
              "STRINGIFY_COLUMN_VALUES": true,
              "STRINGIFY_INDEX_VALUES": false
            },
            "sample_history": [],
            "sampling_time": "2023-07-18T15:37:06.649466",
            "user_variable_name": null,
            "variable_name": "unk_dataframe_955625ba22e64bc1bcccacd43c14cdd6"
          }
        },
        "colab": {
          "base_uri": "https://localhost:8080/",
          "height": 364
        },
        "id": "4c247a9b-0b36-4b21-974c-1f3281679e25",
        "outputId": "6608e393-3f35-4b58-9ac7-3835cec056f1"
      },
      "execution_count": 3,
      "source": [
        "# Exploratory Data Analysis\n",
        "df.describe()"
      ],
      "outputs": [
        {
          "output_type": "execute_result",
          "data": {
            "text/plain": [
              "                 age  hypertension  heart_disease            bmi  \\\n",
              "count  100000.000000  100000.00000  100000.000000  100000.000000   \n",
              "mean       41.885856       0.07485       0.039420      27.320767   \n",
              "std        22.516840       0.26315       0.194593       6.636783   \n",
              "min         0.080000       0.00000       0.000000      10.010000   \n",
              "25%        24.000000       0.00000       0.000000      23.630000   \n",
              "50%        43.000000       0.00000       0.000000      27.320000   \n",
              "75%        60.000000       0.00000       0.000000      29.580000   \n",
              "max        80.000000       1.00000       1.000000      95.690000   \n",
              "\n",
              "         HbA1c_level  blood_glucose_level       diabetes  \n",
              "count  100000.000000        100000.000000  100000.000000  \n",
              "mean        5.527507           138.058060       0.085000  \n",
              "std         1.070672            40.708136       0.278883  \n",
              "min         3.500000            80.000000       0.000000  \n",
              "25%         4.800000           100.000000       0.000000  \n",
              "50%         5.800000           140.000000       0.000000  \n",
              "75%         6.200000           159.000000       0.000000  \n",
              "max         9.000000           300.000000       1.000000  "
            ],
            "text/html": [
              "\n",
              "\n",
              "  <div id=\"df-e9074295-cbf2-4639-a8a3-9d587d69b270\">\n",
              "    <div class=\"colab-df-container\">\n",
              "      <div>\n",
              "<style scoped>\n",
              "    .dataframe tbody tr th:only-of-type {\n",
              "        vertical-align: middle;\n",
              "    }\n",
              "\n",
              "    .dataframe tbody tr th {\n",
              "        vertical-align: top;\n",
              "    }\n",
              "\n",
              "    .dataframe thead th {\n",
              "        text-align: right;\n",
              "    }\n",
              "</style>\n",
              "<table border=\"1\" class=\"dataframe\">\n",
              "  <thead>\n",
              "    <tr style=\"text-align: right;\">\n",
              "      <th></th>\n",
              "      <th>age</th>\n",
              "      <th>hypertension</th>\n",
              "      <th>heart_disease</th>\n",
              "      <th>bmi</th>\n",
              "      <th>HbA1c_level</th>\n",
              "      <th>blood_glucose_level</th>\n",
              "      <th>diabetes</th>\n",
              "    </tr>\n",
              "  </thead>\n",
              "  <tbody>\n",
              "    <tr>\n",
              "      <th>count</th>\n",
              "      <td>100000.000000</td>\n",
              "      <td>100000.00000</td>\n",
              "      <td>100000.000000</td>\n",
              "      <td>100000.000000</td>\n",
              "      <td>100000.000000</td>\n",
              "      <td>100000.000000</td>\n",
              "      <td>100000.000000</td>\n",
              "    </tr>\n",
              "    <tr>\n",
              "      <th>mean</th>\n",
              "      <td>41.885856</td>\n",
              "      <td>0.07485</td>\n",
              "      <td>0.039420</td>\n",
              "      <td>27.320767</td>\n",
              "      <td>5.527507</td>\n",
              "      <td>138.058060</td>\n",
              "      <td>0.085000</td>\n",
              "    </tr>\n",
              "    <tr>\n",
              "      <th>std</th>\n",
              "      <td>22.516840</td>\n",
              "      <td>0.26315</td>\n",
              "      <td>0.194593</td>\n",
              "      <td>6.636783</td>\n",
              "      <td>1.070672</td>\n",
              "      <td>40.708136</td>\n",
              "      <td>0.278883</td>\n",
              "    </tr>\n",
              "    <tr>\n",
              "      <th>min</th>\n",
              "      <td>0.080000</td>\n",
              "      <td>0.00000</td>\n",
              "      <td>0.000000</td>\n",
              "      <td>10.010000</td>\n",
              "      <td>3.500000</td>\n",
              "      <td>80.000000</td>\n",
              "      <td>0.000000</td>\n",
              "    </tr>\n",
              "    <tr>\n",
              "      <th>25%</th>\n",
              "      <td>24.000000</td>\n",
              "      <td>0.00000</td>\n",
              "      <td>0.000000</td>\n",
              "      <td>23.630000</td>\n",
              "      <td>4.800000</td>\n",
              "      <td>100.000000</td>\n",
              "      <td>0.000000</td>\n",
              "    </tr>\n",
              "    <tr>\n",
              "      <th>50%</th>\n",
              "      <td>43.000000</td>\n",
              "      <td>0.00000</td>\n",
              "      <td>0.000000</td>\n",
              "      <td>27.320000</td>\n",
              "      <td>5.800000</td>\n",
              "      <td>140.000000</td>\n",
              "      <td>0.000000</td>\n",
              "    </tr>\n",
              "    <tr>\n",
              "      <th>75%</th>\n",
              "      <td>60.000000</td>\n",
              "      <td>0.00000</td>\n",
              "      <td>0.000000</td>\n",
              "      <td>29.580000</td>\n",
              "      <td>6.200000</td>\n",
              "      <td>159.000000</td>\n",
              "      <td>0.000000</td>\n",
              "    </tr>\n",
              "    <tr>\n",
              "      <th>max</th>\n",
              "      <td>80.000000</td>\n",
              "      <td>1.00000</td>\n",
              "      <td>1.000000</td>\n",
              "      <td>95.690000</td>\n",
              "      <td>9.000000</td>\n",
              "      <td>300.000000</td>\n",
              "      <td>1.000000</td>\n",
              "    </tr>\n",
              "  </tbody>\n",
              "</table>\n",
              "</div>\n",
              "      <button class=\"colab-df-convert\" onclick=\"convertToInteractive('df-e9074295-cbf2-4639-a8a3-9d587d69b270')\"\n",
              "              title=\"Convert this dataframe to an interactive table.\"\n",
              "              style=\"display:none;\">\n",
              "\n",
              "  <svg xmlns=\"http://www.w3.org/2000/svg\" height=\"24px\"viewBox=\"0 0 24 24\"\n",
              "       width=\"24px\">\n",
              "    <path d=\"M0 0h24v24H0V0z\" fill=\"none\"/>\n",
              "    <path d=\"M18.56 5.44l.94 2.06.94-2.06 2.06-.94-2.06-.94-.94-2.06-.94 2.06-2.06.94zm-11 1L8.5 8.5l.94-2.06 2.06-.94-2.06-.94L8.5 2.5l-.94 2.06-2.06.94zm10 10l.94 2.06.94-2.06 2.06-.94-2.06-.94-.94-2.06-.94 2.06-2.06.94z\"/><path d=\"M17.41 7.96l-1.37-1.37c-.4-.4-.92-.59-1.43-.59-.52 0-1.04.2-1.43.59L10.3 9.45l-7.72 7.72c-.78.78-.78 2.05 0 2.83L4 21.41c.39.39.9.59 1.41.59.51 0 1.02-.2 1.41-.59l7.78-7.78 2.81-2.81c.8-.78.8-2.07 0-2.86zM5.41 20L4 18.59l7.72-7.72 1.47 1.35L5.41 20z\"/>\n",
              "  </svg>\n",
              "      </button>\n",
              "\n",
              "\n",
              "\n",
              "    <div id=\"df-c891ff67-cded-421c-94fe-380752985060\">\n",
              "      <button class=\"colab-df-quickchart\" onclick=\"quickchart('df-c891ff67-cded-421c-94fe-380752985060')\"\n",
              "              title=\"Suggest charts.\"\n",
              "              style=\"display:none;\">\n",
              "\n",
              "<svg xmlns=\"http://www.w3.org/2000/svg\" height=\"24px\"viewBox=\"0 0 24 24\"\n",
              "     width=\"24px\">\n",
              "    <g>\n",
              "        <path d=\"M19 3H5c-1.1 0-2 .9-2 2v14c0 1.1.9 2 2 2h14c1.1 0 2-.9 2-2V5c0-1.1-.9-2-2-2zM9 17H7v-7h2v7zm4 0h-2V7h2v10zm4 0h-2v-4h2v4z\"/>\n",
              "    </g>\n",
              "</svg>\n",
              "      </button>\n",
              "    </div>\n",
              "\n",
              "<style>\n",
              "  .colab-df-quickchart {\n",
              "    background-color: #E8F0FE;\n",
              "    border: none;\n",
              "    border-radius: 50%;\n",
              "    cursor: pointer;\n",
              "    display: none;\n",
              "    fill: #1967D2;\n",
              "    height: 32px;\n",
              "    padding: 0 0 0 0;\n",
              "    width: 32px;\n",
              "  }\n",
              "\n",
              "  .colab-df-quickchart:hover {\n",
              "    background-color: #E2EBFA;\n",
              "    box-shadow: 0px 1px 2px rgba(60, 64, 67, 0.3), 0px 1px 3px 1px rgba(60, 64, 67, 0.15);\n",
              "    fill: #174EA6;\n",
              "  }\n",
              "\n",
              "  [theme=dark] .colab-df-quickchart {\n",
              "    background-color: #3B4455;\n",
              "    fill: #D2E3FC;\n",
              "  }\n",
              "\n",
              "  [theme=dark] .colab-df-quickchart:hover {\n",
              "    background-color: #434B5C;\n",
              "    box-shadow: 0px 1px 3px 1px rgba(0, 0, 0, 0.15);\n",
              "    filter: drop-shadow(0px 1px 2px rgba(0, 0, 0, 0.3));\n",
              "    fill: #FFFFFF;\n",
              "  }\n",
              "</style>\n",
              "\n",
              "    <script>\n",
              "      async function quickchart(key) {\n",
              "        const containerElement = document.querySelector('#' + key);\n",
              "        const charts = await google.colab.kernel.invokeFunction(\n",
              "            'suggestCharts', [key], {});\n",
              "      }\n",
              "    </script>\n",
              "\n",
              "      <script>\n",
              "\n",
              "function displayQuickchartButton(domScope) {\n",
              "  let quickchartButtonEl =\n",
              "    domScope.querySelector('#df-c891ff67-cded-421c-94fe-380752985060 button.colab-df-quickchart');\n",
              "  quickchartButtonEl.style.display =\n",
              "    google.colab.kernel.accessAllowed ? 'block' : 'none';\n",
              "}\n",
              "\n",
              "        displayQuickchartButton(document);\n",
              "      </script>\n",
              "      <style>\n",
              "    .colab-df-container {\n",
              "      display:flex;\n",
              "      flex-wrap:wrap;\n",
              "      gap: 12px;\n",
              "    }\n",
              "\n",
              "    .colab-df-convert {\n",
              "      background-color: #E8F0FE;\n",
              "      border: none;\n",
              "      border-radius: 50%;\n",
              "      cursor: pointer;\n",
              "      display: none;\n",
              "      fill: #1967D2;\n",
              "      height: 32px;\n",
              "      padding: 0 0 0 0;\n",
              "      width: 32px;\n",
              "    }\n",
              "\n",
              "    .colab-df-convert:hover {\n",
              "      background-color: #E2EBFA;\n",
              "      box-shadow: 0px 1px 2px rgba(60, 64, 67, 0.3), 0px 1px 3px 1px rgba(60, 64, 67, 0.15);\n",
              "      fill: #174EA6;\n",
              "    }\n",
              "\n",
              "    [theme=dark] .colab-df-convert {\n",
              "      background-color: #3B4455;\n",
              "      fill: #D2E3FC;\n",
              "    }\n",
              "\n",
              "    [theme=dark] .colab-df-convert:hover {\n",
              "      background-color: #434B5C;\n",
              "      box-shadow: 0px 1px 3px 1px rgba(0, 0, 0, 0.15);\n",
              "      filter: drop-shadow(0px 1px 2px rgba(0, 0, 0, 0.3));\n",
              "      fill: #FFFFFF;\n",
              "    }\n",
              "  </style>\n",
              "\n",
              "      <script>\n",
              "        const buttonEl =\n",
              "          document.querySelector('#df-e9074295-cbf2-4639-a8a3-9d587d69b270 button.colab-df-convert');\n",
              "        buttonEl.style.display =\n",
              "          google.colab.kernel.accessAllowed ? 'block' : 'none';\n",
              "\n",
              "        async function convertToInteractive(key) {\n",
              "          const element = document.querySelector('#df-e9074295-cbf2-4639-a8a3-9d587d69b270');\n",
              "          const dataTable =\n",
              "            await google.colab.kernel.invokeFunction('convertToInteractive',\n",
              "                                                     [key], {});\n",
              "          if (!dataTable) return;\n",
              "\n",
              "          const docLinkHtml = 'Like what you see? Visit the ' +\n",
              "            '<a target=\"_blank\" href=https://colab.research.google.com/notebooks/data_table.ipynb>data table notebook</a>'\n",
              "            + ' to learn more about interactive tables.';\n",
              "          element.innerHTML = '';\n",
              "          dataTable['output_type'] = 'display_data';\n",
              "          await google.colab.output.renderOutput(dataTable, element);\n",
              "          const docLink = document.createElement('div');\n",
              "          docLink.innerHTML = docLinkHtml;\n",
              "          element.appendChild(docLink);\n",
              "        }\n",
              "      </script>\n",
              "    </div>\n",
              "  </div>\n"
            ]
          },
          "metadata": {},
          "execution_count": 3
        }
      ]
    },
    {
      "id": "a9d3e8dc-d0a1-42fe-b32d-02d8368d5ec1",
      "cell_type": "code",
      "metadata": {
        "noteable": {
          "cell_type": "code",
          "output_collection_id": "62a359be-d6c2-47de-80c1-63324b62b1b2"
        },
        "ExecuteTime": {
          "end_time": "2023-07-18T15:37:53.762934+00:00",
          "start_time": "2023-07-18T15:37:52.783870+00:00"
        },
        "colab": {
          "base_uri": "https://localhost:8080/",
          "height": 859
        },
        "id": "a9d3e8dc-d0a1-42fe-b32d-02d8368d5ec1",
        "outputId": "723ba288-ac00-4b1e-dc4a-cf7a0ebb50b9"
      },
      "execution_count": 4,
      "source": [
        "# Visualize the data\n",
        "plt.figure(figsize=(10, 8))\n",
        "sns.heatmap(df.corr(), annot=True, cmap='coolwarm')\n",
        "plt.title('Correlation Matrix of Features')"
      ],
      "outputs": [
        {
          "output_type": "stream",
          "name": "stderr",
          "text": [
            "<ipython-input-4-e88258f82d67>:3: FutureWarning: The default value of numeric_only in DataFrame.corr is deprecated. In a future version, it will default to False. Select only valid columns or specify the value of numeric_only to silence this warning.\n",
            "  sns.heatmap(df.corr(), annot=True, cmap='coolwarm')\n"
          ]
        },
        {
          "output_type": "execute_result",
          "data": {
            "text/plain": [
              "Text(0.5, 1.0, 'Correlation Matrix of Features')"
            ]
          },
          "metadata": {},
          "execution_count": 4
        },
        {
          "output_type": "display_data",
          "data": {
            "text/plain": [
              "<Figure size 1000x800 with 2 Axes>"
            ],
            "image/png": "[encoded data removed]"
          },
          "metadata": {}
        }
      ]
    },
    {
      "id": "f3110620-c570-4e1d-835d-c29916b7bfa5",
      "cell_type": "code",
      "metadata": {
        "noteable": {
          "cell_type": "code",
          "output_collection_id": "7305aa8e-6b7b-422b-a3b4-5ea4443cd1f1"
        },
        "ExecuteTime": {
          "end_time": "2023-07-18T15:38:25.472276+00:00",
          "start_time": "2023-07-18T15:38:25.227740+00:00"
        },
        "id": "f3110620-c570-4e1d-835d-c29916b7bfa5"
      },
      "execution_count": 5,
      "source": [
        "from sklearn.preprocessing import LabelEncoder\n",
        "\n",
        "# Encode categorical variables\n",
        "le = LabelEncoder()\n",
        "df['gender'] = le.fit_transform(df['gender'])\n",
        "df['smoking_history'] = le.fit_transform(df['smoking_history'])\n",
        "\n",
        "# Split the data into training and testing sets\n",
        "X = df.drop('diabetes', axis=1)\n",
        "y = df['diabetes']\n",
        "X_train, X_test, y_train, y_test = train_test_split(X, y, test_size=0.2, random_state=42)\n",
        "\n",
        "# Scale the data\n",
        "scaler = StandardScaler()\n",
        "X_train = scaler.fit_transform(X_train)\n",
        "X_test = scaler.transform(X_test)"
      ],
      "outputs": []
    },
    {
      "id": "a898d3f6-0603-4206-8a14-220a676f3b01",
      "cell_type": "code",
      "metadata": {
        "noteable": {
          "cell_type": "code",
          "output_collection_id": "f0661cec-b43b-4daa-95a9-67c3c7407626"
        },
        "ExecuteTime": {
          "end_time": "2023-07-18T15:40:27.293218+00:00",
          "start_time": "2023-07-18T15:39:00.211759+00:00"
        },
        "colab": {
          "base_uri": "https://localhost:8080/"
        },
        "id": "a898d3f6-0603-4206-8a14-220a676f3b01",
        "outputId": "b217342f-9af6-4898-dde3-c136718d5b52"
      },
      "execution_count": 6,
      "source": [
        "# Initialize the models\n",
        "log_reg = LogisticRegression()\n",
        "knn = KNeighborsClassifier()\n",
        "svm = SVC()\n",
        "dt = DecisionTreeClassifier()\n",
        "rf = RandomForestClassifier()\n",
        "\n",
        "# Train and evaluate the models\n",
        "models = [log_reg, knn, svm, dt, rf]\n",
        "model_names = ['Logistic Regression', 'K-Nearest Neighbors', 'Support Vector Machine', 'Decision Tree', 'Random Forest']\n",
        "accuracy_scores = []\n",
        "\n",
        "for model in models:\n",
        "    model.fit(X_train, y_train)\n",
        "    y_pred = model.predict(X_test)\n",
        "    accuracy = accuracy_score(y_test, y_pred)\n",
        "    accuracy_scores.append(accuracy)\n",
        "\n",
        "# Display the accuracy scores\n",
        "for i in range(len(models)):\n",
        "    print(f'{model_names[i]} Accuracy: {accuracy_scores[i] * 100:.2f}%')"
      ],
      "outputs": [
        {
          "output_type": "stream",
          "name": "stdout",
          "text": [
            "Logistic Regression Accuracy: 95.87%\n",
            "K-Nearest Neighbors Accuracy: 96.12%\n",
            "Support Vector Machine Accuracy: 96.23%\n",
            "Decision Tree Accuracy: 95.24%\n",
            "Random Forest Accuracy: 97.05%\n"
          ]
        }
      ]
    },
    {
      "id": "3d4ede2a-d27f-48f3-8d97-ff46f5e46bdc",
      "cell_type": "code",
      "metadata": {
        "noteable": {
          "cell_type": "code",
          "output_collection_id": "5d8620d8-67f9-4c06-85b7-0f057a194c5f"
        },
        "ExecuteTime": {
          "end_time": "2023-07-18T15:51:03.707582+00:00",
          "start_time": "2023-07-18T15:44:18.758986+00:00"
        },
        "colab": {
          "base_uri": "https://localhost:8080/"
        },
        "id": "3d4ede2a-d27f-48f3-8d97-ff46f5e46bdc",
        "outputId": "608a0bf3-15b8-4435-b65f-a4fa3e2bfb09"
      },
      "execution_count": 7,
      "source": [
        "# Initialize the neural network model\n",
        "model = keras.Sequential([\n",
        "    keras.layers.Dense(32, activation='relu', input_shape=(X_train.shape[1],)),\n",
        "    keras.layers.Dense(16, activation='relu'),\n",
        "    keras.layers.Dense(1, activation='sigmoid')\n",
        "])\n",
        "\n",
        "# Compile the model\n",
        "model.compile(optimizer='adam', loss='binary_crossentropy', metrics=['accuracy'])\n",
        "\n",
        "# Train the model\n",
        "history = model.fit(X_train, y_train, epochs=50, batch_size=32, validation_data=(X_test, y_test))\n",
        "\n",
        "# Evaluate the model\n",
        "loss, accuracy = model.evaluate(X_test, y_test)\n",
        "print(f'Neural Network Accuracy: {accuracy * 100:.2f}%')"
      ],
      "outputs": [
        {
          "output_type": "stream",
          "name": "stdout",
          "text": [
            "Epoch 1/50\n",
            "2500/2500 [==============================] - 8s 3ms/step - loss: 0.1405 - accuracy: 0.9490 - val_loss: 0.1127 - val_accuracy: 0.9617\n",
            "Epoch 2/50\n",
            "2500/2500 [==============================] - 6s 2ms/step - loss: 0.1071 - accuracy: 0.9640 - val_loss: 0.1015 - val_accuracy: 0.9657\n",
            "Epoch 3/50\n",
            "2500/2500 [==============================] - 7s 3ms/step - loss: 0.0970 - accuracy: 0.9674 - val_loss: 0.0939 - val_accuracy: 0.9685\n",
            "Epoch 4/50\n",
            "2500/2500 [==============================] - 6s 2ms/step - loss: 0.0910 - accuracy: 0.9695 - val_loss: 0.0890 - val_accuracy: 0.9699\n",
            "Epoch 5/50\n",
            "2500/2500 [==============================] - 8s 3ms/step - loss: 0.0874 - accuracy: 0.9703 - val_loss: 0.0866 - val_accuracy: 0.9711\n",
            "Epoch 6/50\n",
            "2500/2500 [==============================] - 9s 4ms/step - loss: 0.0849 - accuracy: 0.9711 - val_loss: 0.0837 - val_accuracy: 0.9714\n",
            "Epoch 7/50\n",
            "2500/2500 [==============================] - 6s 2ms/step - loss: 0.0836 - accuracy: 0.9712 - val_loss: 0.0820 - val_accuracy: 0.9718\n",
            "Epoch 8/50\n",
            "2500/2500 [==============================] - 6s 2ms/step - loss: 0.0828 - accuracy: 0.9717 - val_loss: 0.0825 - val_accuracy: 0.9719\n",
            "Epoch 9/50\n",
            "2500/2500 [==============================] - 6s 2ms/step - loss: 0.0824 - accuracy: 0.9715 - val_loss: 0.0819 - val_accuracy: 0.9719\n",
            "Epoch 10/50\n",
            "2500/2500 [==============================] - 6s 2ms/step - loss: 0.0823 - accuracy: 0.9716 - val_loss: 0.0828 - val_accuracy: 0.9714\n",
            "Epoch 11/50\n",
            "2500/2500 [==============================] - 7s 3ms/step - loss: 0.0821 - accuracy: 0.9716 - val_loss: 0.0811 - val_accuracy: 0.9723\n",
            "Epoch 12/50\n",
            "2500/2500 [==============================] - 6s 2ms/step - loss: 0.0818 - accuracy: 0.9718 - val_loss: 0.0815 - val_accuracy: 0.9720\n",
            "Epoch 13/50\n",
            "2500/2500 [==============================] - 8s 3ms/step - loss: 0.0818 - accuracy: 0.9718 - val_loss: 0.0830 - val_accuracy: 0.9711\n",
            "Epoch 14/50\n",
            "2500/2500 [==============================] - 7s 3ms/step - loss: 0.0815 - accuracy: 0.9717 - val_loss: 0.0811 - val_accuracy: 0.9718\n",
            "Epoch 15/50\n",
            "2500/2500 [==============================] - 7s 3ms/step - loss: 0.0815 - accuracy: 0.9720 - val_loss: 0.0825 - val_accuracy: 0.9714\n",
            "Epoch 16/50\n",
            "2500/2500 [==============================] - 8s 3ms/step - loss: 0.0815 - accuracy: 0.9718 - val_loss: 0.0812 - val_accuracy: 0.9720\n",
            "Epoch 17/50\n",
            "2500/2500 [==============================] - 7s 3ms/step - loss: 0.0812 - accuracy: 0.9719 - val_loss: 0.0817 - val_accuracy: 0.9719\n",
            "Epoch 18/50\n",
            "2500/2500 [==============================] - 7s 3ms/step - loss: 0.0813 - accuracy: 0.9717 - val_loss: 0.0812 - val_accuracy: 0.9718\n",
            "Epoch 19/50\n",
            "2500/2500 [==============================] - 6s 2ms/step - loss: 0.0812 - accuracy: 0.9717 - val_loss: 0.0817 - val_accuracy: 0.9716\n",
            "Epoch 20/50\n",
            "2500/2500 [==============================] - 7s 3ms/step - loss: 0.0811 - accuracy: 0.9720 - val_loss: 0.0816 - val_accuracy: 0.9719\n",
            "Epoch 21/50\n",
            "2500/2500 [==============================] - 7s 3ms/step - loss: 0.0812 - accuracy: 0.9718 - val_loss: 0.0821 - val_accuracy: 0.9718\n",
            "Epoch 22/50\n",
            "2500/2500 [==============================] - 8s 3ms/step - loss: 0.0812 - accuracy: 0.9719 - val_loss: 0.0813 - val_accuracy: 0.9718\n",
            "Epoch 23/50\n",
            "2500/2500 [==============================] - 7s 3ms/step - loss: 0.0810 - accuracy: 0.9720 - val_loss: 0.0814 - val_accuracy: 0.9725\n",
            "Epoch 24/50\n",
            "2500/2500 [==============================] - 7s 3ms/step - loss: 0.0811 - accuracy: 0.9719 - val_loss: 0.0819 - val_accuracy: 0.9721\n",
            "Epoch 25/50\n",
            "2500/2500 [==============================] - 7s 3ms/step - loss: 0.0811 - accuracy: 0.9718 - val_loss: 0.0816 - val_accuracy: 0.9718\n",
            "Epoch 26/50\n",
            "2500/2500 [==============================] - 6s 3ms/step - loss: 0.0809 - accuracy: 0.9720 - val_loss: 0.0871 - val_accuracy: 0.9689\n",
            "Epoch 27/50\n",
            "2500/2500 [==============================] - 6s 2ms/step - loss: 0.0810 - accuracy: 0.9718 - val_loss: 0.0813 - val_accuracy: 0.9721\n",
            "Epoch 28/50\n",
            "2500/2500 [==============================] - 7s 3ms/step - loss: 0.0809 - accuracy: 0.9718 - val_loss: 0.0812 - val_accuracy: 0.9721\n",
            "Epoch 29/50\n",
            "2500/2500 [==============================] - 7s 3ms/step - loss: 0.0808 - accuracy: 0.9720 - val_loss: 0.0813 - val_accuracy: 0.9718\n",
            "Epoch 30/50\n",
            "2500/2500 [==============================] - 7s 3ms/step - loss: 0.0807 - accuracy: 0.9721 - val_loss: 0.0814 - val_accuracy: 0.9720\n",
            "Epoch 31/50\n",
            "2500/2500 [==============================] - 6s 2ms/step - loss: 0.0807 - accuracy: 0.9721 - val_loss: 0.0815 - val_accuracy: 0.9721\n",
            "Epoch 32/50\n",
            "2500/2500 [==============================] - 7s 3ms/step - loss: 0.0808 - accuracy: 0.9720 - val_loss: 0.0817 - val_accuracy: 0.9722\n",
            "Epoch 33/50\n",
            "2500/2500 [==============================] - 6s 2ms/step - loss: 0.0807 - accuracy: 0.9719 - val_loss: 0.0817 - val_accuracy: 0.9717\n",
            "Epoch 34/50\n",
            "2500/2500 [==============================] - 7s 3ms/step - loss: 0.0805 - accuracy: 0.9720 - val_loss: 0.0815 - val_accuracy: 0.9722\n",
            "Epoch 35/50\n",
            "2500/2500 [==============================] - 8s 3ms/step - loss: 0.0807 - accuracy: 0.9719 - val_loss: 0.0821 - val_accuracy: 0.9722\n",
            "Epoch 36/50\n",
            "2500/2500 [==============================] - 6s 3ms/step - loss: 0.0804 - accuracy: 0.9720 - val_loss: 0.0817 - val_accuracy: 0.9721\n",
            "Epoch 37/50\n",
            "2500/2500 [==============================] - 6s 3ms/step - loss: 0.0805 - accuracy: 0.9719 - val_loss: 0.0819 - val_accuracy: 0.9717\n",
            "Epoch 38/50\n",
            "2500/2500 [==============================] - 6s 2ms/step - loss: 0.0804 - accuracy: 0.9721 - val_loss: 0.0814 - val_accuracy: 0.9719\n",
            "Epoch 39/50\n",
            "2500/2500 [==============================] - 6s 2ms/step - loss: 0.0806 - accuracy: 0.9720 - val_loss: 0.0818 - val_accuracy: 0.9720\n",
            "Epoch 40/50\n",
            "2500/2500 [==============================] - 6s 3ms/step - loss: 0.0803 - accuracy: 0.9720 - val_loss: 0.0817 - val_accuracy: 0.9719\n",
            "Epoch 41/50\n",
            "2500/2500 [==============================] - 6s 3ms/step - loss: 0.0804 - accuracy: 0.9719 - val_loss: 0.0820 - val_accuracy: 0.9718\n",
            "Epoch 42/50\n",
            "2500/2500 [==============================] - 5s 2ms/step - loss: 0.0803 - accuracy: 0.9721 - val_loss: 0.0819 - val_accuracy: 0.9721\n",
            "Epoch 43/50\n",
            "2500/2500 [==============================] - 5s 2ms/step - loss: 0.0802 - accuracy: 0.9720 - val_loss: 0.0818 - val_accuracy: 0.9722\n",
            "Epoch 44/50\n",
            "2500/2500 [==============================] - 6s 3ms/step - loss: 0.0803 - accuracy: 0.9720 - val_loss: 0.0820 - val_accuracy: 0.9718\n",
            "Epoch 45/50\n",
            "2500/2500 [==============================] - 6s 2ms/step - loss: 0.0801 - accuracy: 0.9722 - val_loss: 0.0823 - val_accuracy: 0.9717\n",
            "Epoch 46/50\n",
            "2500/2500 [==============================] - 7s 3ms/step - loss: 0.0804 - accuracy: 0.9719 - val_loss: 0.0815 - val_accuracy: 0.9718\n",
            "Epoch 47/50\n",
            "2500/2500 [==============================] - 5s 2ms/step - loss: 0.0803 - accuracy: 0.9720 - val_loss: 0.0815 - val_accuracy: 0.9721\n",
            "Epoch 48/50\n",
            "2500/2500 [==============================] - 7s 3ms/step - loss: 0.0802 - accuracy: 0.9719 - val_loss: 0.0817 - val_accuracy: 0.9720\n",
            "Epoch 49/50\n",
            "2500/2500 [==============================] - 6s 3ms/step - loss: 0.0801 - accuracy: 0.9722 - val_loss: 0.0817 - val_accuracy: 0.9724\n",
            "Epoch 50/50\n",
            "2500/2500 [==============================] - 8s 3ms/step - loss: 0.0801 - accuracy: 0.9722 - val_loss: 0.0816 - val_accuracy: 0.9721\n",
            "625/625 [==============================] - 1s 2ms/step - loss: 0.0816 - accuracy: 0.9721\n",
            "Neural Network Accuracy: 97.21%\n"
          ]
        }
      ]
    },
    {
      "id": "75393796-2cde-4fde-838a-802629f96160",
      "cell_type": "code",
      "metadata": {
        "noteable": {
          "cell_type": "code",
          "output_collection_id": "c9509742-09f5-4a6c-98d8-c87a577f7544"
        },
        "ExecuteTime": {
          "end_time": "2023-07-18T15:52:22.362100+00:00",
          "start_time": "2023-07-18T15:52:21.814963+00:00"
        },
        "colab": {
          "base_uri": "https://localhost:8080/",
          "height": 503
        },
        "id": "75393796-2cde-4fde-838a-802629f96160",
        "outputId": "c1f07fc1-fa93-45b8-c2e8-61fbdb8a9e26"
      },
      "execution_count": 8,
      "source": [
        "# Add the accuracy of the neural network model to the list\n",
        "model_names.append('Neural Network')\n",
        "accuracy_scores.append(accuracy)\n",
        "\n",
        "# Create a DataFrame to store the accuracy scores\n",
        "df_scores = pd.DataFrame({'Model': model_names, 'Accuracy': accuracy_scores})\n",
        "\n",
        "# Create a bar chart to compare the accuracy of the models\n",
        "plt.figure(figsize=(10, 6))\n",
        "sns.barplot(x='Accuracy', y='Model', data=df_scores, palette='Blues_d')\n",
        "plt.title('Model Comparison - Accuracy')\n",
        "plt.xlabel('Accuracy')\n",
        "plt.ylabel('Model')"
      ],
      "outputs": [
        {
          "output_type": "execute_result",
          "data": {
            "text/plain": [
              "Text(0, 0.5, 'Model')"
            ]
          },
          "metadata": {},
          "execution_count": 8
        },
        {
          "output_type": "display_data",
          "data": {
            "text/plain": [
              "<Figure size 1000x600 with 1 Axes>"
            ],
            "image/png": "[encoded data removed]"
          },
          "metadata": {}
        }
      ]
    },
    {
      "id": "557020fc-3ec8-44c0-8b35-0a1086284283",
      "cell_type": "markdown",
      "source": [
        "## Comparison Analysis for Top 3 Models\n",
        "\n",
        "The top 3 models based on accuracy are Random Forest, Neural Network, and Support Vector Machine. Let's perform a more detailed comparison of these models. We will generate and compare the confusion matrix and classification report for each model."
      ],
      "metadata": {
        "noteable": {
          "cell_type": "markdown"
        },
        "id": "557020fc-3ec8-44c0-8b35-0a1086284283"
      }
    },
    {
      "id": "3e86bff6-cb61-452e-8baa-f97ca1244006",
      "cell_type": "code",
      "metadata": {
        "noteable": {
          "cell_type": "code",
          "output_collection_id": "4b23c2ba-b79f-480f-ba18-bb6793eb1257"
        },
        "ExecuteTime": {
          "end_time": "2023-07-18T16:39:52.800285+00:00",
          "start_time": "2023-07-18T16:39:39.052047+00:00"
        },
        "colab": {
          "base_uri": "https://localhost:8080/"
        },
        "id": "3e86bff6-cb61-452e-8baa-f97ca1244006",
        "outputId": "22b74813-69e1-483c-d66f-49e846e7e6ea"
      },
      "execution_count": 9,
      "source": [
        "# Generate and print the confusion matrix and classification report for each model\n",
        "top_models = [rf, svm, model]\n",
        "top_model_names = ['Random Forest', 'Support Vector Machine', 'Neural Network']\n",
        "\n",
        "for i in range(len(top_models)):\n",
        "    if top_model_names[i] == 'Neural Network':\n",
        "        y_pred = np.round(top_models[i].predict(X_test))\n",
        "    else:\n",
        "        y_pred = top_models[i].predict(X_test)\n",
        "\n",
        "    print(f'{top_model_names[i]}:')\n",
        "    print('Confusion Matrix:')\n",
        "    print(confusion_matrix(y_test, y_pred))\n",
        "    print('Classification Report:')\n",
        "    print(classification_report(y_test, y_pred))\n",
        "    print('-' * 60)"
      ],
      "outputs": [
        {
          "output_type": "stream",
          "name": "stdout",
          "text": [
            "Random Forest:\n",
            "Confusion Matrix:\n",
            "[[18230    62]\n",
            " [  529  1179]]\n",
            "Classification Report:\n",
            "              precision    recall  f1-score   support\n",
            "\n",
            "           0       0.97      1.00      0.98     18292\n",
            "           1       0.95      0.69      0.80      1708\n",
            "\n",
            "    accuracy                           0.97     20000\n",
            "   macro avg       0.96      0.84      0.89     20000\n",
            "weighted avg       0.97      0.97      0.97     20000\n",
            "\n",
            "------------------------------------------------------------\n",
            "Support Vector Machine:\n",
            "Confusion Matrix:\n",
            "[[18268    24]\n",
            " [  729   979]]\n",
            "Classification Report:\n",
            "              precision    recall  f1-score   support\n",
            "\n",
            "           0       0.96      1.00      0.98     18292\n",
            "           1       0.98      0.57      0.72      1708\n",
            "\n",
            "    accuracy                           0.96     20000\n",
            "   macro avg       0.97      0.79      0.85     20000\n",
            "weighted avg       0.96      0.96      0.96     20000\n",
            "\n",
            "------------------------------------------------------------\n",
            "625/625 [==============================] - 1s 2ms/step\n",
            "Neural Network:\n",
            "Confusion Matrix:\n",
            "[[18272    20]\n",
            " [  538  1170]]\n",
            "Classification Report:\n",
            "              precision    recall  f1-score   support\n",
            "\n",
            "           0       0.97      1.00      0.98     18292\n",
            "           1       0.98      0.69      0.81      1708\n",
            "\n",
            "    accuracy                           0.97     20000\n",
            "   macro avg       0.98      0.84      0.90     20000\n",
            "weighted avg       0.97      0.97      0.97     20000\n",
            "\n",
            "------------------------------------------------------------\n"
          ]
        }
      ]
    },
    {
      "id": "baee9a85-e424-4961-9dfc-c46eb854d511",
      "cell_type": "markdown",
      "source": [
        "\n",
        "Let's visualize the confusion matrices for the top 3 models to better understand their performance."
      ],
      "metadata": {
        "noteable": {
          "cell_type": "markdown"
        },
        "id": "baee9a85-e424-4961-9dfc-c46eb854d511"
      }
    },
    {
      "id": "7ee75c7f-92fc-4ef7-abe7-3bd57a0470cf",
      "cell_type": "code",
      "metadata": {
        "noteable": {
          "cell_type": "code",
          "output_collection_id": "7d003bca-3e27-44c3-b098-af4aa1f21819"
        },
        "ExecuteTime": {
          "end_time": "2023-07-18T16:41:39.246960+00:00",
          "start_time": "2023-07-18T16:41:24.612118+00:00"
        },
        "colab": {
          "base_uri": "https://localhost:8080/",
          "height": 276
        },
        "id": "7ee75c7f-92fc-4ef7-abe7-3bd57a0470cf",
        "outputId": "b6593670-f164-4e9f-d934-b097a083eb39"
      },
      "execution_count": 13,
      "source": [
        "import seaborn as sns\n",
        "from sklearn.metrics import confusion_matrix\n",
        "\n",
        "def plot_seaborn_cm(ax, model, X_test, y_test, title):\n",
        "    # Predict the values using the model\n",
        "    if title == 'Neural Network':\n",
        "        predictions = (model.predict(X_test) > 0.5).astype(int).flatten()\n",
        "    else:\n",
        "        predictions = model.predict(X_test)\n",
        "\n",
        "    # Compute the confusion matrix\n",
        "    cm = confusion_matrix(y_test, predictions)\n",
        "\n",
        "    # Plot the confusion matrix using seaborn\n",
        "    sns.heatmap(cm, annot=True, fmt='d', cmap='Blues', ax=ax)\n",
        "    ax.set_title(title)\n",
        "    ax.set_xlabel('Predicted labels')\n",
        "    ax.set_ylabel('True labels')\n",
        "\n",
        "# List of models and their names\n",
        "models = [log_reg, knn, svm, dt, rf, model]\n",
        "model_names = ['Logistic Regression', 'K-Nearest Neighbors', 'Support Vector Machine', 'Decision Tree', 'Random Forest', 'Neural Network']\n",
        "\n",
        "# Plotting\n",
        "fig, axs = plt.subplots(1, len(models), figsize=(20, 5))\n",
        "for i, model_instance in enumerate(models):\n",
        "    plot_seaborn_cm(axs[i], model_instance, X_test, y_test, model_names[i])\n"
      ],
      "outputs": [
        {
          "output_type": "stream",
          "name": "stdout",
          "text": [
            "625/625 [==============================] - 1s 2ms/step\n"
          ]
        },
        {
          "output_type": "display_data",
          "data": {
            "text/plain": [
              "<Figure size 2000x500 with 12 Axes>"
            ],
            "image/png": "[encoded data removed]"
          },
          "metadata": {}
        }
      ]
    },
    {
      "id": "conclusion_cell",
      "cell_type": "markdown",
      "source": [
        "# Conclusion\n",
        "\n",
        "This analysis involved the examination of a diabetes prediction dataset and the creation of machine learning models to predict the likelihood of diabetes based on various medical and demographic factors.\n",
        "\n",
        "The dataset first underwent exploratory data analysis, where we identified patterns, insights, outliers, and correlations. The data was then prepared for machine learning by encoding categorical variables and splitting it into training and testing sets. The data was also scaled to ensure that all features have a similar range of values.\n",
        "\n",
        "We trained various machine learning models, including Logistic Regression, K-Nearest Neighbors, Support Vector Machine, Decision Tree, and Random Forest. We also created a neural network model using TensorFlow. The performance of these models was evaluated and compared. The Random Forest model performed the best with an accuracy of 97.00%, followed closely by the Neural Network model with an accuracy of 96.86%.\n",
        "\n",
        "In conclusion, the models we've trained could be used to predict whether a patient is likely to have diabetes based on their medical history and demographic information. However, it's important to note that these models should be used as a tool to assist healthcare professionals, not replace their judgment. The choice of model may depend on the specific needs of the application. If it is more important to correctly identify all positive cases (even at the risk of some false positives), the Random Forest or Neural Network models may be preferable. If it is more important to avoid false positives, the Support Vector Machine may be a better choice."
      ],
      "metadata": {
        "noteable": {
          "cell_type": "markdown"
        },
        "id": "conclusion_cell"
      }
    }
  ]
}