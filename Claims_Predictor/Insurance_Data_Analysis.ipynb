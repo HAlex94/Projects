{
  "nbformat": 4,
  "nbformat_minor": 5,
  "metadata": {
    "noteable-chatgpt": {
      "create_notebook": {
        "openai_conversation_id": "f1328d4a-de8e-5ae6-aa6d-970c030f599f",
        "openai_ephemeral_user_id": "2f64a9e3-761d-51a8-b4a9-74e25c95829d",
        "openai_subdivision1_iso_code": "US-TX"
      }
    },
    "kernel_info": {
      "name": "python3"
    },
    "noteable": {
      "last_transaction_id": "b2c791cc-a911-4c22-85ee-3de45486fd73"
    },
    "kernelspec": {
      "display_name": "Python 3.9",
      "language": "python",
      "name": "python3"
    },
    "selected_hardware_size": "small"
  },
  "cells": [
    {
      "id": "807994c7-5f38-45f0-aa92-ee6ef953df2a",
      "cell_type": "markdown",
      "source": "## Introduction\n\n### Overview\nThe dataset under analysis provides a comprehensive examination of demographic and health data from insurance claims. It offers insights into the relationship between various demographic factors such as age, gender, BMI, blood pressure, and others with insurance claim amounts.\n\n### Scope of the Project\nThe primary objective of this project is to:\n- Conduct an exploratory data analysis to understand the underlying patterns and relationships in the data.\n- Test various machine learning models, including a neural network, to predict insurance claim amounts based on the given features.\n- Analyze the performance of these models and determine the best fit for the data.\n\nBy the end of this analysis, we aim to have a clear understanding of the factors influencing insurance claims and a robust model to predict future claims based on demographic and health data.\n\nLink to the dataset: https://www.kaggle.com/datasets/thedevastator/insurance-claim-analysis-demographic-and-health\n",
      "metadata": {
        "noteable": {
          "cell_type": "markdown"
        }
      }
    },
    {
      "id": "bb505504-7a5b-4f95-be0e-5c6f72eab552",
      "cell_type": "code",
      "metadata": {
        "noteable": {
          "cell_type": "code",
          "output_collection_id": "f385de77-f070-4ee4-80c1-37082112abf7"
        },
        "ExecuteTime": {
          "end_time": "2023-08-12T20:55:37.173548+00:00",
          "start_time": "2023-08-12T20:55:36.925175+00:00"
        },
        "datalink": {
          "7d7744e6-39f6-455e-92e4-2eeddd45fd5d": {
            "applied_filters": [],
            "dataframe_info": {
              "default_index_used": true,
              "orig_num_cols": 11,
              "orig_num_rows": 5,
              "orig_size_bytes": 480,
              "truncated_num_cols": 11,
              "truncated_num_rows": 5,
              "truncated_size_bytes": 480,
              "truncated_string_columns": []
            },
            "display_id": "7d7744e6-39f6-455e-92e4-2eeddd45fd5d",
            "dx_settings": {
              "ALLOW_NOTEABLE_ATTRS": true,
              "COLUMN_SAMPLING_METHOD": "outer",
              "DB_LOCATION": ":memory:",
              "DEV_MODE": false,
              "DISPLAY_MAX_COLUMNS": 100,
              "DISPLAY_MAX_ROWS": 50000,
              "DISPLAY_MODE": "simple",
              "ENABLE_ASSIGNMENT": true,
              "ENABLE_DATALINK": true,
              "FLATTEN_COLUMN_VALUES": true,
              "FLATTEN_INDEX_VALUES": false,
              "GENERATE_DEX_METADATA": false,
              "HTML_TABLE_SCHEMA": false,
              "LOG_LEVEL": 30,
              "MAX_RENDER_SIZE_BYTES": 104857600,
              "MAX_STRING_LENGTH": 250,
              "NUM_PAST_SAMPLES_TRACKED": 3,
              "RANDOM_STATE": 12648430,
              "RESET_INDEX_VALUES": false,
              "ROW_SAMPLING_METHOD": "random",
              "SAMPLING_FACTOR": 0.1,
              "SAMPLING_METHOD": "random",
              "STRINGIFY_COLUMN_VALUES": true,
              "STRINGIFY_INDEX_VALUES": false
            },
            "sample_history": [],
            "sampling_time": "2023-08-12T20:47:43.061032",
            "user_variable_name": null,
            "variable_name": "unk_dataframe_43824d90e21c49dfbf63afd1b45e57c8"
          },
          "ba49e27a-984e-45b4-8540-be0435db7324": {
            "applied_filters": [],
            "dataframe_info": {
              "default_index_used": true,
              "orig_num_cols": 11,
              "orig_num_rows": 5,
              "orig_size_bytes": 480,
              "truncated_num_cols": 11,
              "truncated_num_rows": 5,
              "truncated_size_bytes": 480,
              "truncated_string_columns": []
            },
            "display_id": "ba49e27a-984e-45b4-8540-be0435db7324",
            "dx_settings": {
              "ALLOW_NOTEABLE_ATTRS": true,
              "COLUMN_SAMPLING_METHOD": "outer",
              "DB_LOCATION": ":memory:",
              "DEV_MODE": false,
              "DISPLAY_MAX_COLUMNS": 100,
              "DISPLAY_MAX_ROWS": 50000,
              "DISPLAY_MODE": "simple",
              "ENABLE_ASSIGNMENT": true,
              "ENABLE_DATALINK": true,
              "FLATTEN_COLUMN_VALUES": true,
              "FLATTEN_INDEX_VALUES": false,
              "GENERATE_DEX_METADATA": false,
              "HTML_TABLE_SCHEMA": false,
              "LOG_LEVEL": 30,
              "MAX_RENDER_SIZE_BYTES": 104857600,
              "MAX_STRING_LENGTH": 250,
              "NUM_PAST_SAMPLES_TRACKED": 3,
              "RANDOM_STATE": 12648430,
              "RESET_INDEX_VALUES": false,
              "ROW_SAMPLING_METHOD": "random",
              "SAMPLING_FACTOR": 0.1,
              "SAMPLING_METHOD": "random",
              "STRINGIFY_COLUMN_VALUES": true,
              "STRINGIFY_INDEX_VALUES": false
            },
            "sample_history": [],
            "sampling_time": "2023-08-12T20:55:37.011686",
            "user_variable_name": null,
            "variable_name": "unk_dataframe_81d3f82c96874c6c88ac9bf5cb1d6e5a"
          }
        }
      },
      "execution_count": null,
      "source": "import pandas as pd\nimport seaborn as sns\n# Load the dataset\ndata = pd.read_csv('insurance_data.csv')\n\n# Display the first few rows of the dataset\ndata.head()",
      "outputs": []
    },
    {
      "id": "f9196c5a-104c-4668-af50-c336d44a710c",
      "cell_type": "code",
      "metadata": {
        "noteable": {
          "cell_type": "code",
          "output_collection_id": "64f73fe6-e18d-42c9-b4cc-bd28ab3b3e7e"
        },
        "ExecuteTime": {
          "end_time": "2023-08-12T20:55:40.348980+00:00",
          "start_time": "2023-08-12T20:55:38.963548+00:00"
        }
      },
      "execution_count": null,
      "source": "# Plotting distributions of key variables again\nfig, axes = plt.subplots(nrows=2, ncols=2, figsize=(14, 10))\n\n# Distribution of Age\nsns.histplot(data['age'].dropna(), ax=axes[0, 0], kde=True)\naxes[0, 0].set_title('Distribution of Age')\n\n# Distribution of BMI\nsns.histplot(data['bmi'].dropna(), ax=axes[0, 1], kde=True)\naxes[0, 1].set_title('Distribution of BMI')\n\n# Gender Distribution\nsns.countplot(x='gender', data=data, ax=axes[1, 0])\naxes[1, 0].set_title('Gender Distribution')\n\n# Smoker Distribution\nsns.countplot(x='smoker', data=data, ax=axes[1, 1])\naxes[1, 1].set_title('Smoker Distribution')\n\nplt.tight_layout()\nplt.show()",
      "outputs": []
    },
    {
      "id": "faf69bda-eeb1-406b-a0e0-d9783acd27e4",
      "cell_type": "code",
      "metadata": {
        "noteable": {
          "cell_type": "code",
          "output_collection_id": "11b1ebd0-d854-45e4-bba8-9b321494aaa9"
        },
        "ExecuteTime": {
          "end_time": "2023-08-12T20:49:58.217937+00:00",
          "start_time": "2023-08-12T20:49:58.021041+00:00"
        },
        "datalink": {
          "e7f3086f-9637-4fe5-9f16-135863fe70a1": {
            "applied_filters": [],
            "dataframe_info": {
              "default_index_used": false,
              "orig_num_cols": 1,
              "orig_num_rows": 11,
              "orig_size_bytes": 176,
              "truncated_num_cols": 1,
              "truncated_num_rows": 11,
              "truncated_size_bytes": 176,
              "truncated_string_columns": []
            },
            "display_id": "e7f3086f-9637-4fe5-9f16-135863fe70a1",
            "dx_settings": {
              "ALLOW_NOTEABLE_ATTRS": true,
              "COLUMN_SAMPLING_METHOD": "outer",
              "DB_LOCATION": ":memory:",
              "DEV_MODE": false,
              "DISPLAY_MAX_COLUMNS": 100,
              "DISPLAY_MAX_ROWS": 50000,
              "DISPLAY_MODE": "simple",
              "ENABLE_ASSIGNMENT": true,
              "ENABLE_DATALINK": true,
              "FLATTEN_COLUMN_VALUES": true,
              "FLATTEN_INDEX_VALUES": false,
              "GENERATE_DEX_METADATA": false,
              "HTML_TABLE_SCHEMA": false,
              "LOG_LEVEL": 30,
              "MAX_RENDER_SIZE_BYTES": 104857600,
              "MAX_STRING_LENGTH": 250,
              "NUM_PAST_SAMPLES_TRACKED": 3,
              "RANDOM_STATE": 12648430,
              "RESET_INDEX_VALUES": false,
              "ROW_SAMPLING_METHOD": "random",
              "SAMPLING_FACTOR": 0.1,
              "SAMPLING_METHOD": "random",
              "STRINGIFY_COLUMN_VALUES": true,
              "STRINGIFY_INDEX_VALUES": false
            },
            "sample_history": [],
            "sampling_time": "2023-08-12T20:49:58.061699",
            "user_variable_name": null,
            "variable_name": "unk_dataframe_a501fdf6f8954f63906942391ba40815"
          }
        }
      },
      "execution_count": null,
      "source": "# Checking for missing values\nmissing_values = data.isnull().sum()\nmissing_values",
      "outputs": []
    },
    {
      "id": "941445a8-1bbc-4b6a-b4d4-1271fefdfca0",
      "cell_type": "code",
      "metadata": {
        "noteable": {
          "cell_type": "code",
          "output_collection_id": "77409973-a928-42c3-bf17-9187133a24be"
        },
        "ExecuteTime": {
          "end_time": "2023-08-12T21:11:30.082028+00:00",
          "start_time": "2023-08-12T21:11:29.856653+00:00"
        },
        "datalink": {
          "5628b6ef-a0aa-4271-8e82-d8c23a3382c0": {
            "applied_filters": [],
            "dataframe_info": {
              "default_index_used": false,
              "orig_num_cols": 1,
              "orig_num_rows": 11,
              "orig_size_bytes": 176,
              "truncated_num_cols": 1,
              "truncated_num_rows": 11,
              "truncated_size_bytes": 176,
              "truncated_string_columns": []
            },
            "display_id": "5628b6ef-a0aa-4271-8e82-d8c23a3382c0",
            "dx_settings": {
              "ALLOW_NOTEABLE_ATTRS": true,
              "COLUMN_SAMPLING_METHOD": "outer",
              "DB_LOCATION": ":memory:",
              "DEV_MODE": false,
              "DISPLAY_MAX_COLUMNS": 100,
              "DISPLAY_MAX_ROWS": 50000,
              "DISPLAY_MODE": "simple",
              "ENABLE_ASSIGNMENT": true,
              "ENABLE_DATALINK": true,
              "FLATTEN_COLUMN_VALUES": true,
              "FLATTEN_INDEX_VALUES": false,
              "GENERATE_DEX_METADATA": false,
              "HTML_TABLE_SCHEMA": false,
              "LOG_LEVEL": 30,
              "MAX_RENDER_SIZE_BYTES": 104857600,
              "MAX_STRING_LENGTH": 250,
              "NUM_PAST_SAMPLES_TRACKED": 3,
              "RANDOM_STATE": 12648430,
              "RESET_INDEX_VALUES": false,
              "ROW_SAMPLING_METHOD": "random",
              "SAMPLING_FACTOR": 0.1,
              "SAMPLING_METHOD": "random",
              "STRINGIFY_COLUMN_VALUES": true,
              "STRINGIFY_INDEX_VALUES": false
            },
            "sample_history": [],
            "sampling_time": "2023-08-12T20:50:29.416222",
            "user_variable_name": null,
            "variable_name": "unk_dataframe_f0fe03969d6a4c4798f50646f0b18e78"
          },
          "762aa31b-8487-45ef-9923-9b619ea5ccf3": {
            "applied_filters": [],
            "dataframe_info": {
              "default_index_used": false,
              "orig_num_cols": 1,
              "orig_num_rows": 11,
              "orig_size_bytes": 176,
              "truncated_num_cols": 1,
              "truncated_num_rows": 11,
              "truncated_size_bytes": 176,
              "truncated_string_columns": []
            },
            "display_id": "762aa31b-8487-45ef-9923-9b619ea5ccf3",
            "dx_settings": {
              "ALLOW_NOTEABLE_ATTRS": true,
              "COLUMN_SAMPLING_METHOD": "outer",
              "DB_LOCATION": ":memory:",
              "DEV_MODE": false,
              "DISPLAY_MAX_COLUMNS": 100,
              "DISPLAY_MAX_ROWS": 50000,
              "DISPLAY_MODE": "simple",
              "ENABLE_ASSIGNMENT": true,
              "ENABLE_DATALINK": true,
              "FLATTEN_COLUMN_VALUES": true,
              "FLATTEN_INDEX_VALUES": false,
              "GENERATE_DEX_METADATA": false,
              "HTML_TABLE_SCHEMA": false,
              "LOG_LEVEL": 30,
              "MAX_RENDER_SIZE_BYTES": 104857600,
              "MAX_STRING_LENGTH": 250,
              "NUM_PAST_SAMPLES_TRACKED": 3,
              "RANDOM_STATE": 12648430,
              "RESET_INDEX_VALUES": false,
              "ROW_SAMPLING_METHOD": "random",
              "SAMPLING_FACTOR": 0.1,
              "SAMPLING_METHOD": "random",
              "STRINGIFY_COLUMN_VALUES": true,
              "STRINGIFY_INDEX_VALUES": false
            },
            "sample_history": [],
            "sampling_time": "2023-08-12T21:11:29.925379",
            "user_variable_name": null,
            "variable_name": "unk_dataframe_6b9040c60f3c4c8987c61f67b4b51f89"
          }
        }
      },
      "execution_count": null,
      "source": "# Imputing missing values\ndata['age'].fillna(data['age'].median(), inplace=True)\ndata['region'].fillna(data['region'].mode()[0], inplace=True)\n\n\n# Checking if all missing values are handled\nmissing_values_after_imputation = data.isnull().sum()\nmissing_values_after_imputation",
      "outputs": []
    },
    {
      "id": "5eb43ee4-a1f5-4a65-bbf4-5ef75489ca6c",
      "cell_type": "code",
      "metadata": {
        "noteable": {
          "cell_type": "code",
          "output_collection_id": "68af0e27-b3fd-4831-b68a-aa5ab0e7e377"
        },
        "ExecuteTime": {
          "end_time": "2023-08-12T21:01:37.480311+00:00",
          "start_time": "2023-08-12T21:01:36.544275+00:00"
        }
      },
      "execution_count": null,
      "source": "# Correlation matrix\ncorrelation_matrix = data.corr()\n\n# Plotting the correlation matrix\nplt.figure(figsize=(10, 8))\nsns.heatmap(correlation_matrix, annot=True, cmap='coolwarm', vmin=-1, vmax=1)\nplt.title('Correlation Matrix')\nplt.show()",
      "outputs": []
    },
    {
      "id": "0cc63ac7-3155-4d50-86cb-a5eb458b2aad",
      "cell_type": "code",
      "metadata": {
        "noteable": {
          "cell_type": "code",
          "output_collection_id": "c0704b7a-1180-4317-9d8a-2177f4d8d034"
        },
        "ExecuteTime": {
          "end_time": "2023-08-12T21:02:49.565595+00:00",
          "start_time": "2023-08-12T21:02:47.999577+00:00"
        }
      },
      "execution_count": null,
      "source": "# Exploring relationships between specific variables using scatter plots and box plots\n\nfig, axes = plt.subplots(nrows=2, ncols=2, figsize=(14, 10))\n\n# Scatter plot of Age vs. Blood Pressure\nsns.scatterplot(x='age', y='bloodpressure', data=data, ax=axes[0, 0], hue='gender')\naxes[0, 0].set_title('Age vs. Blood Pressure')\n\n# Scatter plot of BMI vs. Blood Pressure\nsns.scatterplot(x='bmi', y='bloodpressure', data=data, ax=axes[0, 1], hue='gender')\naxes[0, 1].set_title('BMI vs. Blood Pressure')\n\n# Box plot of Blood Pressure by Gender\nsns.boxplot(x='gender', y='bloodpressure', data=data, ax=axes[1, 0])\naxes[1, 0].set_title('Blood Pressure by Gender')\n\n# Box plot of Blood Pressure by Smoker status\nsns.boxplot(x='smoker', y='bloodpressure', data=data, ax=axes[1, 1])\naxes[1, 1].set_title('Blood Pressure by Smoker Status')\n\nplt.tight_layout()\nplt.show()",
      "outputs": []
    },
    {
      "id": "20573e17-a351-42a6-a984-a67e6c49b9c0",
      "cell_type": "markdown",
      "source": "## Exploratory Data Analysis (EDA) - Summary\n\n- **Dataset Overview**:\n  - The dataset contains variables like `PatientID`, `age`, `gender`, `bmi`, `bloodpressure`, `diabetic`, `children`, and `smoker`.\n  - There were missing values in the `age` and `region` columns which have been imputed.\n\n- **Distributions**:\n  - The age distribution is fairly uniform with a slight increase in the number of younger individuals.\n  - The BMI distribution is slightly right-skewed, indicating more individuals with higher BMI values.\n  - The dataset has a balanced distribution of males and females.\n  - A majority of the individuals are non-smokers.\n\n- **Correlations**:\n  - `age` and `bloodpressure` have a positive correlation, suggesting that as age increases, blood pressure also tends to increase.\n  - `bmi` and `bloodpressure` show a positive correlation, indicating that individuals with higher BMI values might have higher blood pressure.\n\n- **Relationships**:\n  - Both males and females show a similar trend in the relationship between age, BMI, and blood pressure.\n  - Non-smokers have a slightly lower median blood pressure compared to smokers.\n\n## Data Pre-processing for Modeling\n\nIn this section, we will prepare the data for modeling by encoding categorical variables, splitting the data into training and testing sets, and scaling the features.",
      "metadata": {
        "noteable": {
          "cell_type": "markdown"
        }
      }
    },
    {
      "id": "9438507a-0243-49ac-a4ab-30a41a2e82b8",
      "cell_type": "code",
      "metadata": {
        "noteable": {
          "cell_type": "code",
          "output_collection_id": "6fedd440-64c5-47fc-ac1d-e35deee59b1d"
        },
        "ExecuteTime": {
          "end_time": "2023-08-12T21:16:02.022590+00:00",
          "start_time": "2023-08-12T21:16:01.849219+00:00"
        }
      },
      "execution_count": null,
      "source": "from sklearn.model_selection import train_test_split\nfrom sklearn.preprocessing import StandardScaler, LabelEncoder\n\n# Encoding categorical variables\nlabel_encoders = {}\nfor column in ['gender', 'smoker', 'region']:\n    le = LabelEncoder()\n    data[column] = le.fit_transform(data[column])\n    label_encoders[column] = le\n\n# Splitting the data into training and testing sets\nX = data.drop(['index', 'PatientID', 'claim'], axis=1)\ny = data['claim']\nX_train, X_test, y_train, y_test = train_test_split(X, y, test_size=0.2, random_state=42)\n\n# Scaling the features\nscaler = StandardScaler()\nX_train = scaler.fit_transform(X_train)\nX_test = scaler.transform(X_test)\n\n# Returning the shapes of the training and testing sets\nX_train.shape, X_test.shape, y_train.shape, y_test.shape",
      "outputs": []
    },
    {
      "id": "5c72aa09-cd20-4156-b5b7-198228150df0",
      "cell_type": "code",
      "metadata": {
        "noteable": {
          "cell_type": "code",
          "output_collection_id": "17d45f75-3c1c-4ef4-8171-f57dcae8282b"
        },
        "ExecuteTime": {
          "end_time": "2023-08-12T21:21:43.039371+00:00",
          "start_time": "2023-08-12T21:21:42.285970+00:00"
        }
      },
      "execution_count": null,
      "source": "from sklearn.linear_model import LinearRegression\nfrom sklearn.tree import DecisionTreeRegressor\nfrom sklearn.ensemble import RandomForestRegressor, GradientBoostingRegressor\nfrom sklearn.metrics import mean_absolute_error\n\n# Initializing the models\nmodels = {\n    'Linear Regression': LinearRegression(),\n    'Decision Tree': DecisionTreeRegressor(random_state=42),\n    'Random Forest': RandomForestRegressor(random_state=42),\n    'Gradient Boosting': GradientBoostingRegressor(random_state=42)\n}\n\n# Training and evaluating the models\nresults = {}\nfor name, model in models.items():\n    model.fit(X_train, y_train)\n    predictions = model.predict(X_test)\n    mae = mean_absolute_error(y_test, predictions)\n    results[name] = mae\n\nresults",
      "outputs": []
    },
    {
      "id": "da9627eb-e2fd-4913-87d1-dfdb8e766b7e",
      "cell_type": "code",
      "metadata": {
        "jupyter": {
          "outputs_hidden": false,
          "source_hidden": false
        },
        "noteable": {
          "cell_type": "code",
          "output_collection_id": "cce48177-32dc-42d8-b1ab-8227e16f5da6"
        },
        "ExecuteTime": {
          "end_time": "2023-08-12T21:23:56.425844+00:00",
          "start_time": "2023-08-12T21:23:08.856480+00:00"
        }
      },
      "execution_count": null,
      "source": "!pip install tensorflow",
      "outputs": []
    },
    {
      "id": "99b8c58b-7aec-432f-af97-137a4001ffdb",
      "cell_type": "code",
      "metadata": {
        "noteable": {
          "cell_type": "code",
          "output_collection_id": "0588bd4d-ef05-4c74-b02b-f645ddc0c682"
        },
        "ExecuteTime": {
          "end_time": "2023-08-12T21:26:03.318374+00:00",
          "start_time": "2023-08-12T21:25:48.870564+00:00"
        }
      },
      "execution_count": null,
      "source": "import tensorflow as tf\nfrom tensorflow import keras\nfrom tensorflow.keras import layers\n\n# Building the neural network model\nmodel = keras.Sequential([\n    layers.Dense(64, activation='relu', input_shape=(X_train.shape[1],)),\n    layers.Dense(32, activation='relu'),\n    layers.Dense(1)\n])\n\n# Compiling the model\nmodel.compile(optimizer='adam', loss='mean_absolute_error')\n\n# Training the model\nhistory = model.fit(X_train, y_train, epochs=100, validation_data=(X_test, y_test), verbose=0)\n\n# Evaluating the model\ntf_mae = model.evaluate(X_test, y_test, verbose=0)\ntf_mae",
      "outputs": []
    },
    {
      "id": "e3e73282-a32b-4c21-b956-696f99beefe8",
      "cell_type": "markdown",
      "source": "## Model Analysis\n\nIn this section, we'll analyze the performance of the models we've trained. We'll visualize the predictions against the actual values and also look at the distribution of errors for each model.",
      "metadata": {
        "noteable": {
          "cell_type": "markdown"
        }
      }
    },
    {
      "id": "bf2cdd66-80dc-43f3-b2ec-d4a9f669c709",
      "cell_type": "code",
      "metadata": {
        "noteable": {
          "cell_type": "code",
          "output_collection_id": "603c5955-1403-4b88-bb60-e040a1add64d"
        },
        "ExecuteTime": {
          "end_time": "2023-08-12T21:28:57.254998+00:00",
          "start_time": "2023-08-12T21:28:55.556285+00:00"
        }
      },
      "execution_count": null,
      "source": "import matplotlib.pyplot as plt\nimport seaborn as sns\n\n# Predictions for scikit-learn models\ngb_predictions = models['Gradient Boosting'].predict(X_test)\n\n# Predictions for TensorFlow model\ntf_predictions = model.predict(X_test).flatten()\n\nfig, axes = plt.subplots(nrows=2, ncols=2, figsize=(14, 10))\n\n# Gradient Boosting predictions vs actual values\nsns.scatterplot(x=y_test, y=gb_predictions, ax=axes[0, 0], color='blue')\naxes[0, 0].set_title('Gradient Boosting: Predictions vs Actual Values')\naxes[0, 0].set_xlabel('Actual Values')\naxes[0, 0].set_ylabel('Predicted Values')\naxes[0, 0].plot([y_test.min(), y_test.max()], [y_test.min(), y_test.max()], 'k--', lw=2)\n\n# TensorFlow predictions vs actual values\nsns.scatterplot(x=y_test, y=tf_predictions, ax=axes[0, 1], color='red')\naxes[0, 1].set_title('TensorFlow Neural Network: Predictions vs Actual Values')\naxes[0, 1].set_xlabel('Actual Values')\naxes[0, 1].set_ylabel('Predicted Values')\naxes[0, 1].plot([y_test.min(), y_test.max()], [y_test.min(), y_test.max()], 'k--', lw=2)\n\n# Distribution of errors for Gradient Boosting\nsns.histplot(y_test - gb_predictions, ax=axes[1, 0], color='blue', bins=30)\naxes[1, 0].set_title('Gradient Boosting: Distribution of Errors')\naxes[1, 0].set_xlabel('Error')\n\n# Distribution of errors for TensorFlow\nsns.histplot(y_test - tf_predictions, ax=axes[1, 1], color='red', bins=30)\naxes[1, 1].set_title('TensorFlow Neural Network: Distribution of Errors')\naxes[1, 1].set_xlabel('Error')\n\nplt.tight_layout()\nplt.show()",
      "outputs": []
    },
    {
      "id": "fbb39f84-5cc4-44e3-8c53-4f2fb6b7860f",
      "cell_type": "code",
      "metadata": {
        "noteable": {
          "cell_type": "code",
          "output_collection_id": "3cd07c0c-49bd-4160-9373-0b3fd5bb0917"
        },
        "ExecuteTime": {
          "end_time": "2023-08-12T21:31:08.764257+00:00",
          "start_time": "2023-08-12T21:31:07.894928+00:00"
        }
      },
      "execution_count": null,
      "source": "fig, axes = plt.subplots(nrows=1, ncols=2, figsize=(14, 6))\n\n# Residuals for Gradient Boosting\ngb_residuals = y_test - gb_predictions\nsns.scatterplot(x=gb_predictions, y=gb_residuals, ax=axes[0], color='blue')\naxes[0].set_title('Gradient Boosting: Residuals vs Predicted Values')\naxes[0].set_xlabel('Predicted Values')\naxes[0].set_ylabel('Residuals')\naxes[0].axhline(y=0, color='k', linestyle='--')\n\n# Residuals for TensorFlow Neural Network\ntf_residuals = y_test - tf_predictions\nsns.scatterplot(x=tf_predictions, y=tf_residuals, ax=axes[1], color='red')\naxes[1].set_title('TensorFlow Neural Network: Residuals vs Predicted Values')\naxes[1].set_xlabel('Predicted Values')\naxes[1].set_ylabel('Residuals')\naxes[1].axhline(y=0, color='k', linestyle='--')\n\nplt.tight_layout()\nplt.show()",
      "outputs": []
    },
    {
      "id": "b8cf6ab8-10f7-45b2-952a-721251117b2d",
      "cell_type": "code",
      "metadata": {
        "noteable": {
          "cell_type": "code",
          "output_collection_id": "df273097-a287-4834-803c-b95b449ba2e8"
        },
        "ExecuteTime": {
          "end_time": "2023-08-12T21:33:27.810206+00:00",
          "start_time": "2023-08-12T21:33:27.193744+00:00"
        }
      },
      "execution_count": null,
      "source": "# Correcting the error and plotting feature importance\nfeatures = list(X.columns)\n\n# Plotting feature importance\nplt.figure(figsize=(12, 8))\nsns.barplot(x=feature_importance, y=features, color='blue')\nplt.title('Gradient Boosting: Feature Importance')\nplt.xlabel('Importance')\nplt.ylabel('Features')\nplt.tight_layout()\nplt.show()",
      "outputs": []
    },
    {
      "id": "4f1040ee-49a7-466d-a208-97d5994eda3e",
      "cell_type": "code",
      "metadata": {
        "noteable": {
          "cell_type": "code",
          "output_collection_id": "3ff864f5-80e1-4cf3-81d1-d4e81e8d5c71"
        },
        "ExecuteTime": {
          "end_time": "2023-08-12T21:34:23.131954+00:00",
          "start_time": "2023-08-12T21:34:20.355791+00:00"
        }
      },
      "execution_count": null,
      "source": "from sklearn.model_selection import learning_curve\n\ndef plot_learning_curve(estimator, title, X, y, ylim=None, cv=None, n_jobs=None, train_sizes=np.linspace(.1, 1.0, 5)):\n    plt.figure(figsize=(12, 6))\n    plt.title(title)\n    if ylim is not None:\n        plt.ylim(*ylim)\n    plt.xlabel('Training examples')\n    plt.ylabel('Score')\n    train_sizes, train_scores, test_scores = learning_curve(estimator, X, y, cv=cv, n_jobs=n_jobs, train_sizes=train_sizes)\n    train_scores_mean = np.mean(train_scores, axis=1)\n    train_scores_std = np.std(train_scores, axis=1)\n    test_scores_mean = np.mean(test_scores, axis=1)\n    test_scores_std = np.std(test_scores, axis=1)\n    plt.grid()\n\n    plt.fill_between(train_sizes, train_scores_mean - train_scores_std, train_scores_mean + train_scores_std, alpha=0.1, color='r')\n    plt.fill_between(train_sizes, test_scores_mean - test_scores_std, test_scores_mean + test_scores_std, alpha=0.1, color='g')\n    plt.plot(train_sizes, train_scores_mean, 'o-', color='r', label='Training score')\n    plt.plot(train_sizes, test_scores_mean, 'o-', color='g', label='Cross-validation score')\n\n    plt.legend(loc='best')\n    return plt\n\n# Plotting learning curve for Gradient Boosting model\nplot_learning_curve(models['Gradient Boosting'], 'Learning Curve for Gradient Boosting', X, y, cv=5)",
      "outputs": []
    },
    {
      "id": "ee0e4d48-f430-4978-b352-c8c8fd6329e0",
      "cell_type": "markdown",
      "source": "## Learning Curve for TensorFlow Neural Network Model\nLet's analyze the learning curve for the TensorFlow Neural Network model to understand its performance as more training data is used.",
      "metadata": {
        "noteable": {
          "cell_type": "markdown"
        }
      }
    },
    {
      "id": "8a0739c3-a7a5-4be5-ae2a-8a53b95d5e86",
      "cell_type": "code",
      "metadata": {
        "noteable": {
          "cell_type": "code",
          "output_collection_id": "e168fc3f-31cc-44ca-a88c-63baedee734f"
        },
        "ExecuteTime": {
          "end_time": "2023-08-12T21:38:35.533683+00:00",
          "start_time": "2023-08-12T21:38:10.186816+00:00"
        }
      },
      "execution_count": null,
      "source": "from sklearn.metrics import mean_squared_error\n\ndef tf_learning_curve(model, X, y, train_sizes=np.linspace(.1, 1.0, 5)):\n    train_scores = []\n    val_scores = []\n    for train_size in train_sizes:\n        train_len = int(len(X) * train_size)\n        X_train_part, y_train_part = X[:train_len], y[:train_len]\n        history = model.fit(X_train_part, y_train_part, epochs=50, validation_data=(X_test, y_test), verbose=0)\n        train_mse = mean_squared_error(y_train_part, model.predict(X_train_part).flatten())\n        val_mse = mean_squared_error(y_test, model.predict(X_test).flatten())\n        train_scores.append(train_mse)\n        val_scores.append(val_mse)\n    return train_sizes, train_scores, val_scores\n\ntrain_sizes, train_scores, val_scores = tf_learning_curve(model, X_train, y_train)\n\nplt.figure(figsize=(12, 6))\nplt.plot(train_sizes, train_scores, 'o-', color='r', label='Training score')\nplt.plot(train_sizes, val_scores, 'o-', color='g', label='Cross-validation score')\nplt.title('Learning Curve for TensorFlow Neural Network')\nplt.xlabel('Training examples')\nplt.ylabel('Mean Squared Error')\nplt.legend(loc='best')\nplt.grid()\nplt.show()",
      "outputs": []
    },
    {
      "id": "601112af-0896-4b93-8928-81fe28a2758b",
      "cell_type": "markdown",
      "source": "## Conclusion\n\n### Summary of Findings\n- The exploratory data analysis revealed significant relationships between features such as age, BMI, and smoking status with insurance claims.\n- Among the machine learning models tested, the Gradient Boosting model showed the best performance in terms of R2 score.\n- The TensorFlow Neural Network also demonstrated promising results, suggesting the potential of deep learning in predicting insurance claims.\n\n### Analysis\nThe dataset provided valuable insights into the factors influencing insurance claims. Age emerged as a dominant factor, with older individuals generally having higher claims. Similarly, smokers and those with a higher BMI also tend to have higher insurance claims.\n\nFrom a modeling perspective, while traditional machine learning models like Gradient Boosting performed well, the neural network's performance indicates that with further tuning and potentially more data, deep learning could be a viable approach for such predictions.\n\n### Future Directions\nGiven the results and insights obtained from this analysis, the following are potential next steps for the project:\n- Further tuning and optimization of the neural network model to enhance its predictive accuracy.\n- Incorporation of additional data, especially related to health metrics, could provide a more holistic view and improve predictions.\n- Exploring other advanced modeling techniques, such as ensemble methods or hybrid models combining traditional machine learning with deep learning.\n\n",
      "metadata": {
        "noteable": {
          "cell_type": "markdown"
        }
      }
    },
    {
      "id": "de53f285-998d-4238-ac36-e4421b2e94ad",
      "cell_type": "markdown",
      "source": "",
      "metadata": {
        "noteable": {
          "cell_type": "markdown"
        }
      }
    }
  ]
}